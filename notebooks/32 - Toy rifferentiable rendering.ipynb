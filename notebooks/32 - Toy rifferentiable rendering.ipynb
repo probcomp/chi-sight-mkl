{
 "cells": [
  {
   "cell_type": "code",
   "execution_count": 3,
   "metadata": {},
   "outputs": [],
   "source": [
    "%load_ext autoreload\n",
    "%autoreload 2"
   ]
  },
  {
   "cell_type": "code",
   "execution_count": 5,
   "metadata": {},
   "outputs": [],
   "source": [
    "import jax.numpy as jnp\n",
    "import jax\n",
    "from jax import jit, vmap\n",
    "import numpy as np\n",
    "import genjax\n",
    "import trimesh\n",
    "import matplotlib.pyplot as plt\n",
    "\n",
    "from jax import grad, jacfwd, jacrev\n",
    "\n",
    "#|export\n",
    "from jax.scipy.spatial.transform import Rotation\n",
    "from scipy.stats import truncnorm as scipy_truncnormal\n",
    "\n",
    "normal_logpdf    = jax.scipy.stats.norm.logpdf\n",
    "normal_pdf       = jax.scipy.stats.norm.pdf\n",
    "truncnorm_logpdf = jax.scipy.stats.truncnorm.logpdf\n",
    "truncnorm_pdf    = jax.scipy.stats.truncnorm.pdf\n",
    "\n",
    "inv       = jnp.linalg.inv\n",
    "logaddexp = jnp.logaddexp\n",
    "logsumexp = jax.scipy.special.logsumexp\n",
    "\n",
    "key = jax.random.PRNGKey(0)"
   ]
  },
  {
   "cell_type": "code",
   "execution_count": 6,
   "metadata": {},
   "outputs": [],
   "source": [
    "def generic_viewpoint(key, cam, n, sig_x, sig_hd):\n",
    "    \"\"\"Generates generix camera poses by varying its xy-coordinates and angle (in the xy-plane).\"\"\"\n",
    "    \n",
    "    # TODO: Make a version that varies rot and pitch and potentially roll.\n",
    "    \n",
    "    _, keys = keysplit(key,1,2)\n",
    "\n",
    "    # Generic position\n",
    "    xs = sig_x*jax.random.normal(keys[1], (n,3))\n",
    "    xs = xs.at[0,:].set(0.0)\n",
    "    xs = xs.at[:,2].set(0.0)\n",
    "\n",
    "    # Generic rotation\n",
    "    hds = sig_hd*jax.random.normal(keys[0], (n,))\n",
    "    hds = hds.at[0].set(0.0)\n",
    "    rs = vmap(Rotation.from_euler, (None,0))(\"y\", hds)\n",
    "    rs = Rotation.as_matrix(rs)\n",
    "    \n",
    "    # Generic camera poses\n",
    "    ps = vmap(pack_pose)(xs, rs)\n",
    "    ps = cam@ps\n",
    "\n",
    "    # Generic weights\n",
    "    logps_hd = normal_logpdf(hds, loc=0.0, scale=sig_hd)\n",
    "    logps_x  = normal_logpdf( xs, loc=0.0, scale=sig_x).sum(-1)\n",
    "    logps    = logps_hd + logps_x\n",
    "\n",
    "    return ps, logps\n"
   ]
  },
  {
   "cell_type": "code",
   "execution_count": 7,
   "metadata": {},
   "outputs": [],
   "source": [
    "def generic_contact(key, p0, n, sig_x, sig_hd):\n",
    "\n",
    "    _, keys = keysplit(key,1,2)\n",
    "\n",
    "    # Generic contact-pose vector\n",
    "    xs  = sig_x*jax.random.normal(keys[1], (n,3))\n",
    "    xs  = xs.at[:,2].set(0.0)\n",
    "    xs  = xs.at[0,:].set(0.0)\n",
    "\n",
    "    hds = sig_hd*jax.random.normal(keys[0], (n,1))\n",
    "    hds = hds.at[0,:].set(0.0)\n",
    "    rs = vmap(Rotation.from_euler, (None,0))(\"z\", hds)\n",
    "    rs = Rotation.as_matrix(rs)\n",
    "    \n",
    "    # Generic camera poses\n",
    "    ps = vmap(pack_pose)(xs, rs)\n",
    "    # vs  = jnp.concatenate([xs, hds], axis=1)\n",
    "\n",
    "    # Generic weights\n",
    "    logps_hd = normal_logpdf(hds[:,0], loc=0.0, scale=sig_hd)\n",
    "    logps_x  = normal_logpdf (xs, loc=0.0, scale=sig_x).sum(-1)\n",
    "    logps    = logps_hd + logps_x\n",
    "\n",
    "    # Generic object pose\n",
    "    generic_ps = p0@ps\n",
    "\n",
    "    return generic_ps, logps\n",
    "\n"
   ]
  },
  {
   "cell_type": "code",
   "execution_count": null,
   "metadata": {},
   "outputs": [],
   "source": []
  }
 ],
 "metadata": {
  "kernelspec": {
   "display_name": "chi",
   "language": "python",
   "name": "python3"
  },
  "language_info": {
   "codemirror_mode": {
    "name": "ipython",
    "version": 3
   },
   "file_extension": ".py",
   "mimetype": "text/x-python",
   "name": "python",
   "nbconvert_exporter": "python",
   "pygments_lexer": "ipython3",
   "version": "3.10.13"
  }
 },
 "nbformat": 4,
 "nbformat_minor": 2
}
