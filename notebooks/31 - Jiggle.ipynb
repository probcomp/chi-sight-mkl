{
 "cells": [
  {
   "cell_type": "code",
   "execution_count": 4,
   "metadata": {},
   "outputs": [
    {
     "name": "stdout",
     "output_type": "stream",
     "text": [
      "The autoreload extension is already loaded. To reload it, use:\n",
      "  %reload_ext autoreload\n"
     ]
    }
   ],
   "source": [
    "%load_ext autoreload\n",
    "%autoreload 2"
   ]
  },
  {
   "cell_type": "code",
   "execution_count": 5,
   "metadata": {},
   "outputs": [],
   "source": [
    "import jax\n",
    "import jax.numpy as jnp\n",
    "from   jax import jit, vmap\n",
    "import bayes3d as b3d\n",
    "import genjax\n",
    "from   genjax import gen, choice_map, vector_choice_map\n",
    "from   genjax._src.core.transforms.incremental import UnknownChange, NoChange, Diff\n",
    "import matplotlib.pyplot as plt\n",
    "from   matplotlib.collections import LineCollection\n",
    "import numpy as np\n",
    "import trimesh\n",
    "from functools import partial\n",
    "from pathlib import Path\n",
    "import os\n",
    "\n",
    "key = jax.random.PRNGKey(0)"
   ]
  },
  {
   "cell_type": "code",
   "execution_count": 106,
   "metadata": {},
   "outputs": [],
   "source": [
    "from xsight.utils import *\n",
    "from xsight.meshes import Viewer\n",
    "from xsight.pose import pack_pose, unpack_pose, CAM_ALONG_X, from_euler\n",
    "from jax.scipy.spatial.transform import Rotation"
   ]
  },
  {
   "cell_type": "code",
   "execution_count": 55,
   "metadata": {},
   "outputs": [],
   "source": [
    "n = 100\n",
    "key, keys = keysplit(key,1,2)\n",
    "qs = 0.1*jax.random.normal(keys[0], (n,4))\n",
    "qs = qs.at[:,3].set(1.0)\n",
    "xs = 0.1*jax.random.normal(keys[1], (n,3))"
   ]
  },
  {
   "cell_type": "code",
   "execution_count": 59,
   "metadata": {},
   "outputs": [
    {
     "data": {
      "application/vnd.jupyter.widget-view+json": {
       "model_id": "f193f6b5aeff429983cd5434ec74d273",
       "version_major": 2,
       "version_minor": 0
      },
      "text/plain": [
       "Renderer(camera=PerspectiveCamera(aspect=1.5, children=(DirectionalLight(color='white', intensity=0.6, positio…"
      ]
     },
     "execution_count": 59,
     "metadata": {},
     "output_type": "execute_result"
    }
   ],
   "source": [
    " v = Viewer(background=\"#ccc\")\n",
    "\n",
    "for x,r in zip(xs,Rotation.from_quat(qs).as_matrix()):\n",
    "    v.add_pose(pack_pose(x, r))\n",
    "\n",
    "v"
   ]
  },
  {
   "cell_type": "code",
   "execution_count": 60,
   "metadata": {},
   "outputs": [],
   "source": [
    "_scaling  = 1e-3\n",
    "model_dir = os.path.join(b3d.utils.get_assets_dir(),\"bop/ycbv/models\")\n",
    "\n",
    "meshes = []\n",
    "\n",
    "for idx in range(1,22):\n",
    "    mesh_path = os.path.join(model_dir,\"obj_\" + \"{}\".format(idx).rjust(6, '0') + \".ply\")\n",
    "    mesh = trimesh.load(mesh_path)\n",
    "    mesh.vertices *= _scaling \n",
    "    meshes.append(mesh)"
   ]
  },
  {
   "cell_type": "code",
   "execution_count": 62,
   "metadata": {},
   "outputs": [],
   "source": [
    "#| Set up the renderer and add the scene mesh\n",
    "def make_render_function(meshes, w=100, h=100, fx=30, fy=30, far=20, near=0.01):\n",
    "    \"\"\"\n",
    "    Create a render function from a list of meshes \n",
    "    (and camera intrinsics).\n",
    "    \"\"\"\n",
    "    intrinsics = b3d.Intrinsics(\n",
    "        width = w, height = h,\n",
    "        fx=fx, fy=fy,\n",
    "        cx=w/2 - 0.5, cy=h/2 - 0.5,\n",
    "        near=near, far=far\n",
    "    )\n",
    "    \n",
    "    b3d.setup_renderer(intrinsics)\n",
    "    for mesh in meshes:\n",
    "        b3d.RENDERER.add_mesh(mesh, center_mesh=True)\n",
    "\n",
    "\n",
    "    def render(p:\"3D Pose\", inds=[0]):\n",
    "        \"\"\"\n",
    "        Render a rendered image from a fixed scene that this is closed over.\n",
    "        The image is made up off 4 channels x,y,z, and\n",
    "        a \"semantic layer\" containing object ids.\n",
    "        \"\"\"\n",
    "        p_ = b3d.t3d.inverse_pose(p)\n",
    "        X  = b3d.RENDERER.render(jnp.tile(p_, (len(inds),1,1)), jnp.array(inds))\n",
    "        return X;\n",
    "\n",
    "    return render"
   ]
  },
  {
   "cell_type": "code",
   "execution_count": 65,
   "metadata": {},
   "outputs": [
    {
     "name": "stderr",
     "output_type": "stream",
     "text": [
      "[E rasterize_gl.cpp:121] OpenGL version reported as 4.6\n"
     ]
    },
    {
     "name": "stdout",
     "output_type": "stream",
     "text": [
      "Increasing frame buffer size to (width, height, depth) = (128, 128, 1024)\n"
     ]
    }
   ],
   "source": [
    "_far = 3.0\n",
    "intrinsics = dict(w=100,h=100, fx=150, fy=150, near=0.0001, far=_far)\n",
    "\n",
    "_render = make_render_function(meshes, **intrinsics)"
   ]
  },
  {
   "cell_type": "code",
   "execution_count": 70,
   "metadata": {},
   "outputs": [],
   "source": [
    "inv = jnp.linalg.inv"
   ]
  },
  {
   "cell_type": "code",
   "execution_count": 95,
   "metadata": {},
   "outputs": [],
   "source": []
  },
  {
   "cell_type": "code",
   "execution_count": 187,
   "metadata": {},
   "outputs": [],
   "source": [
    "def prep_im(Y, far=_far, eps=1e-6):\n",
    "    im = np.where(Y[:,:,2]>= _far - eps, jnp.inf, Y[:,:,2])\n",
    "    return im\n",
    "\n",
    "#|export\n",
    "def lift_pose(x, hd, z=0.0, pitch=0.0, roll=0.0):\n",
    "    \"\"\"Lifts a 2d pose (x,hd) to 3d\"\"\"\n",
    "    return pack_pose(\n",
    "        jnp.concatenate([x, jnp.array([z])]),\n",
    "        from_euler(hd)\n",
    "    ) \n",
    "\n",
    "render = jit(vmap(lambda cam, p, i: _render(inv(p)@cam, jnp.array([i])), (0,None,None))) "
   ]
  },
  {
   "cell_type": "code",
   "execution_count": 230,
   "metadata": {},
   "outputs": [
    {
     "name": "stdout",
     "output_type": "stream",
     "text": [
      "62.7 ms ± 0 ns per loop (mean ± std. dev. of 1 run, 1 loop each)\n"
     ]
    },
    {
     "data": {
      "text/plain": [
       "<matplotlib.image.AxesImage at 0x7f342757a1d0>"
      ]
     },
     "execution_count": 230,
     "metadata": {},
     "output_type": "execute_result"
    },
    {
     "data": {
      "image/png": "[encoded data removed]",
      "text/plain": [
       "<Figure size 640x480 with 1 Axes>"
      ]
     },
     "metadata": {},
     "output_type": "display_data"
    }
   ],
   "source": [
    "n = 10_000\n",
    "key, keys = keysplit(key,1,2)\n",
    "qs = 0.01*jax.random.normal(keys[0], (n,4))\n",
    "qs = qs.at[:,3].set(1.0)\n",
    "rs = Rotation.from_quat(qs).as_matrix()@CAM_ALONG_X\n",
    "xs = 0.001*jax.random.normal(keys[1], (n,3)) + jnp.array([-.5,0.0,0.0])\n",
    "xs = xs.at[0].set(jnp.array([-0.5,.0,.0]))\n",
    "ps = vmap(pack_pose)(xs, rs)\n",
    "\n",
    "\n",
    "Y = render(ps,lift_pose(jnp.zeros(2), -jnp.pi), 13)\n",
    "\n",
    "%timeit -n 1 -r 1 render(ps,lift_pose(jnp.zeros(2), -jnp.pi), 13);\n",
    "\n",
    "plt.imshow(prep_im(Y[0]))"
   ]
  },
  {
   "cell_type": "code",
   "execution_count": 234,
   "metadata": {},
   "outputs": [
    {
     "name": "stdout",
     "output_type": "stream",
     "text": [
      "(81,)\n"
     ]
    },
    {
     "data": {
      "image/png": "[encoded data removed]",
      "text/plain": [
       "<Figure size 640x480 with 1 Axes>"
      ]
     },
     "metadata": {},
     "output_type": "display_data"
    }
   ],
   "source": [
    "w = 4\n",
    "ys = Y[:, intrinsics[\"h\"]//2, intrinsics[\"w\"]//2, 2]\n",
    "ws = Y[0,intrinsics[\"h\"]//2-w:intrinsics[\"h\"]//2+w+1, intrinsics[\"w\"]//2-w:intrinsics[\"w\"]//2+w+1, 2].ravel()\n",
    "# bins = jnp.linspace(0.25, 0.75, 200)\n",
    "bins = jnp.linspace(0.25, 0.75, 100)\n",
    "# bins = jnp.linspace(0., _far, 70)\n",
    "print(ws.shape)\n",
    "\n",
    "plt.hist([ys,ws], bins=bins,zorder=2, density=True);\n",
    "# plt.scatter(Y[0,intrinsics[\"h\"]//2-w:intrinsics[\"h\"]//2+w+1, intrinsics[\"w\"]//2-w:intrinsics[\"w\"]//2+w+1, 2].ravel(), jnp.ones((2*w+1)**2))\n",
    "# plt.scatter(, jnp.ones((2*w+1)**2), zorder=20,c=\"r\",s=1)\n",
    "# plt.hist(ws, bins=bins,zorder=2, color=\"r\", density=True);"
   ]
  },
  {
   "cell_type": "code",
   "execution_count": null,
   "metadata": {},
   "outputs": [],
   "source": []
  }
 ],
 "metadata": {
  "kernelspec": {
   "display_name": "bayes3d",
   "language": "python",
   "name": "python3"
  },
  "language_info": {
   "codemirror_mode": {
    "name": "ipython",
    "version": 3
   },
   "file_extension": ".py",
   "mimetype": "text/x-python",
   "name": "python",
   "nbconvert_exporter": "python",
   "pygments_lexer": "ipython3",
   "version": "3.10.12"
  },
  "orig_nbformat": 4
 },
 "nbformat": 4,
 "nbformat_minor": 2
}
