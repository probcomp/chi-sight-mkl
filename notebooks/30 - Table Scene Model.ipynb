{
 "cells": [
  {
   "cell_type": "code",
   "execution_count": 1,
   "metadata": {},
   "outputs": [],
   "source": [
    "%load_ext autoreload\n",
    "%autoreload 2"
   ]
  },
  {
   "cell_type": "code",
   "execution_count": 2,
   "metadata": {},
   "outputs": [],
   "source": [
    "#|default_exp table_scene_model"
   ]
  },
  {
   "cell_type": "code",
   "execution_count": 3,
   "metadata": {},
   "outputs": [],
   "source": [
    "#|export\n",
    "import bayes3d as b3d\n",
    "import bayes3d.genjax\n",
    "import joblib\n",
    "from tqdm import tqdm\n",
    "import os\n",
    "import jax.numpy as jnp\n",
    "import jax\n",
    "import numpy as np\n",
    "import genjax\n",
    "import trimesh\n",
    "import matplotlib.pyplot as plt\n",
    "from bayes3d.genjax.genjax_distributions import *\n",
    "\n",
    "# console = genjax.pretty(show_locals=False)"
   ]
  },
  {
   "cell_type": "code",
   "execution_count": 4,
   "metadata": {},
   "outputs": [],
   "source": [
    "#|export\n",
    "from jax.scipy.spatial.transform import Rotation\n",
    "from scipy.stats import truncnorm as scipy_truncnormal\n",
    "\n",
    "normal_logpdf    = jax.scipy.stats.norm.logpdf\n",
    "normal_pdf       = jax.scipy.stats.norm.pdf\n",
    "truncnorm_logpdf = jax.scipy.stats.truncnorm.logpdf\n",
    "truncnorm_pdf    = jax.scipy.stats.truncnorm.pdf\n",
    "\n",
    "inv       = jnp.linalg.inv\n",
    "logaddexp = jnp.logaddexp\n",
    "logsumexp = jax.scipy.special.logsumexp\n",
    "\n",
    "key = jax.random.PRNGKey(0)"
   ]
  },
  {
   "cell_type": "code",
   "execution_count": 5,
   "metadata": {},
   "outputs": [],
   "source": [
    "#|export\n",
    "from xsight.utils import keysplit\n",
    "from xsight.plotting import *"
   ]
  },
  {
   "cell_type": "markdown",
   "metadata": {},
   "source": [
    "## Grid"
   ]
  },
  {
   "cell_type": "code",
   "execution_count": 6,
   "metadata": {},
   "outputs": [],
   "source": [
    "def get_linear_grid(shape, bounds, flat=False):\n",
    "    \"\"\"Create a (linear) grid of a given shape and bounds.\"\"\"\n",
    "    \n",
    "    linspaces = [jnp.linspace(*b, d) for b,d in zip(bounds, shape)]\n",
    "    vs = jnp.stack(jnp.meshgrid(*linspaces, indexing='ij'), axis=-1)\n",
    "    if flat: vs = vs.reshape(-1,len(shape))\n",
    "    \n",
    "    return vs"
   ]
  },
  {
   "cell_type": "code",
   "execution_count": 7,
   "metadata": {},
   "outputs": [
    {
     "data": {
      "image/png": "[encoded data removed]",
      "text/plain": [
       "<Figure size 300x300 with 1 Axes>"
      ]
     },
     "metadata": {},
     "output_type": "display_data"
    }
   ],
   "source": [
    "vs = get_linear_grid((5, 5, 5), ((-2,2), (-2,2), (0,jnp.pi/3)), flat=True)\n",
    "sc = jnp.arange(len(vs))\n",
    "\n",
    "# =======================================\n",
    "fig, ax = plt.subplots(1,1,figsize=(3,3))\n",
    "zoom_in(vs[:,:2], 2, ax=ax)\n",
    "plot_poses(vs, sc, linewidth=1, ax=ax)\n",
    "ax.spines['top'].set_visible(False)\n",
    "ax.spines['right'].set_visible(False)"
   ]
  },
  {
   "cell_type": "markdown",
   "metadata": {},
   "source": [
    "## Renderer and meshes"
   ]
  },
  {
   "cell_type": "code",
   "execution_count": 8,
   "metadata": {},
   "outputs": [],
   "source": [
    "_scaling  = 1e-3\n",
    "model_dir = os.path.join(b3d.utils.get_assets_dir(),\"bop/ycbv/models\")\n",
    "\n",
    "meshes = []\n",
    "for idx in range(1,22):\n",
    "    mesh_path = os.path.join(model_dir,\"obj_\" + \"{}\".format(idx).rjust(6, '0') + \".ply\")\n",
    "    mesh = trimesh.load(mesh_path)\n",
    "    mesh.vertices *= _scaling \n",
    "    meshes.append(mesh)\n",
    "\n",
    "\n",
    "# Add invisible atomic table\n",
    "mesh_path = os.path.join(b3d.utils.get_assets_dir(), \"sample_objs/cube.obj\")\n",
    "mesh = trimesh.load(mesh_path)\n",
    "mesh.vertices *= 1e-9\n",
    "meshes.append(mesh)\n"
   ]
  },
  {
   "cell_type": "code",
   "execution_count": 9,
   "metadata": {},
   "outputs": [],
   "source": [
    "#| Set up the renderer and add the scene mesh\n",
    "def make_render_function(meshes, w=100, h=100, fx=30, fy=30, offx=-0.5, offy=-0.5, far=20, near=0.01):\n",
    "    \"\"\"\n",
    "    Create a render function from a list of meshes \n",
    "    (and camera intrinsics).\n",
    "    \"\"\"\n",
    "    intrinsics = b3d.Intrinsics(\n",
    "        width = w, height = h,\n",
    "        fx = fx, fy = fy,\n",
    "        cx = w/2 + offx, cy = h/2 + offy,\n",
    "        near = near, far = far\n",
    "    )\n",
    "    \n",
    "    b3d.setup_renderer(intrinsics)\n",
    "    for mesh in meshes: b3d.RENDERER.add_mesh(mesh, center_mesh=True)\n",
    "\n",
    "    def render(cam:\"Camera Pose\", ps:\"Object Poses\", inds:\"Object indices\"):\n",
    "        \"\"\"\n",
    "        Returns image of shape `(h, w, 4)` where the first 3 channels encode \n",
    "        xyz-coordinates and the last channel encodes semantic information.\n",
    "        \"\"\"\n",
    "        return b3d.RENDERER.render(inv(cam) @ ps , inds)\n",
    "\n",
    "    return render"
   ]
  },
  {
   "cell_type": "code",
   "execution_count": 10,
   "metadata": {},
   "outputs": [
    {
     "name": "stderr",
     "output_type": "stream",
     "text": [
      "[E rasterize_gl.cpp:121] OpenGL version reported as 4.6\n"
     ]
    },
    {
     "name": "stdout",
     "output_type": "stream",
     "text": [
      "Increasing frame buffer size to (width, height, depth) = (224, 224, 1024)\n",
      "Help on function render in module __main__:\n",
      "\n",
      "render(cam: 'Camera Pose', ps: 'Object Poses', inds: 'Object indices')\n",
      "    Returns image of shape `(h, w, 4)` where the first 3 channels encode \n",
      "    xyz-coordinates and the last channel encodes semantic information.\n",
      "\n"
     ]
    }
   ],
   "source": [
    "_far   = 5.0\n",
    "_shape = (200,200)\n",
    "_f     = 300\n",
    "\n",
    "_intr   = dict(w=_shape[1], h=_shape[0], fx=_f, fy=_f, near=0.0001, far=_far)\n",
    "render   = make_render_function(meshes, **_intr)\n",
    "\n",
    "help(render)"
   ]
  },
  {
   "cell_type": "code",
   "execution_count": 11,
   "metadata": {},
   "outputs": [],
   "source": [
    "#|export\n",
    "def prep_im(Y, far=_far, eps=1e-6):\n",
    "    im = np.where(Y[:,:,2]>= _far - eps, jnp.inf, Y[:,:,2])\n",
    "    return im"
   ]
  },
  {
   "cell_type": "code",
   "execution_count": 12,
   "metadata": {},
   "outputs": [],
   "source": [
    "#|export\n",
    "def make_table_scene_model():\n",
    "\n",
    "    @genjax.gen\n",
    "    def model(nums, \n",
    "              possible_object_indices, \n",
    "              pose_bounds, \n",
    "              contact_bounds, \n",
    "              all_box_dims):\n",
    "        \n",
    "        num_objects = len(nums) # this is a hack, otherwise genajx is complaining\n",
    "\n",
    "        indices        = jnp.array([], dtype=jnp.int32)\n",
    "        root_poses     = jnp.zeros((0,4,4))\n",
    "        contact_params = jnp.zeros((0,3))\n",
    "        faces_parents  = jnp.array([], dtype=jnp.int32)\n",
    "        faces_child    = jnp.array([], dtype=jnp.int32)\n",
    "        parents        = jnp.array([], dtype=jnp.int32)\n",
    "\n",
    "        for i in range(3):\n",
    "\n",
    "            index  = uniform_discrete(possible_object_indices)    @ f\"id_{i}\"\n",
    "            pose   = uniform_pose(pose_bounds[0], pose_bounds[1]) @ f\"root_pose_{i}\"\n",
    "            params = contact_params_uniform(contact_bounds[0], contact_bounds[1]) @ f\"contact_params_{i}\"\n",
    "\n",
    "            parent_obj  = uniform_discrete(jnp.arange(-1, num_objects - 1)) @ f\"parent_{i}\"\n",
    "            parent_face = uniform_discrete(jnp.arange(0,6)) @ f\"face_parent_{i}\"\n",
    "            child_face  = uniform_discrete(jnp.arange(0,6)) @ f\"face_child_{i}\"\n",
    "\n",
    "            indices        = jnp.concatenate([indices, jnp.array([index])])\n",
    "            root_poses     = jnp.concatenate([root_poses, pose.reshape(1,4,4)])\n",
    "            contact_params = jnp.concatenate([contact_params, params.reshape(1,-1)])\n",
    "            parents        = jnp.concatenate([parents, jnp.array([parent_obj])])\n",
    "            faces_parents  = jnp.concatenate([faces_parents, jnp.array([parent_face])])\n",
    "            faces_child    = jnp.concatenate([faces_child, jnp.array([child_face])])\n",
    "        \n",
    "\n",
    "        scene = (root_poses, all_box_dims[indices], parents, contact_params, faces_parents, faces_child)\n",
    "        poses = b.scene_graph.poses_from_scene_graph(*scene)\n",
    "\n",
    "        camera_pose = uniform_pose(pose_bounds[0], pose_bounds[1]) @ f\"camera_pose\"\n",
    "\n",
    "        return camera_pose, poses, indices\n",
    "\n",
    "    return model"
   ]
  },
  {
   "cell_type": "code",
   "execution_count": 13,
   "metadata": {},
   "outputs": [],
   "source": [
    "model = make_table_scene_model()"
   ]
  },
  {
   "cell_type": "code",
   "execution_count": 25,
   "metadata": {},
   "outputs": [
    {
     "name": "stdout",
     "output_type": "stream",
     "text": [
      "(200, 200, 4)\n"
     ]
    },
    {
     "data": {
      "text/plain": [
       "<matplotlib.image.AxesImage at 0x7fc4c48c5420>"
      ]
     },
     "execution_count": 25,
     "metadata": {},
     "output_type": "execute_result"
    },
    {
     "data": {
      "image/png": "[encoded data removed]",
      "text/plain": [
       "<Figure size 640x480 with 1 Axes>"
      ]
     },
     "metadata": {},
     "output_type": "display_data"
    }
   ],
   "source": [
    "key = keysplit(key)\n",
    "\n",
    "cam_x = jnp.array([0.0, -.5, -.75])\n",
    "cam   = b3d.transform_from_pos_target_up(cam_x, jnp.zeros(3), jnp.array([0.0,-1.0,0.0]))\n",
    "\n",
    "table = jnp.eye(4)\n",
    "\n",
    "args = (\n",
    "    jnp.arange(3),\n",
    "    jnp.arange(22),\n",
    "    jnp.array([-jnp.ones(3)*100.0, jnp.ones(3)*100.0]),\n",
    "    jnp.array([jnp.array([-0.2, -0.2, -2*jnp.pi]), jnp.array([0.2, 0.2, 2*jnp.pi])]),\n",
    "    b3d.RENDERER.model_box_dims\n",
    ")\n",
    "\n",
    "ch = genjax.choice_map({\n",
    "    \"parent_0\": -1,\n",
    "    \"parent_1\":  0,\n",
    "    \"parent_2\":  0,\n",
    "    \"camera_pose\": cam,\n",
    "    \"root_pose_0\": table,\n",
    "    \"id_0\": jnp.int32(21), # Atomic Table\n",
    "    \"id_1\": jnp.int32(13), # Mug\n",
    "    \"id_2\": jnp.int32(2),  # Box\n",
    "    \"face_parent_1\": 1,  # That's the top face of the table\n",
    "    \"face_parent_2\": 1,  # ...\n",
    "    \"face_child_1\": 3,   # That's a bottom face of the mug\n",
    "    \"face_child_2\": 3,\n",
    "})\n",
    "\n",
    "\n",
    "w, tr = model.importance(key, ch , args)\n",
    "cam, ps, inds = tr.retval\n",
    "X = render(cam, ps, inds)\n",
    "\n",
    "print(X.shape)\n",
    "# =====================\n",
    "plt.imshow(prep_im(X))"
   ]
  },
  {
   "cell_type": "code",
   "execution_count": 26,
   "metadata": {},
   "outputs": [],
   "source": [
    "fname = f\"table_scene_2\"\n",
    "jnp.save(f\"data/likelihood_test/{fname}\", dict(\n",
    "    choices=tr.strip(), \n",
    "    intrinsics=_intr,\n",
    "    rendered=X,\n",
    "    key=key,\n",
    "))"
   ]
  },
  {
   "cell_type": "code",
   "execution_count": 27,
   "metadata": {},
   "outputs": [],
   "source": [
    "fname = f\"table_scene_2\"\n",
    "arr = jnp.load(f\"data/likelihood_test/{fname}.npy\", allow_pickle=True)\n",
    "ch = arr.item()[\"choices\"]\n"
   ]
  },
  {
   "cell_type": "code",
   "execution_count": 28,
   "metadata": {},
   "outputs": [
    {
     "data": {
      "text/plain": [
       "<matplotlib.image.AxesImage at 0x7fc4c47f2c80>"
      ]
     },
     "execution_count": 28,
     "metadata": {},
     "output_type": "execute_result"
    },
    {
     "data": {
      "image/png": "[encoded data removed]",
      "text/plain": [
       "<Figure size 640x480 with 1 Axes>"
      ]
     },
     "metadata": {},
     "output_type": "display_data"
    }
   ],
   "source": [
    "_, tr_ = model.importance(key, ch , args)\n",
    "cam, ps, inds = tr_.retval\n",
    "X = render(cam, ps, inds)\n",
    "\n",
    "# =====================\n",
    "plt.imshow(prep_im(X))"
   ]
  },
  {
   "cell_type": "code",
   "execution_count": null,
   "metadata": {},
   "outputs": [],
   "source": []
  }
 ],
 "metadata": {
  "kernelspec": {
   "display_name": "bayes3d",
   "language": "python",
   "name": "python3"
  },
  "language_info": {
   "codemirror_mode": {
    "name": "ipython",
    "version": 3
   },
   "file_extension": ".py",
   "mimetype": "text/x-python",
   "name": "python",
   "nbconvert_exporter": "python",
   "pygments_lexer": "ipython3",
   "version": "3.10.12"
  },
  "orig_nbformat": 4
 },
 "nbformat": 4,
 "nbformat_minor": 2
}
