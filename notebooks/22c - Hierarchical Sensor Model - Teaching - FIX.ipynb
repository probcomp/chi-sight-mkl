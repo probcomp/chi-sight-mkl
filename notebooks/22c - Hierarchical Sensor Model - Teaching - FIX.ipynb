{
 "cells": [
  {
   "cell_type": "code",
   "execution_count": 1,
   "metadata": {},
   "outputs": [],
   "source": [
    "%load_ext autoreload\n",
    "%autoreload 2"
   ]
  },
  {
   "cell_type": "code",
   "execution_count": 2,
   "metadata": {},
   "outputs": [
    {
     "data": {
      "text/html": [
       "<style>.rendered_html.text_cell_render {max-width:700px; }</style>"
      ],
      "text/plain": [
       "<IPython.core.display.HTML object>"
      ]
     },
     "metadata": {},
     "output_type": "display_data"
    }
   ],
   "source": [
    "from IPython.display import display, HTML\n",
    "display(HTML(\"<style>.rendered_html.text_cell_render {max-width:700px; }</style>\"))"
   ]
  },
  {
   "cell_type": "markdown",
   "metadata": {},
   "source": [
    "# A Hierarchical Sensor Model in GenJAX<br/><small>Localization with an idealized map</small>\n",
    "\n",
    "\n",
    "<hr style=\"height:2px\">\n",
    "\n",
    "## Content\n",
    "\n",
    "- Intro\n",
    "- Making a render function\n",
    "- Making the model\n",
    "  - Bayes3D sensor model\n",
    "  - Localization model\n",
    "- Posterior inference and MAP estimates\n",
    "    - Part 1: Infering sensor parameters for a fixed pose\n",
    "    - Part 2: MAP estimates for sensor parameters for perturbed pose\n",
    "- Demos: Posterior explorer\n",
    "\n",
    "\n",
    "<hr style=\"height:2px\">"
   ]
  },
  {
   "cell_type": "markdown",
   "metadata": {},
   "source": [
    "## Introduction"
   ]
  },
  {
   "cell_type": "markdown",
   "metadata": {},
   "source": [
    "In this session, we will simplify our model and shift our focus to a single *isolated*  time step. Unlike the previous tutorials that assumed sampling the current pose $p$ from a motion model $\\mathbb{P}(p \\mid p',u)$ conditioned on a prior pose $p'$ and control input $u$, we will take a different approach here.\n",
    "\n",
    "Instead of delving into modeling these updates, we will directly sample the target pose $p$. This involves potentially selecting a position around a user-defined target, or sampling uniformly over the environment. It's important to note that we are still working under the assumption that we have access to a (possibly idealized) map of the environment.\n",
    "\n",
    "The high-level structure of the model is as follows:\n",
    "\n",
    "1. Sample a pose, denoted as $p$.\n",
    "3. Sample sensor model noise $\\sigma$, sometimes referred to as *inlier tolerance*, and an *outlier probability* $\\omega$.\n",
    "2. Perform a deterministic raycasting operation to generate a reference measurement, denoted as $Y$.\n",
    "3. Sample an observation, $X$, from a sensor model. This sampling is conditioned on both the reference measurement $Y$ and the specific sensor parameters $\\sigma$ and $\\omega$.\n",
    "\n",
    "As you will see below, one notable distinction in this tutorial is the raycasting operation. Instead of a 2D raycaster, as in the other sessions, we will use a \"lifted\" 3D version of the map and integrate it into a 3D renderer, which can be invoked using a specified pose.\n",
    "\n",
    "We will then delve into exploring various aspects of the model's posterior distribution $\\mathbb{P}(p,\\sigma, \\omega \\mid X)$:\n",
    "\n",
    "1. Firstly, we will demonstrate that it is possible to accurately infer the sensor parameters from a sample when conditioned upon the actual pose.\n",
    "2. Moving forward, we will introduce pose variations and analyze the Maximum A Posteriori (MAP) estimates of sensor parameters associated with each specific pose.\n",
    "3. Finally, we present two interactive visualizations that enable you to explore through both the pose posterior and full posterior.\n"
   ]
  },
  {
   "cell_type": "code",
   "execution_count": 3,
   "metadata": {},
   "outputs": [],
   "source": [
    "import jax\n",
    "import jax.numpy as jnp\n",
    "from   jax import jit, vmap\n",
    "import bayes3d as b3d\n",
    "import genjax\n",
    "from   genjax import gen, choice_map, vector_choice_map\n",
    "from   genjax._src.core.transforms.incremental import UnknownChange, NoChange, Diff\n",
    "import matplotlib.pyplot as plt\n",
    "from   matplotlib.collections import LineCollection\n",
    "import numpy as np\n",
    "import trimesh\n",
    "from functools import partial\n",
    "\n",
    "key = jax.random.PRNGKey(0)\n",
    "console = genjax.pretty(show_locals=False)"
   ]
  },
  {
   "cell_type": "markdown",
   "metadata": {},
   "source": [
    "## Making a render function \n",
    "\n",
    "**Environment Data (2D to 3D)**\n",
    "\n",
    "Before we can define our model we need a simulated sensor, or renderer, and\n",
    "a simulated environment to make measurements in. We start by loading a 2D environment and an array of poses and construct a 3D versions of those."
   ]
  },
  {
   "cell_type": "code",
   "execution_count": 4,
   "metadata": {},
   "outputs": [
    {
     "data": {
      "text/html": [
       "<pre style=\"white-space:pre;overflow-x:auto;line-height:normal;font-family:Menlo,'DejaVu Sans Mono',consolas,'Courier New',monospace\"></pre>\n"
      ],
      "text/plain": []
     },
     "metadata": {},
     "output_type": "display_data"
    },
    {
     "data": {
      "image/png": "[encoded data removed]",
      "text/plain": [
       "\u001b[1m<\u001b[0m\u001b[1;95mFigure\u001b[0m\u001b[39m size 30\u001b[0m\u001b[1;36m0x300\u001b[0m\u001b[39m with \u001b[0m\u001b[1;36m1\u001b[0m\u001b[39m Axes\u001b[0m\u001b[1m>\u001b[0m"
      ]
     },
     "metadata": {},
     "output_type": "display_data"
    }
   ],
   "source": [
    "from xsight.utils import *\n",
    "from xsight.importance import _importance_sampling, _update, _generate, _simulate, _propose\n",
    "from xsight.pose import pack_pose, unpack_pose, apply_pose, from_euler, CAM_ALONG_X\n",
    "from xsight.meshes import *\n",
    "from xsight.plotting import *\n",
    "\n",
    "#| Load environment data\n",
    "#| `fname = \"./data/test_env_2d_sym.json\"`\n",
    "fname = \"./data/test_env_2d.json\"\n",
    "_segs, _boxes, _xs, _hds, _dxs, _dhds = unpack_2d_env_data(fname)\n",
    "_verts  = _segs.reshape(-1,2)\n",
    "_center = np.min(_verts, axis=0) + np.max(_verts, axis=0)/2\n",
    "_T      = len(_xs)\n",
    "_segs   = _segs.reshape(-1,2,2)\n",
    "_boxes  = _boxes.reshape(-1,2,2)\n",
    "_bb     = bounding_box(_segs)\n",
    "_ps     = np.concatenate([_xs, _hds[:,None]], axis=1)\n",
    "\n",
    "# ===============================\n",
    "plt.figure(figsize=(3,3))\n",
    "plt.title(\"2D Environment and Path\")\n",
    "ax = plt.gca()\n",
    "ax.set_aspect(1)\n",
    "zoom_in(_bb, 2, ax=ax)\n",
    "ax.spines['top'].set_visible(False)\n",
    "ax.spines['right'].set_visible(False)\n",
    "plot_segs(_segs, c=\"k\", zorder=1, ax=ax)\n",
    "plot_segs(_boxes, c=\"gray\", zorder=1, ax=ax)\n",
    "ax.plot(*_ps[:,:2].T, c=\"r\", linewidth=1);"
   ]
  },
  {
   "cell_type": "code",
   "execution_count": 5,
   "metadata": {},
   "outputs": [],
   "source": [
    "#|  Create a 3d mesh from the 2d data and \n",
    "#|  create a scene for the renderer\n",
    "box_mesh = trimesh.util.concatenate([trimesh_from_2d_segs(box) for box in _boxes.reshape(-1,4,4)])\n",
    "map_mesh = trimesh_from_2d_segs(_segs.reshape(-1,4))\n",
    "table = create_cuboid(20, 20, -0.1)\n",
    "table = move_to_xy(table, *_center)\n",
    "map_mesh.vertices[:,2] -= 0.5\n",
    "box_mesh.vertices[:,2] -= 0.5\n",
    "table.vertices[:,2]    -= 0.5"
   ]
  },
  {
   "cell_type": "markdown",
   "metadata": {},
   "source": [
    "Here is a rendering of what we just created. But keep in mind that going forward \n",
    "we are forgetting about the 3D structure here. This is really just\n",
    "so we can take advantage of the performance of the 3D renderer.\n",
    "\n",
    "<img src=\"imgs/3denv.png\" width=500/>"
   ]
  },
  {
   "cell_type": "markdown",
   "metadata": {},
   "source": [
    "**3D Renderer**\n",
    "\n",
    "Next, we will configure the renderer and incorporate the scene meshes, which include both the walls mesh and the box meshes. You'll notice that our goal is to render images with a height of 1, effectively emulating the output of a 2D lidar sensor. \n",
    "\n",
    "The render function takes a 3D Pose consisting of a tuple of a 3D rotation matrix and a translation vector.\n",
    "But our poses `_ps` still live in 2D, so we have to *lift* them into our 3D scene."
   ]
  },
  {
   "cell_type": "code",
   "execution_count": 6,
   "metadata": {},
   "outputs": [],
   "source": [
    "def lift_pose(v, z=0.0, pitch=0.0, roll=0.0):\n",
    "    \"\"\"Lifts a 2d pose vector [x1,x2,hd] to 3d\"\"\"\n",
    "    x  = v[:2]\n",
    "    hd = v[ 2]\n",
    "    return pack_pose(\n",
    "        jnp.concatenate([x, jnp.array([z])]),\n",
    "        from_euler(hd) @ CAM_ALONG_X\n",
    "    ) "
   ]
  },
  {
   "cell_type": "markdown",
   "metadata": {},
   "source": [
    "The renderer also provides valuable semantic information (`Y[:,:,3]`) and specifies the source of each observation, indicating whether it originates from the walls or the boxes within the environment."
   ]
  },
  {
   "cell_type": "code",
   "execution_count": 49,
   "metadata": {},
   "outputs": [],
   "source": [
    "#| Set up the renderer and add the scene mesh, i.e. add the map mesh and the box meshes.\n",
    "#| Note that we are rendering an image of height 1 mimicing a 2d lidar sensor.\n",
    "def make_render_function(meshes, w=100, h=1, fx=30, fy =30):\n",
    "    \"\"\"\n",
    "    Create a render function from a list of meshes \n",
    "    (and camera intrinsics).\n",
    "    \"\"\"\n",
    "    intrinsics = b3d.Intrinsics(\n",
    "        width = w, height = h,\n",
    "        fx=fx, fy=fy,\n",
    "        cx=w/2 - 0.5, cy=h/2 - 0.5,\n",
    "        near=1e-4, far=10.0\n",
    "    )\n",
    "    b3d.setup_renderer(intrinsics)\n",
    "    for mesh in meshes:\n",
    "        b3d.RENDERER.add_mesh(mesh, center_mesh=False)\n",
    "\n",
    "\n",
    "    def render(p:\"3D Pose\", inds=[0,1]):\n",
    "        \"\"\"\n",
    "        Render a rendered image from a fixed scene that this is closed over.\n",
    "        The image is made up off 4 channels x,y,z, and\n",
    "        a \"semantic layer\" containing object ids.\n",
    "        \"\"\"\n",
    "        p_ = b3d.t3d.inverse_pose(p)\n",
    "        X  = b3d.RENDERER.render(jnp.tile(p_, (len(inds),1,1)), jnp.array(inds))\n",
    "        return X;\n",
    "\n",
    "    return render"
   ]
  },
  {
   "cell_type": "code",
   "execution_count": 8,
   "metadata": {},
   "outputs": [
    {
     "name": "stderr",
     "output_type": "stream",
     "text": [
      "[E rasterize_gl.cpp:121] OpenGL version reported as 4.6\n"
     ]
    },
    {
     "name": "stdout",
     "output_type": "stream",
     "text": [
      "Increasing frame buffer size to (width, height, depth) = (224, 128, 1024)\n"
     ]
    },
    {
     "data": {
      "text/html": [
       "<pre style=\"white-space:pre;overflow-x:auto;line-height:normal;font-family:Menlo,'DejaVu Sans Mono',consolas,'Courier New',monospace\"></pre>\n"
      ],
      "text/plain": []
     },
     "metadata": {},
     "output_type": "display_data"
    },
    {
     "data": {
      "text/plain": [
       "\u001b[1m<\u001b[0m\u001b[1;95mmatplotlib.image.AxesImage\u001b[0m\u001b[39m object at \u001b[0m\u001b[1;36m0x7f8e286ee830\u001b[0m\u001b[1m>\u001b[0m"
      ]
     },
     "execution_count": 8,
     "metadata": {},
     "output_type": "execute_result"
    },
    {
     "data": {
      "text/html": [
       "<pre style=\"white-space:pre;overflow-x:auto;line-height:normal;font-family:Menlo,'DejaVu Sans Mono',consolas,'Courier New',monospace\"></pre>\n"
      ],
      "text/plain": []
     },
     "metadata": {},
     "output_type": "display_data"
    },
    {
     "data": {
      "image/png": "[encoded data removed]",
      "text/plain": [
       "\u001b[1m<\u001b[0m\u001b[1;95mFigure\u001b[0m\u001b[39m size 80\u001b[0m\u001b[1;36m0x200\u001b[0m\u001b[39m with \u001b[0m\u001b[1;36m2\u001b[0m\u001b[39m Axes\u001b[0m\u001b[1m>\u001b[0m"
      ]
     },
     "metadata": {},
     "output_type": "display_data"
    }
   ],
   "source": [
    "# Note that we actually can render a 3D image.\n",
    "# However, as mentioned above we will only \n",
    "# render images of height 1 going forward \n",
    "render_3D = make_render_function([map_mesh, box_mesh, table], \n",
    "                              w=200, h=100, fx=50,fy=50)\n",
    "\n",
    "t  = 15\n",
    "p  = _ps[t]\n",
    "Y  = render_3D(lift_pose(p), inds=[0,1,2])\n",
    "# ======================\n",
    "fig, axs = plt.subplots(1,2,figsize=(8,2))\n",
    "for ax in axs: ax.axis(\"off\")\n",
    "axs[0].set_title(\"Depth Layer\")\n",
    "axs[0].imshow(Y[:,:,2], vmax=8.)\n",
    "axs[1].set_title(\"Semantic Layer\")\n",
    "axs[1].imshow(Y[:,:,3])"
   ]
  },
  {
   "cell_type": "code",
   "execution_count": 50,
   "metadata": {},
   "outputs": [
    {
     "name": "stdout",
     "output_type": "stream",
     "text": [
      "Increasing frame buffer size to (width, height, depth) = (128, 32, 1024)\n"
     ]
    },
    {
     "name": "stderr",
     "output_type": "stream",
     "text": [
      "[E rasterize_gl.cpp:121] OpenGL version reported as 4.6\n"
     ]
    }
   ],
   "source": [
    "# This (!) is the render function we are going to use \n",
    "# for the remainder of the notebooks\n",
    "render = make_render_function([map_mesh, box_mesh, table], w=100, h=1);"
   ]
  },
  {
   "cell_type": "markdown",
   "metadata": {},
   "source": [
    "In our examples, we will consider the environment that includes the boxes as our designated simulated world. When we move on to inference, there's an option to exclude the boxes (`use_boxes:bool`), making the localization task less straightforward. \n",
    "\n",
    "As mentioned above a rendered image `Y` contains semantic information that caputures whether an observartions is from a wall `Y[i,j,3]==1` or a box `Y[i,j,3]==2`."
   ]
  },
  {
   "cell_type": "code",
   "execution_count": 51,
   "metadata": {},
   "outputs": [
    {
     "data": {
      "text/html": [
       "<pre style=\"white-space:pre;overflow-x:auto;line-height:normal;font-family:Menlo,'DejaVu Sans Mono',consolas,'Courier New',monospace\"></pre>\n"
      ],
      "text/plain": []
     },
     "metadata": {},
     "output_type": "display_data"
    },
    {
     "data": {
      "text/plain": [
       "\u001b[1m<\u001b[0m\u001b[1;95mmatplotlib.collections.PathCollection\u001b[0m\u001b[39m object at \u001b[0m\u001b[1;36m0x7f8a9e0e2c50\u001b[0m\u001b[1m>\u001b[0m"
      ]
     },
     "execution_count": 51,
     "metadata": {},
     "output_type": "execute_result"
    },
    {
     "data": {
      "text/html": [
       "<pre style=\"white-space:pre;overflow-x:auto;line-height:normal;font-family:Menlo,'DejaVu Sans Mono',consolas,'Courier New',monospace\"></pre>\n"
      ],
      "text/plain": []
     },
     "metadata": {},
     "output_type": "display_data"
    },
    {
     "data": {
      "image/png": "[encoded data removed]",
      "text/plain": [
       "\u001b[1m<\u001b[0m\u001b[1;95mFigure\u001b[0m\u001b[39m size 50\u001b[0m\u001b[1;36m0x500\u001b[0m\u001b[39m with \u001b[0m\u001b[1;36m1\u001b[0m\u001b[39m Axes\u001b[0m\u001b[1m>\u001b[0m"
      ]
     },
     "metadata": {},
     "output_type": "display_data"
    }
   ],
   "source": [
    "t  = 15 # Try `35` as well\n",
    "p  = _ps[t]\n",
    "Y  = render(lift_pose(p), inds=[0,1])\n",
    "ys = Y[0,:,[0,2]].T\n",
    "ys = apply_2dpose(p, ys)\n",
    "\n",
    "# NOTE: The \"semantic layer\" should contain ints -- it's identities after all -- \n",
    "#   but the returned `dtype` of the image is `float64`. To avoid numerical issues\n",
    "#   like having entries of the form `1.9999999` and not `2` we reduce the precision a bit  \n",
    "is_outlier = Y[0,:,3].astype(jnp.float16) == 2\n",
    "\n",
    "# ===========================\n",
    "plt.figure(figsize=(5,5))\n",
    "plt.gca().set_aspect(1)\n",
    "plt.axis(\"off\")\n",
    "plt.title(\"Depth and semantic layer combined\")\n",
    "plot_segs(_segs, c=\"k\", zorder=-1)\n",
    "plot_segs(_boxes, c=\"k\", zorder=-1)\n",
    "plot_pose(_ps[t], ax=plt.gca())\n",
    "plt.scatter(*ys[is_outlier==False].T, c=\"C0\", s=5)\n",
    "plt.scatter(*ys[is_outlier== True].T, c=\"C1\", s=5)"
   ]
  },
  {
   "cell_type": "markdown",
   "metadata": {},
   "source": [
    "In our examples, we will consider the environment that includes the boxes as our designated simulated world. When we move on to inference, there's an option to exclude the boxes, making the localization task less straightforward. As you will see in the example below it is quite possible for observation to have very high number (almost half) of outliers. This introduces the need to\n",
    "- Equip the model with the capability to handle outliers flexibly, and \n",
    "- Do joint inference over pose and sensor paramters.\n",
    "\n",
    "Knowing the number of measurements that come from boxes will be helpful to interpret and tune our model. Let's write a quick helper method to do that for us.\n",
    "\n"
   ]
  },
  {
   "cell_type": "code",
   "execution_count": 52,
   "metadata": {},
   "outputs": [],
   "source": [
    "def inlier_vs_outlier_counts(t):\n",
    "    \"\"\"Deterministic inlier (walls) and outlier (boxes) counts.\"\"\"\n",
    "    p  = _ps[t]\n",
    "    X  = render(lift_pose(p), inds=[0,1])\n",
    "    return jnp.array([\n",
    "        jnp.sum(X[0,:,3].astype(jnp.float16) == 1), \n",
    "        jnp.sum(X[0,:,3].astype(jnp.float16) == 2)])"
   ]
  },
  {
   "cell_type": "code",
   "execution_count": 53,
   "metadata": {},
   "outputs": [
    {
     "data": {
      "text/html": [
       "<pre style=\"white-space:pre;overflow-x:auto;line-height:normal;font-family:Menlo,'DejaVu Sans Mono',consolas,'Courier New',monospace\"></pre>\n"
      ],
      "text/plain": []
     },
     "metadata": {},
     "output_type": "display_data"
    },
    {
     "data": {
      "text/plain": [
       "\u001b[1;35mArray\u001b[0m\u001b[1m(\u001b[0m\u001b[1m[\u001b[0m\u001b[1;36m42\u001b[0m, \u001b[1;36m58\u001b[0m\u001b[1m]\u001b[0m, \u001b[33mdtype\u001b[0m=\u001b[35mint32\u001b[0m\u001b[1m)\u001b[0m"
      ]
     },
     "execution_count": 53,
     "metadata": {},
     "output_type": "execute_result"
    }
   ],
   "source": [
    "# Blue -vs- Orange counts\n",
    "inlier_vs_outlier_counts(35)"
   ]
  },
  {
   "cell_type": "markdown",
   "metadata": {},
   "source": [
    "## Making the model"
   ]
  },
  {
   "cell_type": "markdown",
   "metadata": {},
   "source": [
    "The last main ingredient for our localization model is a sensor model. We are not going to write that ourselves here &mdash; if you are interested in the detailed implementation check out the associated notebook `11 - Constrained Likelihood.ipynb`."
   ]
  },
  {
   "cell_type": "markdown",
   "metadata": {},
   "source": [
    "### Bayes3D Sensor Model\n"
   ]
  },
  {
   "cell_type": "code",
   "execution_count": 73,
   "metadata": {},
   "outputs": [],
   "source": [
    "from genjax import tfp_uniform as uniform\n",
    "from xsight.likelihood import make_constrained_sensor_model, make_baseline_sensor_model\n",
    "from xsight.simple_likelihood import make_simple_sensor_model\n",
    "from functools import lru_cache\n",
    "\n",
    "\n",
    "def make_sensor_model(w:int, zmax:float, sensor_model_type:str=\"simple\"):\n",
    "    \"\"\"\n",
    "    Returns a sensor model with given filter size `w` and maximal sensor range `zmax`.\n",
    "    (The corresponding code can be found in `11 - Constrained Likelihood.ipynb`)\n",
    "    \"\"\"\n",
    "    match sensor_model_type:\n",
    "        case \"simple\": return make_simple_sensor_model(zmax)\n",
    "        case \"constrained\": return make_constrained_sensor_model(zmax, w)\n",
    "        case \"baseline\"   : return make_baseline_sensor_model(zmax, w)\n",
    "        case _: raise f\"Unknown sensor model type: ``{sensor_model_type}''\""
   ]
  },
  {
   "cell_type": "markdown",
   "metadata": {},
   "source": [
    "Let's \"make\" a sensor model and take a quick look at its signature and trace."
   ]
  },
  {
   "cell_type": "code",
   "execution_count": 74,
   "metadata": {},
   "outputs": [
    {
     "name": "stdout",
     "output_type": "stream",
     "text": [
      "Help on function sensor_model in module xsight.simple_likelihood:\n",
      "\n",
      "sensor_model(Y, sig, out)\n",
      "    Simplest sensor model that returns a vector of range measurements conditioned on \n",
      "    an image, noise level, and outlier probability.\n",
      "\n"
     ]
    }
   ],
   "source": [
    "sensor_model = make_sensor_model(5, 10., \"simple\")\n",
    "help(sensor_model.source)"
   ]
  },
  {
   "cell_type": "code",
   "execution_count": 75,
   "metadata": {},
   "outputs": [
    {
     "data": {
      "text/html": [
       "<pre style=\"white-space:pre;overflow-x:auto;line-height:normal;font-family:Menlo,'DejaVu Sans Mono',consolas,'Courier New',monospace\"></pre>\n"
      ],
      "text/plain": []
     },
     "metadata": {},
     "output_type": "display_data"
    },
    {
     "data": {
      "text/plain": [
       "\n",
       "\n",
       "\n",
       "└── \u001b[1m:X\u001b[0m\n",
       "    └── \u001b[1m(Vector)\u001b[0m\n",
       "        └── \u001b[1m:measurement\u001b[0m\n",
       "            └──  f32[100]"
      ]
     },
     "metadata": {},
     "output_type": "display_data"
    }
   ],
   "source": [
    "t = 40  #`t=40`\n",
    "args = Args(\n",
    "    Y = render(lift_pose(_ps[t]), inds=[0,1])[:,:,:3],\n",
    "    sig = 0.1,\n",
    "    outlier = 0.0\n",
    ")\n",
    "key = keysplit(key)\n",
    "tr  = sensor_model.simulate(key, args)\n",
    "\n",
    "# ===================\n",
    "# Take a look at `tr` on its own as well\n",
    "display(tr.strip()) "
   ]
  },
  {
   "cell_type": "markdown",
   "metadata": {},
   "source": [
    "### Simple Localization Model\n",
    "\n",
    "We finally have all the pieces to define our localization model."
   ]
  },
  {
   "cell_type": "code",
   "execution_count": 82,
   "metadata": {},
   "outputs": [],
   "source": [
    "def make_model(w:int, zmax:float, sensor_model_type:str=\"simple\"):\n",
    "\n",
    "    #  Create a sensor model\n",
    "    #  Note: We need to create a closure here becasue `w` is a *static* argument\n",
    "    #       and needs to be handled in a special way for GenJAX not to \n",
    "    #       complain during JIT compilation. This pattern is similar to JAX's use \n",
    "    #       of `static_argnames` in `jit`. We are still working on the API.\n",
    "    sensor_model = make_sensor_model(w, zmax, sensor_model_type)\n",
    "\n",
    "    @gen\n",
    "    def model(use_boxes):\n",
    "        \"\"\"Isolated time-step model that optionally renders the boxes or not. \"\"\"\n",
    "\n",
    "        #  Sample a 2D pose\n",
    "        #  NOTE: The x bounds are roughly bounding the environment\n",
    "        #  that is baked into the renderer\n",
    "        x  = uniform(jnp.array([0., 0.]), \n",
    "                     jnp.array([20., 20.])) @ \"x\"\n",
    "        hd = uniform(-jnp.pi, jnp.pi)       @ \"hd\"\n",
    "        p  = pack_2dpose(x, hd)\n",
    "\n",
    "        #  Sample sensor hyper parameters\n",
    "        sig     = uniform(0.0, 1.) @ \"sig\"\n",
    "        outlier = uniform(0.0, 1.) @ \"outlier\"\n",
    "\n",
    "        #  Lift pose to 3D and \n",
    "        #  render an image (deterministic)\n",
    "        inds = jnp.where(use_boxes, jnp.array([0,1]), jnp.array([0]))\n",
    "        Y    = render(lift_pose(p), inds)\n",
    "\n",
    "        #  Sample an image X conditioned on the rendered Y\n",
    "        #  Here `inline` populates address `@ \"X\"`; cf. the way \n",
    "        #  the sensor model is structured. We don't have \n",
    "        #  syntactic sugar for this operation yet.\n",
    "        X = sensor_model.inline(Y[:,:,:3], sig, outlier) \n",
    "\n",
    "        # NOTE: Try and replace the above line \n",
    "        # by the line below and compare the traces \n",
    "        # X, _ = sensor_model(Y[:,:,:3], sig, outlier) @ \"Sensor\"\n",
    "        \n",
    "        return p, X, Y[:,:,:3]\n",
    "    \n",
    "    return model"
   ]
  },
  {
   "cell_type": "markdown",
   "metadata": {},
   "source": [
    "<hr style=\"height:2px\">\n",
    "\n",
    "**Q:** \n",
    "    \n",
    "Looking at the model is there anything that stands out to you? (It is somewhat nitpicky.)\n",
    "\n",
    "**A:**  \n",
    "    \n",
    "Note that we sample a head direction from a normal distribution. That part is fine, we just view the unit circle as the quotient `R/Z`, but if we were to evaluate a head direction under this model we would only evaluate the density at a single point, where in fact it would wrap around countably many times.\n",
    "\n",
    "**Q:** \n",
    "\n",
    "Think about different versions of the model using the parts that we provided. Be creative. (Think about what the renderer provides as well.)\n",
    "\n",
    "**EXCERCISE**: \n",
    "    \n",
    "Write a distribution over the unit circle by \"wrapping\" a normal distribution around it. Alternatively just write down the logpdf.\n",
    "<hr style=\"height:2px\">"
   ]
  },
  {
   "cell_type": "code",
   "execution_count": 83,
   "metadata": {},
   "outputs": [],
   "source": [
    "# TODO: Move to imports\n",
    "def plot_tr(tr, ax=None, title=\"\", size=10, c=\"r\", c_data=\"C0\", boxes=None):\n",
    "    \"\"\"Plot a trace of the Localization model.\"\"\"\n",
    "    \n",
    "    if ax is None:\n",
    "        plt.figure(figsize=(5,5))\n",
    "        ax = plt.gca()\n",
    "\n",
    "    use_boxes, = tr.args\n",
    "    if boxes is not None: use_boxes = boxes\n",
    "    p, X, Y = tr.get_retval()\n",
    "    xs = X[0][:,[0,2]]\n",
    "    ys = Y[0][:,[0,2]]\n",
    "\n",
    "    # ===============================\n",
    "    if len(title) > 0: ax.set_title(f\"{title}\")\n",
    "    ax.set_aspect(1)\n",
    "    ax.spines['top'].set_visible(False)\n",
    "    ax.spines['right'].set_visible(False)\n",
    "    plot_segs(_segs, c=\"k\", zorder=1, ax=ax)\n",
    "    if use_boxes: plot_segs(_boxes, c=\"k\", zorder=1, ax=ax)\n",
    "    ax.scatter(*apply_2dpose(p, xs).T, s=size, zorder=2, c=c_data)\n",
    "    ax.scatter(*apply_2dpose(p, ys).T, s=size, zorder=2, c=\"r\")\n",
    "    plot_pose(p, r=.5, zorder=3,ax=ax, c=c)"
   ]
  },
  {
   "cell_type": "markdown",
   "metadata": {},
   "source": [
    "Now, let's \"make\" a localization model and take a quick look at its signature and trace.\n",
    "Feel free to switch the address structure in the model definition above (replacing the line containing `X, _ = sensor_model.inline(..)`) and take a look at how the trace structure changes."
   ]
  },
  {
   "cell_type": "code",
   "execution_count": 84,
   "metadata": {},
   "outputs": [
    {
     "name": "stdout",
     "output_type": "stream",
     "text": [
      "-110.21768\n"
     ]
    },
    {
     "data": {
      "text/html": [
       "<pre style=\"white-space:pre;overflow-x:auto;line-height:normal;font-family:Menlo,'DejaVu Sans Mono',consolas,'Courier New',monospace\"></pre>\n"
      ],
      "text/plain": []
     },
     "metadata": {},
     "output_type": "display_data"
    },
    {
     "data": {
      "text/plain": [
       "\n",
       "\n",
       "\n",
       "├── \u001b[1m:x\u001b[0m\n",
       "│   └──  f32[2]\n",
       "├── \u001b[1m:X\u001b[0m\n",
       "│   └── \u001b[1m(Vector)\u001b[0m\n",
       "│       └── \u001b[1m:measurement\u001b[0m\n",
       "│           └──  f32[100]\n",
       "├── \u001b[1m:outlier\u001b[0m\n",
       "│   └──  f32[]\n",
       "├── \u001b[1m:sig\u001b[0m\n",
       "│   └──  f32[]\n",
       "└── \u001b[1m:hd\u001b[0m\n",
       "    └──  f32[]"
      ]
     },
     "metadata": {},
     "output_type": "display_data"
    }
   ],
   "source": [
    "w     = 0\n",
    "zmax  = 10.0\n",
    "\n",
    "model = make_model(w, zmax)\n",
    "args  = Args(use_boxes=True) \n",
    "key   = keysplit(key)\n",
    "\n",
    "# NOTE: `Args` is just my altered version of a named tuple.\n",
    "# A Gen function consumes an n-tuple of arguments.\n",
    "# The line could be replaced by `args = (True,)`.\n",
    "\n",
    "tr = model.simulate(key, args)\n",
    "print(tr.score)\n",
    "\n",
    "# ========================================\n",
    "display(tr.strip()) # Take a look at `tr` on its own as well"
   ]
  },
  {
   "cell_type": "markdown",
   "metadata": {},
   "source": [
    "Re-run the cell below multiple times to get a sense for the model traces."
   ]
  },
  {
   "cell_type": "code",
   "execution_count": 87,
   "metadata": {},
   "outputs": [
    {
     "data": {
      "text/html": [
       "<pre style=\"white-space:pre;overflow-x:auto;line-height:normal;font-family:Menlo,'DejaVu Sans Mono',consolas,'Courier New',monospace\"></pre>\n"
      ],
      "text/plain": []
     },
     "metadata": {},
     "output_type": "display_data"
    },
    {
     "data": {
      "image/png": "[encoded data removed]",
      "text/plain": [
       "\u001b[1m<\u001b[0m\u001b[1;95mFigure\u001b[0m\u001b[39m size 50\u001b[0m\u001b[1;36m0x500\u001b[0m\u001b[39m with \u001b[0m\u001b[1;36m1\u001b[0m\u001b[39m Axes\u001b[0m\u001b[1m>\u001b[0m"
      ]
     },
     "metadata": {},
     "output_type": "display_data"
    }
   ],
   "source": [
    "key = keysplit(key)\n",
    "tr  = model.simulate(key, Args(use_boxes=True))\n",
    "# =========================\n",
    "plot_tr(tr, size=4)"
   ]
  },
  {
   "cell_type": "code",
   "execution_count": 88,
   "metadata": {},
   "outputs": [],
   "source": [
    "def get_data_logprobs(tr):\n",
    "    \"\"\"Return individual log-probabilities of each observed pixel value.\"\"\"\n",
    "    pixel_addr = lambda i: genjax.select({\"X\":\n",
    "        genjax.index_select(i,  genjax.select(\"measurement\"))\n",
    "    })\n",
    "    inds  = jnp.arange(tr[\"X\", \"measurement\"].shape[0])\n",
    "    logps = vmap(lambda i: tr.project(pixel_addr(i)))(inds)\n",
    "    return logps"
   ]
  },
  {
   "cell_type": "markdown",
   "metadata": {},
   "source": [
    "<hr style=\"height:2px\">\n",
    "\n",
    "**EXCERCISE**: \n",
    "\n",
    "Use `get_data_logprobs` from above and highlight the observations in a trace that would be considered outliers.\n",
    "\n",
    "\n",
    "**EXCERCISE**: \n",
    "\n",
    "Place the agent in a room with boxes. Make sure the sensor captures some of the boxes. This serves as our groundtruth. Then condition on the observation and use importance sampling to get a sense for the posterior. (Use `importance` and `vmap`)\n",
    "\n",
    "Next, switch off the boxes, and note what happens to the probability scores. (Use `update` and `vmap`)\n",
    "<hr style=\"height:2px\">"
   ]
  },
  {
   "cell_type": "code",
   "execution_count": 90,
   "metadata": {},
   "outputs": [
    {
     "name": "stdout",
     "output_type": "stream",
     "text": [
      "76.93689\n"
     ]
    },
    {
     "data": {
      "text/html": [
       "<pre style=\"white-space:pre;overflow-x:auto;line-height:normal;font-family:Menlo,'DejaVu Sans Mono',consolas,'Courier New',monospace\"></pre>\n"
      ],
      "text/plain": []
     },
     "metadata": {},
     "output_type": "display_data"
    },
    {
     "data": {
      "image/png": "[encoded data removed]",
      "text/plain": [
       "\u001b[1m<\u001b[0m\u001b[1;95mFigure\u001b[0m\u001b[39m size 50\u001b[0m\u001b[1;36m0x500\u001b[0m\u001b[39m with \u001b[0m\u001b[1;36m1\u001b[0m\u001b[39m Axes\u001b[0m\u001b[1m>\u001b[0m"
      ]
     },
     "metadata": {},
     "output_type": "display_data"
    }
   ],
   "source": [
    "# NOTE: Switch `use_boxes` to `False`, and place the agent in a room with boxes. \n",
    "# Compare the scores in both cases. Play with the outlier prob and \n",
    "# incoroporate the counts computed above. What is happening, what does this imply? \n",
    "\n",
    "w     = 0\n",
    "zmax  = 10.0\n",
    "model = make_model(w, zmax)\n",
    "key, keys = keysplit(key, 1, 2)\n",
    "\n",
    "# Create ground truth\n",
    "ch0 = choice_map({\n",
    "        'x':  _ps[35][:2],\n",
    "        'hd': _ps[35][ 2],\n",
    "        'sig':     0.1,\n",
    "        'outlier': 0.0\n",
    "})\n",
    "w0, tr0 = model.importance(keys[0], ch0, Args(use_boxes=True))\n",
    "\n",
    "print(tr0.score)\n",
    "# ====================\n",
    "plot_tr(tr0, size=4)"
   ]
  },
  {
   "cell_type": "code",
   "execution_count": 91,
   "metadata": {},
   "outputs": [
    {
     "data": {
      "text/html": [
       "<pre style=\"white-space:pre;overflow-x:auto;line-height:normal;font-family:Menlo,'DejaVu Sans Mono',consolas,'Courier New',monospace\">\n",
       "Scores with and without boxes\n",
       "and outlier prob <span style=\"color: #008080; text-decoration-color: #008080; font-weight: bold\">0.0</span> and <span style=\"color: #008080; text-decoration-color: #008080; font-weight: bold\">0.1</span>:\n",
       " \n",
       "tr0.score: <span style=\"color: #008080; text-decoration-color: #008080; font-weight: bold\">76.94</span> \n",
       "tr1.score: <span style=\"color: #008080; text-decoration-color: #008080; font-weight: bold\">-262.25</span> \n",
       "\n",
       "</pre>\n"
      ],
      "text/plain": [
       "\n",
       "Scores with and without boxes\n",
       "and outlier prob \u001b[1;36m0.0\u001b[0m and \u001b[1;36m0.1\u001b[0m:\n",
       " \n",
       "tr0.score: \u001b[1;36m76.94\u001b[0m \n",
       "tr1.score: \u001b[1;36m-262.25\u001b[0m \n",
       "\n"
      ]
     },
     "metadata": {},
     "output_type": "display_data"
    }
   ],
   "source": [
    "# Change args and outlier prob and see how the scores change\n",
    "ch1 = tr0.strip()\n",
    "ch1[\"outlier\"] = 0.1; # Try 0.1, 0.5\n",
    "w1, tr1 = model.importance(keys[1], ch1, Args(use_boxes=False))\n",
    "# ========================================\n",
    "console.print(f\"\"\"\n",
    "Scores with and without boxes\n",
    "and outlier prob {ch0[\"outlier\"]} and {ch1[\"outlier\"]}:\n",
    " \n",
    "tr0.score: {tr0.score:0.2f} \n",
    "tr1.score: {tr1.score:0.2f} \n",
    "\"\"\")"
   ]
  },
  {
   "cell_type": "markdown",
   "metadata": {},
   "source": [
    "### Create Ground Truth\n",
    "\n",
    "In our experiments we frequently have to create some ground truth sample.\n",
    "So it makes sense to write a sampler for that and have it \"jitted\"; this is where GenJAX can showcase one of its strength: JAX-enabled GPU acceleration."
   ]
  },
  {
   "cell_type": "code",
   "execution_count": 93,
   "metadata": {},
   "outputs": [],
   "source": [
    "def make_ground_truth_sampler(w=5, zmax=10.0):\n",
    "\n",
    "    # Use the constrained model because to \n",
    "    # get perturbations along each ray.\n",
    "    model = make_model(w, zmax, \"simple\")\n",
    "\n",
    "    def sampler(key, p, sig, out, use_boxes):\n",
    "        args  = (use_boxes,)\n",
    "        _, tr = model.importance(key, genjax.choice_map({\n",
    "            \"x\":  p[:2],\n",
    "            \"hd\": adjust_angle(p[2]),\n",
    "            \"sig\":     sig, \n",
    "            \"outlier\": out}), args) \n",
    "        return tr\n",
    "\n",
    "    # Jit for optimized performance\n",
    "    return jit(sampler)\n",
    "\n",
    "\n",
    "create_ground_truth = make_ground_truth_sampler(w=0, zmax=10.0)"
   ]
  },
  {
   "cell_type": "code",
   "execution_count": 94,
   "metadata": {},
   "outputs": [
    {
     "data": {
      "text/html": [
       "<pre style=\"white-space:pre;overflow-x:auto;line-height:normal;font-family:Menlo,'DejaVu Sans Mono',consolas,'Courier New',monospace\"></pre>\n"
      ],
      "text/plain": []
     },
     "metadata": {},
     "output_type": "display_data"
    },
    {
     "data": {
      "image/png": "[encoded data removed]",
      "text/plain": [
       "\u001b[1m<\u001b[0m\u001b[1;95mFigure\u001b[0m\u001b[39m size 50\u001b[0m\u001b[1;36m0x500\u001b[0m\u001b[39m with \u001b[0m\u001b[1;36m1\u001b[0m\u001b[39m Axes\u001b[0m\u001b[1m>\u001b[0m"
      ]
     },
     "metadata": {},
     "output_type": "display_data"
    }
   ],
   "source": [
    "t0 = 35\n",
    "\n",
    "p0        = _ps[t0]\n",
    "sig0      = 1e-1\n",
    "out0      = 0.0\n",
    "use_boxes = True\n",
    "\n",
    "key = keysplit(key)\n",
    "tr0 = create_ground_truth(key, p0, sig0, out0, use_boxes)\n",
    "# ====================\n",
    "plot_tr(tr0, size=4)"
   ]
  },
  {
   "cell_type": "markdown",
   "metadata": {},
   "source": [
    "<hr style=\"height:2px\">\n",
    "\n",
    "**EXCERCISE**: \n",
    "\n",
    "Make an un-jitted version of the sampler and compare the runtimes of both version.\n",
    "\n",
    "```python\n",
    "%timeit -n 1 -r 1 create_ground_truth(...)\n",
    "%timeit -n 1 -r 1 unjitted_create_ground_truth(...)\n",
    "```\n",
    "\n",
    "<hr style=\"height:2px\">"
   ]
  },
  {
   "cell_type": "markdown",
   "metadata": {},
   "source": [
    "### Vector Grid"
   ]
  },
  {
   "cell_type": "code",
   "execution_count": 95,
   "metadata": {},
   "outputs": [],
   "source": [
    "def get_linear_grid(shape, bounds, flat=False):\n",
    "    \"\"\"Create a (linear) grid of a given shape and bounds.\"\"\"\n",
    "    \n",
    "    linspaces = [jnp.linspace(*b, d) for b,d in zip(bounds, shape)]\n",
    "    vs = jnp.stack(jnp.meshgrid(*linspaces, indexing='ij'), axis=-1)\n",
    "    if flat: vs = vs.reshape(-1,len(shape))\n",
    "    \n",
    "    return vs"
   ]
  },
  {
   "cell_type": "code",
   "execution_count": 96,
   "metadata": {},
   "outputs": [
    {
     "data": {
      "text/html": [
       "<pre style=\"white-space:pre;overflow-x:auto;line-height:normal;font-family:Menlo,'DejaVu Sans Mono',consolas,'Courier New',monospace\"></pre>\n"
      ],
      "text/plain": []
     },
     "metadata": {},
     "output_type": "display_data"
    },
    {
     "data": {
      "image/png": "[encoded data removed]",
      "text/plain": [
       "\u001b[1m<\u001b[0m\u001b[1;95mFigure\u001b[0m\u001b[39m size 30\u001b[0m\u001b[1;36m0x300\u001b[0m\u001b[39m with \u001b[0m\u001b[1;36m1\u001b[0m\u001b[39m Axes\u001b[0m\u001b[1m>\u001b[0m"
      ]
     },
     "metadata": {},
     "output_type": "display_data"
    }
   ],
   "source": [
    "vs = get_linear_grid((5, 5, 5), ((-2,2), (-2,2), (0,jnp.pi/3)), flat=True)\n",
    "sc = jnp.arange(len(vs))\n",
    "\n",
    "# =======================================\n",
    "fig, ax = plt.subplots(1,1,figsize=(3,3))\n",
    "zoom_in(vs[:,:2], 2, ax=ax)\n",
    "plot_poses(vs, sc, linewidth=1, ax=ax)\n",
    "ax.spines['top'].set_visible(False)\n",
    "ax.spines['right'].set_visible(False)"
   ]
  },
  {
   "cell_type": "markdown",
   "metadata": {},
   "source": [
    "let's start slow and consider $\\mathbb{P}(\\sigma, \\omega \\mid p_0, X_0)$ where \n",
    "\n",
    "## Posterior inference\n",
    "\n",
    "### Part 1: Infering sensor parameters for a fixed pose\n",
    "\n",
    "As a warm up, before we analyse the full posterior, \n",
    "we consider a sample $(\\sigma_0, \\omega_0, p_0, X_0) \\sim \\mathbb{P}_{\\text{model}}$ from our model \n",
    "and examine $\\mathbb{P}(\\sigma, \\omega \\mid p_0, X_0)$. Particularly we \n",
    "want to check if we can indeed infer $\\sigma_0, \\omega_0$."
   ]
  },
  {
   "cell_type": "code",
   "execution_count": 97,
   "metadata": {},
   "outputs": [
    {
     "data": {
      "text/html": [
       "<pre style=\"white-space:pre;overflow-x:auto;line-height:normal;font-family:Menlo,'DejaVu Sans Mono',consolas,'Courier New',monospace\"></pre>\n"
      ],
      "text/plain": []
     },
     "metadata": {},
     "output_type": "display_data"
    },
    {
     "data": {
      "image/png": "[encoded data removed]",
      "text/plain": [
       "\u001b[1m<\u001b[0m\u001b[1;95mFigure\u001b[0m\u001b[39m size 50\u001b[0m\u001b[1;36m0x500\u001b[0m\u001b[39m with \u001b[0m\u001b[1;36m1\u001b[0m\u001b[39m Axes\u001b[0m\u001b[1m>\u001b[0m"
      ]
     },
     "metadata": {},
     "output_type": "display_data"
    }
   ],
   "source": [
    "key  = keysplit(key)\n",
    "t0   = 40\n",
    "p0   = _ps[t0]\n",
    "sig0 = 0.2\n",
    "out0 = 0.1\n",
    "\n",
    "tr0  = create_ground_truth(key, p0, sig0, out0, use_boxes=True)\n",
    "\n",
    "# ====================\n",
    "plot_tr(tr0, size=2)"
   ]
  },
  {
   "cell_type": "markdown",
   "metadata": {},
   "source": [
    "<hr style=\"height:2px\">\n",
    "\n",
    "**EXCERCISE**: \n",
    "\n",
    "Compute and look at the posterior over sensor parameter, ie. `sig` and `outlier`, conditioned on the remaining choices from the trace above, ie. `p0` and `X0`. Use `vmap` and `jit`, and the `get_linear_grid` method from above. Assess if the model infers the right sensor parameters.\n",
    "\n",
    "```python\n",
    "def eval_sensor_posterior(tr, shape, bounds)\n",
    "    assert len(shape) == len(bounds) == 2\n",
    "    \n",
    "    # Your code \n",
    "    # ...\n",
    "        \n",
    "    return grid, scores\n",
    "```\n",
    "\n",
    "Next write a version that only returns the MAP estimates\n",
    "\n",
    "```python\n",
    "def sensor_MAP_estimate(tr, shape, bounds)\n",
    "    assert len(shape) == len(bounds) == 2\n",
    "    \n",
    "    # Your code \n",
    "    # ...\n",
    "        \n",
    "    return sig_map, out_map, score_map\n",
    "```\n",
    "\n",
    "<hr style=\"height:2px\">"
   ]
  },
  {
   "cell_type": "markdown",
   "metadata": {},
   "source": [
    "There a couple of ways to achieve this, here's our solution."
   ]
  },
  {
   "cell_type": "code",
   "execution_count": 98,
   "metadata": {},
   "outputs": [],
   "source": [
    "def _eval_sensor_posterior(key, tr, use_boxes, sig, out):\n",
    "    ch   = choice_map({'sig': sig, 'outlier': out})\n",
    "    args = (use_boxes,)\n",
    "    (_, _, tr_, _) = tr.update(key, ch, argdiffs(args))\n",
    "    return tr_.get_score()\n",
    "\n",
    "# Generally it is useful to keep un-jitted versions\n",
    "# of the functions around. Typically in JAX it is recommended\n",
    "# to jit the at the end, and not at intermediate steps. Later\n",
    "# we reuse some of those functions.\n",
    "mapped_eval_sensor_posterior = jax.vmap(_eval_sensor_posterior, (None, None, None, 0, 0))\n",
    "eval_sensor_posterior = jax.jit(mapped_eval_sensor_posterior)"
   ]
  },
  {
   "cell_type": "code",
   "execution_count": 99,
   "metadata": {},
   "outputs": [],
   "source": [
    "def _sensor_MAP_estimate(key, tr, sigs, outls, use_boxes=True):\n",
    "    key = keysplit(key)\n",
    "    scores = mapped_eval_sensor_posterior(key, tr, use_boxes, sigs, outls)\n",
    "    i_map  = jnp.argmax(scores)\n",
    "\n",
    "    return sigs[i_map], outls[i_map], scores[i_map]\n",
    "\n",
    "\n",
    "mapped_sensor_MAP_estimate = jax.vmap(_sensor_MAP_estimate, (None, 0, None, None, None))\n",
    "sensor_MAP_estimate = jax.jit(mapped_sensor_MAP_estimate)"
   ]
  },
  {
   "cell_type": "code",
   "execution_count": 100,
   "metadata": {},
   "outputs": [
    {
     "data": {
      "text/html": [
       "<pre style=\"white-space:pre;overflow-x:auto;line-height:normal;font-family:Menlo,'DejaVu Sans Mono',consolas,'Courier New',monospace\">\n",
       "MAP Inference:\n",
       "\n",
       "    sigma:   <span style=\"color: #008080; text-decoration-color: #008080; font-weight: bold\">0.26</span>  <span style=\"font-weight: bold\">(</span><span style=\"color: #008080; text-decoration-color: #008080; font-weight: bold\">0.20</span><span style=\"font-weight: bold\">)</span>\n",
       "    outlier: <span style=\"color: #008080; text-decoration-color: #008080; font-weight: bold\">0.11</span>  <span style=\"font-weight: bold\">(</span><span style=\"color: #008080; text-decoration-color: #008080; font-weight: bold\">0.10</span><span style=\"font-weight: bold\">)</span>\n",
       "\n",
       "</pre>\n"
      ],
      "text/plain": [
       "\n",
       "MAP Inference:\n",
       "\n",
       "    sigma:   \u001b[1;36m0.26\u001b[0m  \u001b[1m(\u001b[0m\u001b[1;36m0.20\u001b[0m\u001b[1m)\u001b[0m\n",
       "    outlier: \u001b[1;36m0.11\u001b[0m  \u001b[1m(\u001b[0m\u001b[1;36m0.10\u001b[0m\u001b[1m)\u001b[0m\n",
       "\n"
      ]
     },
     "metadata": {},
     "output_type": "display_data"
    }
   ],
   "source": [
    "shape  = (10,10)\n",
    "bounds = ((0.05, 1.), (1e-2, .9))\n",
    "grid = get_linear_grid(shape, bounds, flat=True)\n",
    "sigs  = grid[...,0]\n",
    "outls = grid[...,1]\n",
    "\n",
    "use_boxes = True\n",
    "\n",
    "sig_map, out_map, _ = _sensor_MAP_estimate(key, tr0, sigs, outls, use_boxes=True)\n",
    "# ==================\n",
    "console.print(f\"\"\"\n",
    "MAP Inference:\n",
    "\n",
    "    sigma:   {sig_map:0.2f}  ({sig0:0.2f})\n",
    "    outlier: {out_map:0.2f}  ({out0:0.2f})\n",
    "\"\"\")"
   ]
  },
  {
   "cell_type": "markdown",
   "metadata": {},
   "source": [
    "<hr style=\"height:2px\">\n",
    "\n",
    "**EXCERCISE**: \n",
    "\n",
    "Use `get_data_logprobs` from above and color the observations in `sensor_posterior_experiment` that would be considered outliers.\n",
    "\n",
    "<hr style=\"height:2px\">"
   ]
  },
  {
   "cell_type": "markdown",
   "metadata": {},
   "source": [
    "### Posterior Examples: $\\mathbb{P}(\\sigma, \\omega \\mid p_0, X_0)$\n",
    "\n",
    "We just confirmed that MAP inference works pretty well. Now we are taking a look at some examples of $\\mathbb{P}(\\sigma, \\omega \\mid p_0, X_0)$ and how it changes for different $\\sigma_0, \\omega_0$."
   ]
  },
  {
   "cell_type": "code",
   "execution_count": 101,
   "metadata": {},
   "outputs": [],
   "source": [
    "# TODO: Hide this cell or move to imports\n",
    "# TODO: Add coloring to the scatter plot, either by logprob or by outlier.\n",
    "def sensor_posterior_experiment(key, t0, sig0, out0, use_boxes, figsize=(9,3)):\n",
    "\n",
    "    key = keysplit(key)\n",
    "    p0  = _ps[t0]\n",
    "    tr0 = create_ground_truth(key, p0, sig0, out0, use_boxes=True)\n",
    "\n",
    "    shape = (20,20)\n",
    "    grid = get_linear_grid(shape, ((0.05, 1.), (1e-2, .9)), flat=False)\n",
    "    sigs = grid[...,0]\n",
    "    outs = grid[...,1]\n",
    "\n",
    "    key    = keysplit(key)\n",
    "    scores = eval_sensor_posterior(key, tr0, use_boxes, sigs.ravel(), outs.ravel())\n",
    "\n",
    "\n",
    "    # =================================\n",
    "    fig, axs = plt.subplots(1,3, figsize=figsize, width_ratios=[1,1,1])\n",
    "    plot_tr(tr0, ax=axs[0], boxes=use_boxes, size=2, c=\"r\")\n",
    "\n",
    "\n",
    "    axs[1].set_title(\"$\\log \\mathbb{P}(\\sigma, \\omega \\mid p_0, X_0)$\")\n",
    "    axs[1].imshow(scores.reshape(grid.shape[:-1]), origin='lower')\n",
    "    axs[1].set_ylabel(\"sigma\")\n",
    "    axs[1].set_xlabel(\"outlier\")\n",
    "    axs[1].set(\n",
    "        xlabel=\"$\\omega$ - outlier\",\n",
    "        xticks=[0, shape[1]-1], \n",
    "        xticklabels=[f\"{v:0.2f}\" for v in grid[0,[0, shape[1]-1],1]],\n",
    "        ylabel=\"$\\sigma$ -noise\",\n",
    "        yticks=[0, shape[0]-1], \n",
    "        yticklabels=[f\"{v:0.2f}\" for v in grid[[0, shape[0]-1],0,0]],\n",
    "    )\n",
    "\n",
    "\n",
    "    axs[2].set_title(\"$\\mathbb{P}(\\sigma, \\omega \\mid p_0, X_0)$\")\n",
    "    im = scores.reshape(grid.shape[:-1])\n",
    "    im = im - logsumexp(im)\n",
    "    im = jnp.exp(im)\n",
    "    axs[2].imshow(im, origin='lower')\n",
    "    axs[2].set_ylabel(\"sigma\")\n",
    "    axs[2].set_xlabel(\"outlier\")\n",
    "    xticks = [0, (shape[1]-1)//2,shape[1]-1]\n",
    "    axs[2].set(\n",
    "        xlabel=\"$\\omega$ - outlier\",\n",
    "        xticks=xticks, \n",
    "        xticklabels=[f\"{v:0.2f}\" for v in grid[0,xticks,1]],\n",
    "        ylabel=\"$\\sigma$ -noise\",\n",
    "        yticks=[0, shape[0]-1], \n",
    "        yticklabels=[f\"{v:0.2f}\" for v in grid[[0, shape[0]-1],0,0]],\n",
    "    )\n",
    "\n",
    "\n",
    "    ax = axs[2]\n",
    "    ax.text(1.25, 0.95, f\"$\\sigma = ${sig0:0.2f}\\n$\\omega = ${out0:0.2f}\\nBoxes: {use_boxes}\", transform=ax.transAxes, fontsize=11,\n",
    "                        verticalalignment='top',\n",
    "                        horizontalalignment='right', \n",
    "                        bbox=dict(facecolor='w', alpha=1.))\n",
    "    fig.tight_layout()"
   ]
  },
  {
   "cell_type": "code",
   "execution_count": 102,
   "metadata": {},
   "outputs": [
    {
     "data": {
      "text/html": [
       "<pre style=\"white-space:pre;overflow-x:auto;line-height:normal;font-family:Menlo,'DejaVu Sans Mono',consolas,'Courier New',monospace\"></pre>\n"
      ],
      "text/plain": []
     },
     "metadata": {},
     "output_type": "display_data"
    },
    {
     "data": {
      "image/png": "[encoded data removed]",
      "text/plain": [
       "\u001b[1m<\u001b[0m\u001b[1;95mFigure\u001b[0m\u001b[39m size 90\u001b[0m\u001b[1;36m0x300\u001b[0m\u001b[39m with \u001b[0m\u001b[1;36m3\u001b[0m\u001b[39m Axes\u001b[0m\u001b[1m>\u001b[0m"
      ]
     },
     "metadata": {},
     "output_type": "display_data"
    },
    {
     "data": {
      "text/html": [
       "<pre style=\"white-space:pre;overflow-x:auto;line-height:normal;font-family:Menlo,'DejaVu Sans Mono',consolas,'Courier New',monospace\"></pre>\n"
      ],
      "text/plain": []
     },
     "metadata": {},
     "output_type": "display_data"
    },
    {
     "data": {
      "image/png": "[encoded data removed]",
      "text/plain": [
       "\u001b[1m<\u001b[0m\u001b[1;95mFigure\u001b[0m\u001b[39m size 90\u001b[0m\u001b[1;36m0x300\u001b[0m\u001b[39m with \u001b[0m\u001b[1;36m3\u001b[0m\u001b[39m Axes\u001b[0m\u001b[1m>\u001b[0m"
      ]
     },
     "metadata": {},
     "output_type": "display_data"
    },
    {
     "data": {
      "text/html": [
       "<pre style=\"white-space:pre;overflow-x:auto;line-height:normal;font-family:Menlo,'DejaVu Sans Mono',consolas,'Courier New',monospace\"></pre>\n"
      ],
      "text/plain": []
     },
     "metadata": {},
     "output_type": "display_data"
    },
    {
     "data": {
      "image/png": "[encoded data removed]",
      "text/plain": [
       "\u001b[1m<\u001b[0m\u001b[1;95mFigure\u001b[0m\u001b[39m size 90\u001b[0m\u001b[1;36m0x300\u001b[0m\u001b[39m with \u001b[0m\u001b[1;36m3\u001b[0m\u001b[39m Axes\u001b[0m\u001b[1m>\u001b[0m"
      ]
     },
     "metadata": {},
     "output_type": "display_data"
    }
   ],
   "source": [
    "t0        = 4\n",
    "use_boxes = True\n",
    "for sig0, out0 in [(0.1,0.1),(0.2,0.2),(0.5,0.5)]:\n",
    "    sensor_posterior_experiment(key, t0, sig0, out0, use_boxes)"
   ]
  },
  {
   "cell_type": "markdown",
   "metadata": {},
   "source": [
    "## Part 2: MAP estimates for sensor parameters for perturbed poses\n",
    "\n",
    "The full posterior is a function over a 5-dimensional space, so it can be hard to grasp &mdash; we are trying to in the demos at the end of the notebook where we visualize marginals. Here we try to collapse some information by using MAP estimates instead.\n",
    "\n",
    "\n",
    "<hr style=\"height:2px\">\n",
    "\n",
    "**EXCERCISE**: \n",
    "\n",
    "Implement a function that takes a trace and perturbs its underlying position and heading based on\n",
    "given noise levels.\n",
    "```python\n",
    "def perturb_pose(tr0, x_noise=1.0, hd_noise=10):\n",
    "\n",
    "    # Your code\n",
    "    # .....\n",
    "    \n",
    "    return tr1\n",
    "```\n",
    "\n",
    "Next, use your function to create `1000` perturbed traces and apply `sensor_MAP_estimate` from above. Once you did\n",
    "that switch off the boxes and see if anything changes. Play with different noise levels as well.\n",
    "\n",
    "<hr style=\"height:2px\">"
   ]
  },
  {
   "cell_type": "code",
   "execution_count": 103,
   "metadata": {},
   "outputs": [],
   "source": [
    "def pose_error(p, q):\n",
    "    d = p - q\n",
    "    d = d.at[2].set(adjust_angle(d[2]))\n",
    "    return jnp.linalg.norm(d)"
   ]
  },
  {
   "cell_type": "code",
   "execution_count": 104,
   "metadata": {},
   "outputs": [],
   "source": [
    "def _perturb_pose(key, tr, sig_x=0.1, sig_hd=5):\n",
    "    keys = keysplit(key, 3)\n",
    "\n",
    "    sig_hd = sig_hd/180*jnp.pi\n",
    "\n",
    "    dx = genjax.tfp_normal(jnp.zeros(2), sig_x*jnp.ones(2)).sample(keys[0])\n",
    "    dhd = genjax.normal(0.0, sig_hd).sample(keys[1])\n",
    "\n",
    "    _, _, tr1, _ = tr.update(keys[2], choice_map({\n",
    "        \"x\":  tr[\"x\"]  +  dx,\n",
    "        \"hd\": tr[\"hd\"] + dhd\n",
    "    }), argdiffs(tr.args))\n",
    "    \n",
    "    return tr1\n",
    "\n",
    "\n",
    "perturb_pose = jit(vmap(lambda key, tr: _perturb_pose(key, tr, sig_x=.95, sig_hd=15), (0, None)))"
   ]
  },
  {
   "cell_type": "code",
   "execution_count": 105,
   "metadata": {},
   "outputs": [
    {
     "data": {
      "text/html": [
       "<pre style=\"white-space:pre;overflow-x:auto;line-height:normal;font-family:Menlo,'DejaVu Sans Mono',consolas,'Courier New',monospace\"></pre>\n"
      ],
      "text/plain": []
     },
     "metadata": {},
     "output_type": "display_data"
    },
    {
     "data": {
      "image/png": "[encoded data removed]",
      "text/plain": [
       "\u001b[1m<\u001b[0m\u001b[1;95mFigure\u001b[0m\u001b[39m size 50\u001b[0m\u001b[1;36m0x500\u001b[0m\u001b[39m with \u001b[0m\u001b[1;36m1\u001b[0m\u001b[39m Axes\u001b[0m\u001b[1m>\u001b[0m"
      ]
     },
     "metadata": {},
     "output_type": "display_data"
    }
   ],
   "source": [
    "# Note: `t0=40` and `t0=35` are good choices\n",
    "t0  = 40 \n",
    "key = keysplit(key)\n",
    "p0  = _ps[t0]\n",
    "sig0 = 0.2\n",
    "out0 = 0.0\n",
    "tr0  = create_ground_truth(key, p0, sig0, out0, use_boxes=True)\n",
    "\n",
    "# ====================\n",
    "plot_tr(tr0, size=2)"
   ]
  },
  {
   "cell_type": "code",
   "execution_count": 113,
   "metadata": {},
   "outputs": [],
   "source": [
    "key, keys = keysplit(key, 1, 1_000)\n",
    "\n",
    "trs = perturb_pose(keys, tr0)\n",
    "ps  = vmap(lambda tr: tr.retval[0])(trs)\n",
    "err = vmap(lambda p: pose_error(p,p0))(ps)\n",
    "\n",
    "# Make grid smaller so we don't get out of memory errors\n",
    "shape  = (5,5)\n",
    "bounds = ((0.05, 0.8), (1e-2, .9))\n",
    "\n",
    "grid = get_linear_grid(shape, bounds, flat=True)\n",
    "sigs = grid[...,0]\n",
    "outs = grid[...,1]\n",
    "\n",
    "# NOTE: Switch boxes on and off and see if anything changes\n",
    "use_boxes = False\n",
    "\n",
    "key = keysplit(key)\n",
    "sigs_map, outs_map, scores = sensor_MAP_estimate(key, trs, sigs, outs, use_boxes)"
   ]
  },
  {
   "cell_type": "code",
   "execution_count": 114,
   "metadata": {},
   "outputs": [
    {
     "data": {
      "text/html": [
       "<pre style=\"white-space:pre;overflow-x:auto;line-height:normal;font-family:Menlo,'DejaVu Sans Mono',consolas,'Courier New',monospace\"></pre>\n"
      ],
      "text/plain": []
     },
     "metadata": {},
     "output_type": "display_data"
    },
    {
     "data": {
      "image/png": "[encoded data removed]",
      "text/plain": [
       "\u001b[1m<\u001b[0m\u001b[1;95mFigure\u001b[0m\u001b[39m size 90\u001b[0m\u001b[1;36m0x400\u001b[0m\u001b[39m with \u001b[0m\u001b[1;36m2\u001b[0m\u001b[39m Axes\u001b[0m\u001b[1m>\u001b[0m"
      ]
     },
     "metadata": {},
     "output_type": "display_data"
    }
   ],
   "source": [
    "PAD = 3\n",
    "quantile = 0.3\n",
    "\n",
    "mask = scores>-jnp.inf\n",
    "ps_  = ps[mask]\n",
    "sc_  = scores[mask]\n",
    "\n",
    "# =============================\n",
    "fig, axs = plt.subplots(1, 2, figsize=(9,4), width_ratios=[2,1])\n",
    "\n",
    "ax = axs[0]\n",
    "ax.set_aspect(1)\n",
    "ax.spines['top'].set_visible(False)\n",
    "ax.spines['right'].set_visible(False)\n",
    "ax.spines['left'].set_visible(False)\n",
    "ax.spines['bottom'].set_visible(False)\n",
    "zoom_in(ps[:,:2], PAD, ax=ax)\n",
    "plot_segs(_segs, c=\"k\", zorder=1,ax=ax)\n",
    "plot_segs(_boxes, c=\"k\", zorder=1, ax=ax, alpha=0.1)\n",
    "plot_poses(ps_, sc_, r=0.5, q=quantile, clip=-1e12, ax=ax)\n",
    "plot_pose(p0, c=\"r\", ax=ax)\n",
    "\n",
    "\n",
    "ax = axs[1]\n",
    "\n",
    "outs_map_ = outs_map + 0.01*np.random.randn(1_000)\n",
    "sigs_map_ = sigs_map + 0.01*np.random.randn(1_000) \n",
    "order = jnp.argsort(scores)\n",
    "ax.scatter(outs_map_[order], sigs_map_[order], c=scores[order], zorder=2)\n",
    "ax.set(\n",
    "        xlabel=\"outlier\",\n",
    "        xticks=outs[jnp.array([0, -1])], \n",
    "        xticklabels=[f\"{v:0.2f}\" for v in outs[jnp.array([0, -1])]],\n",
    "        ylabel=\"sigma\",\n",
    "        yticks=[sigs[0], sig0, sigs[-1]], \n",
    "        yticklabels=[f\"{sigs[0]:0.2f}\", \"$\\sigma_0$\",f\"{sigs[-1]:0.2f}\"],\n",
    ")\n",
    "ax.hlines(sig0, outs[0], outs[-1], color=\"k\", linestyle=\":\", alpha=0.5, zorder=1)\n",
    "ax.set_aspect(1)"
   ]
  },
  {
   "cell_type": "markdown",
   "metadata": {},
   "source": [
    "<hr style=\"height:2px\">\n",
    "\n",
    "**Question**: \n",
    "\n",
    "Looking at the data above &mdash; you should take a second to understand what is plotted &mdash; how would you characterize the the true pose. What distinguishes it from other high scoring poses?\n",
    "\n",
    "Below we provide two widgets to explore the posterior over poses and the full joint posterior over poses and sensor parameters, use those to investigate further.\n",
    "\n",
    "<hr style=\"height:2px\">"
   ]
  },
  {
   "cell_type": "markdown",
   "metadata": {},
   "source": [
    "## Demos"
   ]
  },
  {
   "cell_type": "code",
   "execution_count": 120,
   "metadata": {},
   "outputs": [],
   "source": [
    "def make_constraints(X, sensor_model_type=\"simple\"):\n",
    "    \"\"\"Return a choicemap with sensor constraints\"\"\"\n",
    "    assert X.shape[-1] == 3\n",
    "    \n",
    "    X  = X[...,:3].reshape(-1,3)\n",
    "    D  = jnp.linalg.norm(X, axis=-1)\n",
    "    ch = genjax.choice_map({\"X\": \n",
    "            genjax.vector_choice_map({\n",
    "                \"measurement\":  D if sensor_model_type == \"simple\" else X\n",
    "            }) \n",
    "    })\n",
    "    return ch"
   ]
  },
  {
   "cell_type": "code",
   "execution_count": 121,
   "metadata": {},
   "outputs": [],
   "source": [
    "def _eval_pose_and_sensor(tr, key, p, sig, outlier):\n",
    "    ch = choice_map({\n",
    "        'x':  p[:2], \n",
    "        'hd': adjust_angle(p[2]),\n",
    "        'sig':     sig,\n",
    "        'outlier': outlier,\n",
    "    })\n",
    "    diffs = argdiffs(tr.args)\n",
    "    (_, w, tr_, _) = tr.update(key, ch, diffs)\n",
    "    log_ps = get_data_logprobs(tr_)\n",
    "    return tr_.get_score(), log_ps\n",
    "\n",
    "\n",
    "eval_pose_and_sensor = jax.jit(jax.vmap(_eval_pose_and_sensor, in_axes=(None, None, 0, 0, 0)))\n",
    "eval_pose = jax.jit(jax.vmap(_eval_pose_and_sensor, in_axes=(None, None, 0, None, None)))"
   ]
  },
  {
   "cell_type": "markdown",
   "metadata": {},
   "source": [
    "### Pose Posterier: $\\mathbb{P}(p \\mid \\sigma, \\omega, X_0)$"
   ]
  },
  {
   "cell_type": "code",
   "execution_count": 122,
   "metadata": {},
   "outputs": [],
   "source": [
    "# TODO: Convince me that this is actually faster.\n",
    "@lru_cache(maxsize=None)\n",
    "def make_inference_trace_sampler(w, zmax, sensor_model_type):\n",
    "    model = make_model(w, zmax, sensor_model_type)\n",
    "    importance = jit(model.importance)\n",
    "    return importance"
   ]
  },
  {
   "cell_type": "code",
   "execution_count": 125,
   "metadata": {},
   "outputs": [
    {
     "data": {
      "application/vnd.jupyter.widget-view+json": {
       "model_id": "ecc426f0e37f46ccb6297119eeb29c71",
       "version_major": 2,
       "version_minor": 0
      },
      "text/plain": [
       "VBox(children=(HTML(value='<h1>Pose Posterior Explorer</h1>'), HBox(children=(VBox(children=(HTML(value='<h2>G…"
      ]
     },
     "execution_count": 125,
     "metadata": {},
     "output_type": "execute_result"
    }
   ],
   "source": [
    "%matplotlib inline\n",
    "from timeit import timeit\n",
    "from ipywidgets import (interact, interactive, IntSlider, FloatSlider, HTMLMath, HTML,\n",
    "        FloatRangeSlider, RadioButtons, Checkbox, Dropdown, Button, VBox, HBox, Output)\n",
    "import warnings\n",
    "warnings.filterwarnings('ignore')\n",
    "\n",
    "button = Button(\n",
    "                description='Save config',\n",
    "                disabled=False, button_style='', # 'success', 'info', 'warning', 'danger' or ''\n",
    "                icon='check' # (FontAwesome names without the `fa-` prefix)\n",
    "        )\n",
    "\n",
    "\n",
    "confs = []\n",
    "vs    = None\n",
    "sc    = None\n",
    "shape = None\n",
    "logps = None\n",
    "tr0   = None\n",
    "X0    = None\n",
    "\n",
    "\n",
    "def func(t, sig0, out0, regenerate, inference_model_type, use_boxes, num_xy, num_hd, xs, ys, hds, sig, out, show_probs, quantile, PAD):\n",
    "\n",
    "        def on_click(button):\n",
    "                global confs;\n",
    "                nonlocal t, sig0, out0, sig, out, use_boxes;\n",
    "                conf = dict(t=t, sig0=sig0, out0=out0, sig=sig, out=out, use_boxes=use_boxes) \n",
    "                confs.append(conf)\n",
    "\n",
    "        button.on_click(on_click)\n",
    "\n",
    "        global key, tr0, X0;\n",
    "\n",
    "        p0  = _ps[t]\n",
    "\n",
    "        # Regenerate ground truth?\n",
    "        if regenerate:\n",
    "                key = keysplit(key)\n",
    "                tr0 = create_ground_truth(key, p0, sig0, out0, use_boxes=True)\n",
    "                _, X0, Y0  = tr0.get_retval()\n",
    "\n",
    "\n",
    "        # Preparing a base trace for inference, i.e. one \n",
    "        # that we can call update on \n",
    "        w, zmax = 5, 10.0\n",
    "        # %timeit -n 1 -r 1 make_inference_trace_sampler(w, zmax, inference_model_type)\n",
    "\n",
    "        inference_model_importance = make_inference_trace_sampler(\n",
    "                w, zmax, inference_model_type)\n",
    "\n",
    "        ch            = make_constraints(X0, inference_model_type)\n",
    "        ch[\"outlier\"] = 0.1\n",
    "\n",
    "        key = keysplit(key)\n",
    "        _, tr = inference_model_importance(key, ch, (use_boxes,))\n",
    "\n",
    "\n",
    "        # Create a vector grid\n",
    "        shape       = (num_xy, num_xy, num_hd)\n",
    "        grid_bounds = (xs + p0[0], ys + p0[1], hds + p0[2])\n",
    "        vs          = get_linear_grid(shape, grid_bounds, flat=False)\n",
    "        vs_flat     = vs.reshape(-1, len(shape))\n",
    "\n",
    "\n",
    "        # Evaluate the Grid\n",
    "        key = keysplit(key)\n",
    "        # timed = timeit('eval_pose(tr, key, vs_flat[:,:3], sig, out);', globals=globals(), number=1)\n",
    "        timed = timeit(lambda: eval_pose(tr, key, vs_flat[:,:3], sig, out), globals=globals(), number=1)\n",
    "        key = keysplit(key)\n",
    "        sc_flat, logps_flat = eval_pose(tr, key, vs_flat[:,:3], sig, out)\n",
    "        sc = sc_flat.reshape(shape)\n",
    "        logps = logps_flat.reshape(shape + (X0.shape[1],))\n",
    "\n",
    "        ###############################\n",
    "        ###############################\n",
    "        ###############################\n",
    "        ###############################\n",
    "        fig, axs = plt.subplots(1,2, figsize=(12,7))\n",
    "\n",
    "        ##\n",
    "        ##  Ground Truth\n",
    "        ##\n",
    "        plot_tr(tr0, ax=axs[0])\n",
    "        zoom_in(p0[:2], PAD, ax=axs[0])\n",
    "        axs[0].set_title(\"Ground Truth\\nfrom simulated world\")\n",
    "\n",
    "\n",
    "        ##\n",
    "        ##  Posterior: Pose\n",
    "        ##\n",
    "        ax = axs[1]\n",
    "        ax.text(0.05, 0.95, f\"Num evals: {np.prod(shape)}\\nGrid evaluation: {timed*1_000:4.2f} ms \", transform=axs[1].transAxes, fontsize=11,\n",
    "                        verticalalignment='top', \n",
    "                        bbox=dict(facecolor='w', alpha=1.))\n",
    "\n",
    "        if show_probs: ax.set_title(\"Posterior over poses\\n$\\mathbb{P}(p \\mid \\sigma, \\omega, X_0)$\")\n",
    "        else: ax.set_title(\"Posterior over poses\\n$\\log \\mathbb{P}(p \\mid \\sigma, \\omega, X_0)$\")\n",
    "        ax.set_aspect(1)\n",
    "        ax.spines['top'].set_visible(False)\n",
    "        ax.spines['right'].set_visible(False)\n",
    "        ax.spines['left'].set_visible(False)\n",
    "        ax.spines['bottom'].set_visible(False)\n",
    "        zoom_in(p0[:2], PAD, ax=ax)\n",
    "        plot_segs(_segs, c=\"k\", zorder=1,ax=ax)\n",
    "        if use_boxes: plot_segs(_boxes, c=\"k\", zorder=1,ax=ax)\n",
    "\n",
    "        sc_ = sc - logsumexp(sc)\n",
    "        if show_probs: plot_poses(vs, jnp.exp(sc_), r=0.5, q=quantile, clip=-1e12, ax=ax)\n",
    "        else: plot_poses(vs, sc_, r=0.5, q=quantile, clip=-1e12, ax=ax)\n",
    "\n",
    "        fig.tight_layout()\n",
    "\n",
    "\n",
    "widget = interactive(func,\n",
    "        t = IntSlider(min=0, max=_T-1, step=1, value=35, continuous_update=False, description=\"Pose\"),\n",
    "        sig0 = FloatSlider(min=1e-6, max=1., step=0.01, value=1e-6, continuous_update=False, description='sigma'),\n",
    "        out0 = FloatSlider(min=0.0, max=1., step=0.01, value=0.0, continuous_update=False, description='outlier'),\n",
    "        regenerate  = Checkbox(value=True, description='Regenerate:',disabled=False),\n",
    "        inference_model_type = Dropdown(options=[\"simple\"],value=\"simple\",description='Model',disabled=False),\n",
    "        use_boxes            = Checkbox(value=True, disabled=False, description='Use Boxes'),\n",
    "        num_xy  = IntSlider(min=0, max=30, step=1, value=5, continuous_update=False, description='x, y'),\n",
    "        num_hd  = IntSlider(min=0, max=30, step=1, value=5, continuous_update=False, description='hd'),\n",
    "        xs   = FloatRangeSlider(min=-8.0, max=8.0, step=0.01, value=[-1.0,1.0], readout_format='.1f', continuous_update=False, description='x'),\n",
    "        ys   = FloatRangeSlider(min=-8.0, max=8.0, step=0.01, value=[-1.0,1.0], readout_format='.1f', continuous_update=False, description='y'),\n",
    "        hds  = FloatRangeSlider(min=-jnp.pi, max=jnp.pi, step=0.01, value=[-jnp.pi/4,jnp.pi/4], readout_format='.1f', continuous_update=False, description='hd'),\n",
    "        sig  = FloatSlider(min=0.05, max=1., step=0.01, value=0.1, continuous_update=False, description='sigma'),\n",
    "        out  = FloatSlider(min=0.0, max=1., step=0.01, value=0.1, continuous_update=False, description='outlier'),\n",
    "        show_probs = Checkbox(value=False, disabled=False, description='Probability'),\n",
    "        quantile = FloatSlider(min=0.0, max=1., step=0.01, value=0.0, continuous_update=False),\n",
    "        PAD = FloatSlider(min=0.0, max=15., step=0.01, value=8.0, continuous_update=False),\n",
    ")\n",
    "\n",
    "ground_truth_children = widget.children[:4]\n",
    "options_children      = widget.children[4:6]\n",
    "grid_shape_children   = widget.children[6:8]\n",
    "grid_entries_children = widget.children[8:13]\n",
    "plot_children         = widget.children[13:16]\n",
    "\n",
    "interactive_full_posterior = VBox([  \n",
    "        HTML(\"<h1>Pose Posterior Explorer</h1>\"),\n",
    "        HBox([\n",
    "                VBox([HTML(\"<h2>Ground Truth</h2>\"), *ground_truth_children]),\n",
    "                VBox([HTML(\"<h2>Plotting</h2>\"), *plot_children]),\n",
    "        ]),\n",
    "        HBox([HTML(\"<h2>Grid Inference</h2>\")]),\n",
    "        HBox([*reversed(options_children)]),\n",
    "        HBox([  \n",
    "                VBox([HTML(\"<b>Grid Shape</b>\"), *grid_shape_children]),\n",
    "                VBox([HTML(\"<b>Grid Values</b>\"), *grid_entries_children]),\n",
    "        ]),\n",
    "        widget.children[-1]\n",
    "])  \n",
    "\n",
    "interactive_full_posterior"
   ]
  },
  {
   "cell_type": "markdown",
   "metadata": {},
   "source": [
    "<hr style=\"height:2px\">\n",
    "\n",
    "**EXCERCISE:**\n",
    "\n",
    "Explore the posterior from Part 2.\n",
    "\n",
    "<hr style=\"height:2px\">"
   ]
  },
  {
   "cell_type": "markdown",
   "metadata": {},
   "source": [
    "### Full posterior: $\\mathbb{P}(p, \\sigma, \\omega \\mid X_0)$"
   ]
  },
  {
   "cell_type": "code",
   "execution_count": 128,
   "metadata": {},
   "outputs": [
    {
     "data": {
      "application/vnd.jupyter.widget-view+json": {
       "model_id": "2049c1a0e838477dba2617fc2ea5fd10",
       "version_major": 2,
       "version_minor": 0
      },
      "text/plain": [
       "VBox(children=(HTML(value='<h1>Full Posterior Explorer</h1>'), HBox(children=(VBox(children=(HTML(value='<h2>G…"
      ]
     },
     "execution_count": 128,
     "metadata": {},
     "output_type": "execute_result"
    }
   ],
   "source": [
    "from timeit import timeit\n",
    "from ipywidgets import (interact, interactive, IntSlider, FloatSlider, Label, HTML,\n",
    "        FloatRangeSlider, RadioButtons, Checkbox, Dropdown, Button, VBox, HBox, Output)\n",
    "import warnings\n",
    "warnings.filterwarnings('ignore')\n",
    "\n",
    "button = Button(\n",
    "                description='Save config',\n",
    "                disabled=False, button_style='', # 'success', 'info', 'warning', 'danger' or ''\n",
    "                icon='check' # (FontAwesome names without the `fa-` prefix)\n",
    "        )\n",
    "\n",
    "confs = []\n",
    "vs    = None\n",
    "sc    = None\n",
    "shape = None\n",
    "logps = None\n",
    "tr0   = None\n",
    "X0    = None\n",
    "\n",
    "\n",
    "def func(t, sig0, out0, regenerate, inference_model_type, use_boxes, num_xy, num_hd, num_sig, num_out, xs, ys, hds, sigs, outs,  show_probs, quantile, PAD):\n",
    "\n",
    "        global key, tr0, X0;\n",
    "\n",
    "        p0  = _ps[t]\n",
    "\n",
    "        # Regenerate ground truth?\n",
    "        if regenerate:\n",
    "                key = keysplit(key)\n",
    "                tr0 = create_ground_truth(key, p0, sig0, out0, use_boxes=True)\n",
    "                _, X0, Y0  = tr0.get_retval()\n",
    "\n",
    "\n",
    "        # Preparing a base trace for inference, i.e. one \n",
    "        # that we can call update on \n",
    "        w, zmax = 5, 10.0\n",
    "        # %timeit -n 1 -r 1 make_inference_trace_sampler(w, zmax, inference_model_type)\n",
    "\n",
    "        inference_model_importance = make_inference_trace_sampler(\n",
    "                w, zmax, inference_model_type)\n",
    "\n",
    "\n",
    "        ch            = make_constraints(X0, inference_model_type)\n",
    "        ch[\"outlier\"] = 0.1\n",
    "\n",
    "        key = keysplit(key)\n",
    "        _, tr = inference_model_importance(key, ch, (use_boxes,))\n",
    "\n",
    "\n",
    "        # Create a vector grid\n",
    "        shape       = (num_xy, num_xy, num_hd, num_sig, num_out)\n",
    "        grid_bounds = (xs + p0[0], ys + p0[1], hds + p0[2], sigs, outs)\n",
    "        vs          = get_linear_grid(shape, grid_bounds, flat=False)\n",
    "        vs_flat     = vs.reshape(-1, len(shape))\n",
    "\n",
    "\n",
    "        # Evaluate the Grid\n",
    "        key = keysplit(key)\n",
    "        timed = timeit(lambda: eval_pose_and_sensor(tr, key, vs_flat[:,:3], vs_flat[:,3], vs_flat[:,4]), globals=globals(), number=1)\n",
    "        key = keysplit(key)\n",
    "        sc_flat, logps_flat = eval_pose_and_sensor(tr, key, vs_flat[:,:3], vs_flat[:,3], vs_flat[:,4])\n",
    "        sc = sc_flat.reshape(shape)\n",
    "        logps = logps_flat.reshape(shape + (X0.shape[1],))\n",
    "\n",
    "\n",
    "                \n",
    "        sensor_marginal = logsumexp(sc, axis=(0,1,2))\n",
    "        sensor_marginal = sensor_marginal - logsumexp(sensor_marginal)\n",
    "\n",
    "\n",
    "        pose_marginal = logsumexp(sc, axis=(3,4))\n",
    "        pose_marginal = pose_marginal - logsumexp(pose_marginal)\n",
    "\n",
    "        ###############################\n",
    "        ###############################\n",
    "        ###############################\n",
    "        fig, axs = plt.subplots(2,3, figsize=(12,8), height_ratios=[1,15], width_ratios=[5,5,2])\n",
    "        for ax in axs[0,:]: ax.axis(\"off\")\n",
    "\n",
    "        ##\n",
    "        ##  TEXT\n",
    "        ##\n",
    "        ax = axs[0,0]\n",
    "        ax.text(0.05, 0.05, f\"Num evals: {np.prod(shape)}\\nGrid evaluation: {timed*1_000:4.2f} ms \", transform=ax.transAxes, fontsize=11,\n",
    "                        verticalalignment='top', \n",
    "                        bbox=dict(facecolor='w', alpha=1.))\n",
    "\n",
    "        ##\n",
    "        ##  Ground Truth\n",
    "        ##\n",
    "        ax = axs[1,0]\n",
    "        ax.set_title(\"Ground Truth\\nfrom simulated world\")\n",
    "        plot_tr(tr0, ax=ax)\n",
    "        zoom_in(p0[:2], PAD, ax=ax)\n",
    "        ax.spines['top'].set_visible(False)\n",
    "        ax.spines['right'].set_visible(False)\n",
    "        ax.spines['left'].set_visible(False)\n",
    "        ax.spines['bottom'].set_visible(False)\n",
    "        \n",
    "\n",
    "        ##\n",
    "        ##  Marginal: Sensor Params\n",
    "        ##\n",
    "        ax = axs[1,2]\n",
    "        if show_probs: ax.set_title(\"Marginalized posterior\\nover sensor parameters\\n$\\mathbb{P}(\\sigma, \\omega \\mid X_0)$\")\n",
    "        else: ax.set_title(\"Marginalized posterior\\nover sensor parameters\\n$\\log \\mathbb{P}(\\sigma, \\omega \\mid X_0)$\")\n",
    "        ax.set(\n",
    "                xlabel=\"outlier\",\n",
    "                xticks=[0, shape[4]-1], \n",
    "                xticklabels=[f\"{v:0.2f}\" for v in vs[0,0,0,0,[0, shape[4]-1],4]],\n",
    "                ylabel=\"noise\",\n",
    "                yticks=[0, shape[3]-1], \n",
    "                yticklabels=[f\"{v:0.4f}\" for v in vs[0,0,0,[0, shape[3]-1],0,3]],\n",
    "        )\n",
    "        if show_probs: ax.imshow(jnp.exp(sensor_marginal), origin=\"lower\")\n",
    "        else: ax.imshow(sensor_marginal, origin=\"lower\")\n",
    "\n",
    "        ##\n",
    "        ##  Marginal: Pose\n",
    "        ##\n",
    "        ax = axs[1,1]\n",
    "        if show_probs: ax.set_title(\"Marginalized posterior\\nover poses $\\mathbb{P}(p \\mid X_0)$\")\n",
    "        else: ax.set_title(\"Marginalized posterior\\nover poses $\\log \\mathbb{P}(p \\mid X_0)$\")\n",
    "        ax.set_aspect(1)\n",
    "        ax.spines['top'].set_visible(False)\n",
    "        ax.spines['right'].set_visible(False)\n",
    "        ax.spines['left'].set_visible(False)\n",
    "        ax.spines['bottom'].set_visible(False)\n",
    "        zoom_in(p0[:2], PAD, ax=ax)\n",
    "        plot_segs(_segs, c=\"k\", zorder=1, ax=ax)\n",
    "        if use_boxes: plot_segs(_boxes, c=\"k\", zorder=1, ax=ax)\n",
    "        if show_probs: plot_poses(vs[:,:,:,0,0,:3], jnp.exp(pose_marginal), r=0.5, q=quantile, clip=-1e12, ax=ax)\n",
    "        else: plot_poses(vs[:,:,:,0,0,:3], pose_marginal, r=0.5, q=quantile, clip=-1e12, ax=ax)\n",
    "\n",
    "        fig.tight_layout()\n",
    "\n",
    "\n",
    "\n",
    "widget = interactive(func,\n",
    "        t    = IntSlider(min=0, max=_T-1, step=1, value=35, continuous_update=False, description=\"Pose\"),\n",
    "        sig0 = FloatSlider(min=1e-6, max=1., step=0.01, value=1e-6, continuous_update=False, description=\"Noise\"),\n",
    "        out0 = FloatSlider(min=0.0, max=1., step=0.01, value=0.0, continuous_update=False,   description=\"Outlier\"),\n",
    "        regenerate  = Checkbox(value=True, description='Regenerate',disabled=False),\n",
    "        inference_model_type = Dropdown(options=[\"simple\"], value=\"simple\", description='Model',disabled=False),\n",
    "        use_boxes            = Checkbox(value=True,description='Use Boxes',disabled=False),\n",
    "        num_xy  = IntSlider(min=1, max=10, step=1, value=5, continuous_update=False, description=\"x, y\"),\n",
    "        num_hd  = IntSlider(min=1, max=10, step=1, value=5, continuous_update=False, description=\"hd\"),\n",
    "        num_sig = IntSlider(min=1, max=10, step=1, value=5, continuous_update=False, description=\"sigma\"),\n",
    "        num_out = IntSlider(min=1, max=10, step=1, value=5, continuous_update=False, description=\"outlier\"),\n",
    "        xs   = FloatRangeSlider(min=-3.0, max=3.0, step=0.01, value=[-1.0,1.0], readout_format='.1f', continuous_update=False, description=\"x\"),\n",
    "        ys   = FloatRangeSlider(min=-3.0, max=3.0, step=0.01, value=[-1.0,1.0], readout_format='.1f', continuous_update=False, description=\"y\"),\n",
    "        hds  = FloatRangeSlider(min=-jnp.pi, max=jnp.pi, step=0.01, value=[-jnp.pi/4,jnp.pi/4], readout_format='.1f', continuous_update=False, description=\"hd\"),\n",
    "        sigs = FloatRangeSlider(min=1e-6, max=1.0, step=0.01, value=[0.01,0.7], readout_format='.1f', continuous_update=False, description=\"sigma\"),\n",
    "        outs = FloatRangeSlider(min=0.0,  max=1.0, step=0.01, value=[0.01,0.9], readout_format='.1f', continuous_update=False, description=\"outlier\"),\n",
    "        show_probs = Checkbox(value=False, description='Probability',disabled=False),\n",
    "        quantile   = FloatSlider(min=0.0, max=1., step=0.01, value=0.0, continuous_update=False, description=\"Quantile\"),\n",
    "        PAD        = FloatSlider(min=0.0, max=15., step=0.01, value=8.0, continuous_update=False, description=\"Zoom\"),\n",
    ")\n",
    "\n",
    "\n",
    "ground_truth_children = widget.children[:4]\n",
    "options_children      = widget.children[4:6]\n",
    "grid_shape_children   = widget.children[6:10]\n",
    "grid_entries_children = widget.children[10:15]\n",
    "plot_children         = widget.children[15:18]\n",
    "\n",
    "interactive_full_posterior = VBox([  \n",
    "        HTML(\"<h1>Full Posterior Explorer</h1>\"),\n",
    "        HBox([\n",
    "                VBox([HTML(\"<h2>Ground Truth</h2>\"), *ground_truth_children]),\n",
    "                VBox([HTML(\"<h2>Plotting</h2>\"), *plot_children]),\n",
    "        ]),\n",
    "        HBox([HTML(\"<h2>Grid Inference</h2>\")]),\n",
    "        HBox([*reversed(options_children)]),\n",
    "        HBox([  \n",
    "                VBox([HTML(\"<b>Grid Shape</b>\"), *grid_shape_children]),\n",
    "                VBox([HTML(\"<b>Grid Values</b>\"), *grid_entries_children]),\n",
    "        ]),\n",
    "        widget.children[-1]\n",
    "])  \n",
    "\n",
    "interactive_full_posterior"
   ]
  },
  {
   "cell_type": "markdown",
   "metadata": {},
   "source": [
    "<hr style=\"height:2px\">\n",
    "\n",
    "**EXCERCISE:**\n",
    "\n",
    "Explore the posterior from Part 2.\n",
    "\n",
    "**Q:** \n",
    "\n",
    "What is the quality of the posterior for different grid resolutions and sizes? \n",
    "What are ways to \"constrain\" a model to a particular noise level?\n",
    "\n",
    "**Q:** \n",
    "\n",
    "How do we encode a preference for lower noise levels/ Tell the model to prefer lower noiselevels.\n",
    "\n",
    "**Q:** Do you think that makes sense for outliers as well? Why? Why not?\n",
    "\n",
    "<hr style=\"height:4px\">"
   ]
  },
  {
   "cell_type": "markdown",
   "metadata": {},
   "source": [
    "# Appendix"
   ]
  },
  {
   "cell_type": "code",
   "execution_count": null,
   "metadata": {},
   "outputs": [],
   "source": [
    "#|  Let's look at what we just created. But keep in mind that going forward \n",
    "#|  we are forgetting about the 3D structure here. This is really just\n",
    "#|  so we can take advantage of the performance of the 3D renderer.\n",
    "v = Viewer(width=800, cam_pos=(*(_center - jnp.array([0,25])),20), cam_look=np.array([*_center,0]), background=\"#eee\", view_as=\"world\")\n",
    "v.add_mesh(map_mesh.vertices, map_mesh.faces, c=np.array([.99,.99,.99]))\n",
    "v.add_mesh(box_mesh.vertices, box_mesh.faces, c=np.array([.99,.1,.1]))\n",
    "v.add_mesh(table.vertices, table.faces, c=np.array([1.,1.,1.]))\n",
    "v"
   ]
  },
  {
   "cell_type": "code",
   "execution_count": null,
   "metadata": {},
   "outputs": [],
   "source": [
    "@genjax.gen\n",
    "def anchored_pose_prior(p, sig_x=0.5, sig_hd=10):\n",
    "    \n",
    "    sig_hd = sig_hd/180*jnp.pi\n",
    "\n",
    "    x  = genjax.tfp_normal(p[:2], sig_x*jnp.ones(2)) @ \"x\"\n",
    "    hd = genjax.tfp_normal(p[2], sig_hd)             @ \"hd\"\n",
    "\n",
    "    q  = pack_2dpose(x, adjust_angle(hd))\n",
    "    \n",
    "    return q"
   ]
  },
  {
   "cell_type": "code",
   "execution_count": null,
   "metadata": {},
   "outputs": [],
   "source": [
    "# TODO: Alternative version of the above model. Add excercise to change above model into this.\n",
    "#       After looking at posterior over large area and realizing that it works reliably locally....\n",
    "def make_anchored_model(w:int, zmax:float, sensor_model_type:str=\"constrained\"):\n",
    "\n",
    "    # Create a sensor model\n",
    "    sensor_model = make_sensor_model(w, zmax, sensor_model_type)\n",
    "\n",
    "    @gen\n",
    "    def model(p:\"Pose\", sig:float, outlier:float, use_boxes=True):\n",
    "\n",
    "        x  = diagnormal(p[:2], 0.5)      @ \"x\"\n",
    "        hd = normal(p[2], 10/180*jnp.pi) @ \"hd\"\n",
    "        p = pack_2dpose(x, hd)\n",
    "        \n",
    "        # Lift pose to 3D and \n",
    "        # render an image (deterministically)\n",
    "        inds = jnp.where(use_boxes, jnp.array([0,1]), jnp.array([0]))\n",
    "        Y    = render(lift_pose(p), inds)\n",
    "\n",
    "        # Sample an image X conditioned on the rendered Y\n",
    "        X, _ = sensor_model.inline(Y[:,:,:3], sig, outlier) \n",
    "\n",
    "        return p, X\n",
    "    \n",
    "    return model"
   ]
  }
 ],
 "metadata": {
  "kernelspec": {
   "display_name": "Python 3 (ipykernel)",
   "language": "python",
   "name": "python3"
  },
  "language_info": {
   "codemirror_mode": {
    "name": "ipython",
    "version": 3
   },
   "file_extension": ".py",
   "mimetype": "text/x-python",
   "name": "python",
   "nbconvert_exporter": "python",
   "pygments_lexer": "ipython3",
   "version": "3.10.13"
  }
 },
 "nbformat": 4,
 "nbformat_minor": 2
}
