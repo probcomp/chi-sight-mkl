{
 "cells": [
  {
   "cell_type": "code",
   "execution_count": 1,
   "metadata": {},
   "outputs": [],
   "source": [
    "%load_ext autoreload\n",
    "%autoreload 2"
   ]
  },
  {
   "cell_type": "code",
   "execution_count": 2,
   "metadata": {},
   "outputs": [],
   "source": [
    "import bayes3d as b\n",
    "import bayes3d.genjax\n",
    "import joblib\n",
    "from tqdm import tqdm\n",
    "import os\n",
    "import jax.numpy as jnp\n",
    "import jax\n",
    "import numpy as np\n",
    "import genjax\n",
    "\n",
    "import trimesh\n",
    "import matplotlib.pyplot as plt\n",
    "\n",
    "# console = genjax.pretty(show_locals=False)"
   ]
  },
  {
   "cell_type": "code",
   "execution_count": 3,
   "metadata": {},
   "outputs": [],
   "source": [
    "from jax import (jit, vmap)\n",
    "from xsight.utils import *\n",
    "from xsight.importance import _importance_sampling, _update, _generate, _simulate, _propose\n",
    "from xsight.pose import pack_pose, unpack_pose, apply_pose, from_euler, CAM_ALONG_X\n",
    "from xsight.meshes import *\n",
    "from xsight.plotting import *"
   ]
  },
  {
   "cell_type": "code",
   "execution_count": null,
   "metadata": {},
   "outputs": [],
   "source": [
    "# _scaling = 1.0/1000.0\n",
    "# _far     = 5.0\n",
    "\n",
    "# intrinsics = b.Intrinsics(\n",
    "#     height = 100,\n",
    "#     width  = 100,\n",
    "#     fx = 450.0, fy = 450.0,\n",
    "#     cx = 50.0,  cy = 50.0,\n",
    "#     near = 0.01, far = _far\n",
    "# )"
   ]
  },
  {
   "cell_type": "code",
   "execution_count": 12,
   "metadata": {},
   "outputs": [],
   "source": [
    "OUTLIER_VOLUME = 1000.0\n",
    "VARIANCE_GRID  = jnp.array([0.0001, 0.001, 0.01])\n",
    "OUTLIER_GRID   = jnp.array([0.00001, 0.0001, 0.001])\n"
   ]
  },
  {
   "cell_type": "code",
   "execution_count": 9,
   "metadata": {},
   "outputs": [
    {
     "name": "stderr",
     "output_type": "stream",
     "text": [
      "[E rasterize_gl.cpp:121] OpenGL version reported as 4.6\n"
     ]
    },
    {
     "name": "stdout",
     "output_type": "stream",
     "text": [
      "Increasing frame buffer size to (width, height, depth) = (64, 64, 1024)\n"
     ]
    }
   ],
   "source": [
    "_scaling = 1.0/1000.0\n",
    "_far     = 5.0\n",
    "\n",
    "intrinsics = b.Intrinsics(\n",
    "    height=50,\n",
    "    width=50,\n",
    "    fx=250.0, fy=250.0,\n",
    "    cx=25.0, cy=25.0,\n",
    "    near = 0.01, far = _far\n",
    ")\n",
    "\n",
    "b.setup_renderer(intrinsics)\n",
    "model_dir = os.path.join(b.utils.get_assets_dir(),\"bop/ycbv/models\")\n",
    "meshes = []\n",
    "for idx in range(1,22):\n",
    "    mesh_path = os.path.join(model_dir,\"obj_\" + \"{}\".format(idx).rjust(6, '0') + \".ply\")\n",
    "    mesh = trimesh.load(mesh_path)\n",
    "    mesh.vertices *= _scaling \n",
    "    meshes.append(mesh)\n",
    "    b.RENDERER.add_mesh_from_file(mesh_path, scaling_factor=_scaling)\n",
    "\n",
    "b.RENDERER.add_mesh_from_file(os.path.join(b.utils.get_assets_dir(), \"sample_objs/cube.obj\"), scaling_factor=1.0/1000000000.0)\n"
   ]
  },
  {
   "cell_type": "code",
   "execution_count": 10,
   "metadata": {},
   "outputs": [],
   "source": [
    "from bayes3d.genjax.genjax_distributions import *\n",
    "from xsight.likelihood_b import make_blurred_sensor_model, make_blurred_sensor_model_2\n",
    "\n",
    "def make_constrain_adder(sensor_model_type):\n",
    "\n",
    "    def add_constraints(X, ch=None):\n",
    "        assert X.shape[-1] == 3 or X.shape[-1] == 4\n",
    "        \n",
    "        D  = jnp.linalg.norm(X[...,:3].reshape(-1,3), axis=-1)\n",
    "        D = jnp.clip(D, 0.0, _far)\n",
    "        \n",
    "        if ch is None: ch = genjax.choice_map({})\n",
    "\n",
    "        match sensor_model_type:\n",
    "            case \"blurred\" : \n",
    "                ch[\"image\"] = genjax.choice_map({\"X\": genjax.vector_choice_map({\"measurement\": D})})\n",
    "            case \"blurred2\" : \n",
    "                ch[\"image\"] = genjax.choice_map({\"X\": genjax.vector_choice_map({\"measurement\": D})})\n",
    "            case \"baseline\": \n",
    "                ch[\"image\"] = X[...,:3]\n",
    "        \n",
    "        return ch\n",
    "\n",
    "    return add_constraints\n",
    "\n",
    "\n",
    "\n",
    "def make_model(sensor_model_type):\n",
    "\n",
    "    @genjax.gen\n",
    "    def model_0(array, possible_object_indices, pose_bounds, contact_bounds, all_box_dims, outlier_volume, focal_length):\n",
    "        \n",
    "        indices        = jnp.array([], dtype=jnp.int32)\n",
    "        root_poses     = jnp.zeros((0,4,4))\n",
    "        contact_params = jnp.zeros((0,3))\n",
    "        faces_parents  = jnp.array([], dtype=jnp.int32)\n",
    "        faces_child    = jnp.array([], dtype=jnp.int32)\n",
    "        parents        = jnp.array([], dtype=jnp.int32)\n",
    "\n",
    "        for i in range(array.shape[0]):\n",
    "\n",
    "            index = uniform_discrete(possible_object_indices) @ f\"id_{i}\"\n",
    "\n",
    "            pose = uniform_pose(pose_bounds[0], pose_bounds[1]) @ f\"root_pose_{i}\"\n",
    "\n",
    "            params = contact_params_uniform(contact_bounds[0], contact_bounds[1]) @ f\"contact_params_{i}\"\n",
    "\n",
    "            parent_obj = uniform_discrete(jnp.arange(-1,array.shape[0] - 1)) @ f\"parent_{i}\"\n",
    "            parent_face = uniform_discrete(jnp.arange(0,6)) @ f\"face_parent_{i}\"\n",
    "            child_face = uniform_discrete(jnp.arange(0,6)) @ f\"face_child_{i}\"\n",
    "\n",
    "            indices = jnp.concatenate([indices, jnp.array([index])])\n",
    "            root_poses = jnp.concatenate([root_poses, pose.reshape(1,4,4)])\n",
    "            contact_params = jnp.concatenate([contact_params, params.reshape(1,-1)])\n",
    "            parents = jnp.concatenate([parents, jnp.array([parent_obj])])\n",
    "            faces_parents = jnp.concatenate([faces_parents, jnp.array([parent_face])])\n",
    "            faces_child = jnp.concatenate([faces_child, jnp.array([child_face])])\n",
    "        \n",
    "        box_dims = all_box_dims[indices]\n",
    "        poses = b.scene_graph.poses_from_scene_graph(\n",
    "            root_poses, box_dims, parents, contact_params, faces_parents, faces_child)\n",
    "\n",
    "        camera_pose = uniform_pose(\n",
    "            pose_bounds[0], \n",
    "            pose_bounds[1], \n",
    "        ) @ f\"camera_pose\"\n",
    "\n",
    "        rendered = b.RENDERER.render(\n",
    "            jnp.linalg.inv(camera_pose) @ poses , indices\n",
    "        )[...,:3]\n",
    "\n",
    "        variance = genjax.distributions.tfp_uniform(0.00000000001, 10000.0) @ \"variance\"\n",
    "        outlier_prob  = genjax.distributions.tfp_uniform(-0.01, 10000.0) @ \"outlier_prob\"\n",
    "        image = image_likelihood(rendered, variance, outlier_prob, outlier_volume, focal_length)  @ \"image\"\n",
    "\n",
    "        return rendered, indices, poses, parents, contact_params, faces_parents, faces_child, root_poses, image\n",
    "\n",
    "\n",
    "    img_likelihood = make_blurred_sensor_model(_far, 3)\n",
    "\n",
    "    @genjax.gen\n",
    "    def model_1(array, possible_object_indices, pose_bounds, contact_bounds, all_box_dims, outlier_volume, focal_length):\n",
    "        \n",
    "        indices        = jnp.array([], dtype=jnp.int32)\n",
    "        root_poses     = jnp.zeros((0,4,4))\n",
    "        contact_params = jnp.zeros((0,3))\n",
    "        faces_parents  = jnp.array([], dtype=jnp.int32)\n",
    "        faces_child    = jnp.array([], dtype=jnp.int32)\n",
    "        parents        = jnp.array([], dtype=jnp.int32)\n",
    "\n",
    "        for i in range(array.shape[0]):\n",
    "\n",
    "            index = uniform_discrete(possible_object_indices) @ f\"id_{i}\"\n",
    "\n",
    "            pose = uniform_pose(pose_bounds[0], pose_bounds[1]) @ f\"root_pose_{i}\"\n",
    "\n",
    "            params = contact_params_uniform(contact_bounds[0], contact_bounds[1]) @ f\"contact_params_{i}\"\n",
    "\n",
    "            parent_obj = uniform_discrete(jnp.arange(-1,array.shape[0] - 1)) @ f\"parent_{i}\"\n",
    "            parent_face = uniform_discrete(jnp.arange(0,6)) @ f\"face_parent_{i}\"\n",
    "            child_face = uniform_discrete(jnp.arange(0,6)) @ f\"face_child_{i}\"\n",
    "\n",
    "            indices = jnp.concatenate([indices, jnp.array([index])])\n",
    "            root_poses = jnp.concatenate([root_poses, pose.reshape(1,4,4)])\n",
    "            contact_params = jnp.concatenate([contact_params, params.reshape(1,-1)])\n",
    "            parents = jnp.concatenate([parents, jnp.array([parent_obj])])\n",
    "            faces_parents = jnp.concatenate([faces_parents, jnp.array([parent_face])])\n",
    "            faces_child = jnp.concatenate([faces_child, jnp.array([child_face])])\n",
    "        \n",
    "        box_dims = all_box_dims[indices]\n",
    "        poses = b.scene_graph.poses_from_scene_graph(\n",
    "            root_poses, box_dims, parents, contact_params, faces_parents, faces_child)\n",
    "\n",
    "        camera_pose = uniform_pose(\n",
    "            pose_bounds[0], \n",
    "            pose_bounds[1], \n",
    "        ) @ f\"camera_pose\"\n",
    "\n",
    "        rendered = b.RENDERER.render(\n",
    "            jnp.linalg.inv(camera_pose) @ poses , indices\n",
    "        )[...,:3]\n",
    "\n",
    "        variance = genjax.distributions.tfp_uniform(0.00000000001, 10000.0) @ \"variance\"\n",
    "        outlier_prob  = genjax.distributions.tfp_uniform(-0.01, 10000.0) @ \"outlier_prob\"\n",
    "        # image = image_likelihood(rendered, variance, outlier_prob, outlier_volume, focal_length) \n",
    "        image = img_likelihood(rendered, jnp.sqrt(variance), outlier_prob) @ \"image\"\n",
    "\n",
    "        return rendered, indices, poses, parents, contact_params, faces_parents, faces_child, root_poses, image\n",
    "\n",
    "    img_likelihood2 = make_blurred_sensor_model_2(_far, 3)\n",
    "\n",
    "    @genjax.gen\n",
    "    def model_2(array, possible_object_indices, pose_bounds, contact_bounds, all_box_dims, outlier_volume, focal_length):\n",
    "        \n",
    "        indices        = jnp.array([], dtype=jnp.int32)\n",
    "        root_poses     = jnp.zeros((0,4,4))\n",
    "        contact_params = jnp.zeros((0,3))\n",
    "        faces_parents  = jnp.array([], dtype=jnp.int32)\n",
    "        faces_child    = jnp.array([], dtype=jnp.int32)\n",
    "        parents        = jnp.array([], dtype=jnp.int32)\n",
    "\n",
    "        for i in range(array.shape[0]):\n",
    "\n",
    "            index = uniform_discrete(possible_object_indices) @ f\"id_{i}\"\n",
    "\n",
    "            pose = uniform_pose(pose_bounds[0], pose_bounds[1]) @ f\"root_pose_{i}\"\n",
    "\n",
    "            params = contact_params_uniform(contact_bounds[0], contact_bounds[1]) @ f\"contact_params_{i}\"\n",
    "\n",
    "            parent_obj = uniform_discrete(jnp.arange(-1,array.shape[0] - 1)) @ f\"parent_{i}\"\n",
    "            parent_face = uniform_discrete(jnp.arange(0,6)) @ f\"face_parent_{i}\"\n",
    "            child_face = uniform_discrete(jnp.arange(0,6)) @ f\"face_child_{i}\"\n",
    "\n",
    "            indices = jnp.concatenate([indices, jnp.array([index])])\n",
    "            root_poses = jnp.concatenate([root_poses, pose.reshape(1,4,4)])\n",
    "            contact_params = jnp.concatenate([contact_params, params.reshape(1,-1)])\n",
    "            parents = jnp.concatenate([parents, jnp.array([parent_obj])])\n",
    "            faces_parents = jnp.concatenate([faces_parents, jnp.array([parent_face])])\n",
    "            faces_child = jnp.concatenate([faces_child, jnp.array([child_face])])\n",
    "        \n",
    "        box_dims = all_box_dims[indices]\n",
    "        poses = b.scene_graph.poses_from_scene_graph(\n",
    "            root_poses, box_dims, parents, contact_params, faces_parents, faces_child)\n",
    "\n",
    "        camera_pose = uniform_pose(\n",
    "            pose_bounds[0], \n",
    "            pose_bounds[1], \n",
    "        ) @ f\"camera_pose\"\n",
    "\n",
    "        rendered = b.RENDERER.render(\n",
    "            jnp.linalg.inv(camera_pose) @ poses , indices\n",
    "        )[...,:3]\n",
    "\n",
    "        variance = genjax.distributions.tfp_uniform(0.00000000001, 10000.0) @ \"variance\"\n",
    "        outlier_prob  = genjax.distributions.tfp_uniform(-0.01, 10000.0) @ \"outlier_prob\"\n",
    "        image = img_likelihood2(rendered, jnp.sqrt(variance), outlier_prob) @ \"image\"\n",
    "\n",
    "        return rendered, indices, poses, parents, contact_params, faces_parents, faces_child, root_poses, image\n",
    "\n",
    "\n",
    "    match sensor_model_type:\n",
    "        case \"baseline\": return model_0\n",
    "        case \"blurred\" : return model_1 \n",
    "        case \"blurred2\" : return model_2\n",
    "\n",
    "\n",
    "get_rendered_image = lambda trace: trace.get_retval()[0]\n",
    "get_observed_image = lambda trace: trace.get_retval()[8]\n",
    "get_indices = lambda trace: trace.get_retval()[1]\n",
    "get_poses = lambda trace: trace.get_retval()[2]\n",
    "get_parents = lambda trace: trace.get_retval()[3]\n",
    "get_contact_params = lambda trace: trace.get_retval()[4]\n",
    "get_faces_parents = lambda trace: trace.get_retval()[5]\n",
    "get_faces_child = lambda trace: trace.get_retval()[6]\n",
    "get_root_poses = lambda trace: trace.get_retval()[7]\n",
    "\n",
    "get_outlier_volume = lambda trace: trace.get_args()[5]\n",
    "get_focal_length = lambda trace: trace.get_args()[6]\n",
    "get_far_plane = lambda trace: trace.get_args()[7]"
   ]
  },
  {
   "cell_type": "code",
   "execution_count": 13,
   "metadata": {},
   "outputs": [],
   "source": [
    "sensor_model_type = [\"baseline\",\"blurred\",\"blurred2\"][0]\n",
    "model = make_model(sensor_model_type)\n",
    "add_constraints = make_constrain_adder(sensor_model_type)"
   ]
  },
  {
   "cell_type": "code",
   "execution_count": 14,
   "metadata": {},
   "outputs": [],
   "source": [
    "importance_jit = jax.jit(model.importance)\n",
    "\n",
    "contact_enumerators = [b.make_enumerator([f\"contact_params_{i}\", \"variance\", \"outlier_prob\"]) for i in range(5)]\n",
    "\n",
    "def add_object(trace, key, obj_id, parent, face_parent, face_child):\n",
    "    N = b.get_indices(trace).shape[0] + 1\n",
    "    choices = trace.get_choices()\n",
    "    choices[f\"parent_{N-1}\"] = parent\n",
    "    choices[f\"id_{N-1}\"] = obj_id\n",
    "    choices[f\"face_parent_{N-1}\"] = face_parent\n",
    "    choices[f\"face_child_{N-1}\"] = face_child\n",
    "    choices[f\"contact_params_{N-1}\"] = jnp.zeros(3)\n",
    "    return model.importance(key, choices,\n",
    "        (jnp.arange(N), *trace.get_args()[1:])\n",
    "    )[1]\n",
    "\n",
    "add_object_jit = jax.jit(add_object)\n",
    "\n",
    "def c2f_contact_update(trace_, key,  number, contact_param_deltas, VARIANCE_GRID, OUTLIER_GRID):\n",
    "    contact_param_grid = contact_param_deltas + trace_[f\"contact_params_{number}\"]\n",
    "    scores = contact_enumerators[number][3](trace_, key, contact_param_grid, VARIANCE_GRID, OUTLIER_GRID)\n",
    "    i,j,k = jnp.unravel_index(scores.argmax(), scores.shape)\n",
    "    return contact_enumerators[number][0](\n",
    "        trace_, key,\n",
    "        contact_param_grid[i], VARIANCE_GRID[j], OUTLIER_GRID[k]\n",
    "    )\n",
    "\n",
    "    \n",
    "c2f_contact_update_jit = jax.jit(c2f_contact_update, static_argnames=(\"number\",))"
   ]
  },
  {
   "cell_type": "code",
   "execution_count": 15,
   "metadata": {},
   "outputs": [],
   "source": [
    "OUTLIER_VOLUME = 1000.0\n",
    "VARIANCE_GRID = jnp.array([0.0001, 0.001, 0.01])\n",
    "OUTLIER_GRID = jnp.array([0.00001, 0.0001, 0.001])\n",
    "\n",
    "grid_params = [\n",
    "    (0.3, jnp.pi, (11,11,11)), (0.2, jnp.pi, (11,11,11)), (0.1, jnp.pi, (11,11,11)),\n",
    "    (0.05, jnp.pi/3, (11,11,11)), (0.02, jnp.pi, (5,5,51)), (0.01, jnp.pi/5, (11,11,11)), (0.01, 0.0, (21,21,1)),(0.05, 0.0, (21,21,1))\n",
    "]\n",
    "contact_param_gridding_schedule = [\n",
    "    b.utils.make_translation_grid_enumeration_3d(\n",
    "        -x, -x, -ang,\n",
    "        x, x, ang,\n",
    "        *nums\n",
    "    )\n",
    "    for (x,ang,nums) in grid_params\n",
    "]\n"
   ]
  },
  {
   "cell_type": "code",
   "execution_count": 16,
   "metadata": {},
   "outputs": [
    {
     "data": {
      "image/png": "[encoded data removed]",
      "text/plain": [
       "<Figure size 200x200 with 1 Axes>"
      ]
     },
     "metadata": {},
     "output_type": "display_data"
    }
   ],
   "source": [
    "plt.figure(figsize=(2,2))\n",
    "plt.scatter(*contact_param_gridding_schedule[0][:,:2].T, s=1);\n",
    "plt.scatter(*contact_param_gridding_schedule[1][:,:2].T, s=1);\n",
    "plt.scatter(*contact_param_gridding_schedule[2][:,:2].T, s=1);"
   ]
  },
  {
   "cell_type": "code",
   "execution_count": 17,
   "metadata": {},
   "outputs": [
    {
     "name": "stdout",
     "output_type": "stream",
     "text": [
      "[1.e-04 1.e-03 1.e-02] [1.e-05 1.e-04 1.e-03]\n"
     ]
    }
   ],
   "source": [
    "V_VARIANT = 0\n",
    "O_VARIANT = 0\n",
    "HIERARCHICAL_BAYES = True\n",
    "\n",
    "if HIERARCHICAL_BAYES:\n",
    "    V_GRID = VARIANCE_GRID\n",
    "    O_GRID = OUTLIER_GRID\n",
    "else:\n",
    "    V_GRID, O_GRID = jnp.array([VARIANCE_GRID[V_VARIANT]]), jnp.array([OUTLIER_GRID[O_VARIANT]])\n",
    "\n",
    "print(V_GRID, O_GRID)"
   ]
  },
  {
   "cell_type": "code",
   "execution_count": 18,
   "metadata": {},
   "outputs": [],
   "source": [
    "inv = jnp.linalg.inv"
   ]
  },
  {
   "cell_type": "code",
   "execution_count": 30,
   "metadata": {},
   "outputs": [
    {
     "name": "stdout",
     "output_type": "stream",
     "text": [
      "59842.16\n",
      "2.1560652 5.0\n"
     ]
    },
    {
     "data": {
      "image/png": "[encoded data removed]",
      "text/plain": [
       "<Figure size 400x200 with 2 Axes>"
      ]
     },
     "metadata": {},
     "output_type": "display_data"
    }
   ],
   "source": [
    "key = keysplit(key)\n",
    "\n",
    "table_pose = b.t3d.inverse_pose(\n",
    "    b.t3d.transform_from_pos_target_up(\n",
    "        jnp.array([0.0, 2.0, 1.20]),\n",
    "        jnp.array([0.0, 0.0, 0.0]),\n",
    "        jnp.array([0.0, 0.0, 1.0]),\n",
    "    )\n",
    ")\n",
    "\n",
    "w0, tr0 = importance_jit(key, genjax.choice_map({\n",
    "    \"parent_0\": -1,\n",
    "    \"parent_1\": 0,\n",
    "    \"parent_2\": 0,\n",
    "    \"parent_3\": 0,\n",
    "    \"id_0\": jnp.int32(21),\n",
    "    \"id_1\": jnp.int32(1),\n",
    "    \"camera_pose\": jnp.eye(4),\n",
    "    \"root_pose_0\": table_pose,\n",
    "    \"contact_params_1\": jnp.array([0.,0.05,0.]),\n",
    "    \"face_parent_1\": 2,\n",
    "    \"face_parent_2\": 2,\n",
    "    \"face_parent_3\": 2,\n",
    "    \"face_child_1\": 3,\n",
    "    \"face_child_2\": 3,\n",
    "    \"face_child_3\": 3,\n",
    "    \"variance\": 0.00001**2,\n",
    "    \"outlier_prob\": 0.0,\n",
    "}), (\n",
    "    jnp.arange(2),\n",
    "    jnp.arange(22),\n",
    "    jnp.array([-jnp.ones(3)*100.0, jnp.ones(3)*100.0]),\n",
    "    jnp.array([jnp.array([-0.2, -0.2, -2*jnp.pi]), jnp.array([0.2, 0.2, 2*jnp.pi])]),\n",
    "    b.RENDERER.model_box_dims, OUTLIER_VOLUME, 1.0)\n",
    ")\n",
    "print(tr0.get_score())\n",
    "print(jnp.min(get_observed_image(tr0)[...,2]), jnp.max(get_observed_image(tr0)[...,2]))\n",
    "\n",
    "# _, tr1 = importance_jit(key, tr0.get_choices(), (jnp.arange(1), jnp.arange(22), *tr0.get_args()[2:]))\n",
    "\n",
    "\n",
    "def prep_image(im, far=_far, eps=0.0):\n",
    "    im_ = jnp.where(im <far - eps, im, jnp.inf)\n",
    "    return im_\n",
    "\n",
    "\n",
    "\n",
    "\n",
    "# =======================\n",
    "fig, axs = plt.subplots(1,2,figsize=(4,2))\n",
    "axs[0].imshow(prep_image(get_observed_image(tr0)[...,2], eps=0.1), cmap=\"viridis\")\n",
    "axs[1].imshow(prep_image(get_rendered_image(tr0)[...,2]), cmap=\"viridis\")\n",
    "fig.tight_layout()"
   ]
  },
  {
   "cell_type": "code",
   "execution_count": 126,
   "metadata": {},
   "outputs": [
    {
     "data": {
      "image/png": "[encoded data removed]"
     },
     "metadata": {},
     "output_type": "display_data"
    }
   ],
   "source": [
    "# key = keysplit(key)\n",
    "# w0, tr0 = importance_jit(key, genjax.choice_map({\n",
    "#     \"parent_0\": -1,\n",
    "#     \"parent_1\": 0,\n",
    "#     \"id_0\": jnp.int32(21),\n",
    "#     \"id_1\": jnp.int32(1),\n",
    "#     \"camera_pose\": pack_pose(jnp.array([0.0, -0.1,0.0]), jnp.eye(3)),\n",
    "#     \"root_pose_0\": table_pose,\n",
    "#     \"contact_params_1\": jnp.array([0.,0.,0.]),\n",
    "#     \"face_parent_1\": 2,\n",
    "#     \"face_child_1\": 3,\n",
    "#     \"variance\": 0.0001,\n",
    "#     \"outlier_prob\": 0.0001,\n",
    "# }), (\n",
    "#     jnp.arange(2),\n",
    "#     jnp.arange(22),\n",
    "#     jnp.array([-jnp.ones(3)*100.0, jnp.ones(3)*100.0]),\n",
    "#     jnp.array([jnp.array([-0.2, -0.2, -jnp.pi]), jnp.array([0.2, 0.2, jnp.pi])]),\n",
    "#     b.RENDERER.model_box_dims, OUTLIER_VOLUME, 1.0)\n",
    "# )\n",
    "\n",
    "# def prep_image(im, far=20.0):\n",
    "#     im_ = jnp.where(im < 20.0, im, jnp.inf)\n",
    "#     return im_\n",
    "\n",
    "# tr = tr0\n",
    "\n",
    "\n",
    "# # =======================\n",
    "# fig, axs = plt.subplots(1,2,figsize=(4,2))\n",
    "# axs[0].imshow(prep_image(tr[\"image\"][...,2]), cmap=\"viridis\")\n",
    "# axs[1].imshow(prep_image(b.get_rendered_image(tr)[...,2]), cmap=\"viridis\")\n",
    "# fig.tight_layout()"
   ]
  },
  {
   "cell_type": "code",
   "execution_count": 45,
   "metadata": {},
   "outputs": [],
   "source": [
    "def _add_object(trace, key, obj_id, parent, face_parent, face_child):\n",
    "\n",
    "    N = b.get_indices(trace).shape[0] + 1\n",
    "    choices = trace.get_choices()\n",
    "    choices[f\"parent_{N-1}\"] = parent\n",
    "    choices[f\"id_{N-1}\"] = obj_id\n",
    "    choices[f\"face_parent_{N-1}\"] = face_parent\n",
    "    choices[f\"face_child_{N-1}\"] = face_child\n",
    "    return b.model.importance(key, choices,\n",
    "        (jnp.arange(N), *trace.get_args()[1:])\n",
    "    )[1]\n",
    "\n",
    "_add_obj = lambda tr, key, id: _add_object(tr, key, id, 0, 2, 3)\n",
    "add_obj  = jit(_add_obj)\n",
    "\n",
    "obj_prior = jit(vmap(_add_obj, (None, 0, None)))"
   ]
  },
  {
   "cell_type": "code",
   "execution_count": 72,
   "metadata": {},
   "outputs": [],
   "source": [
    "import jax.tree_util as jtu\n",
    "\n",
    "def pytree_len(tree):\n",
    "    all_lengths = jtu.tree_leaves(jtu.tree_map(lambda v: len(v), tree))\n",
    "    uniqued = set(all_lengths)\n",
    "    assert len(uniqued) == 1\n",
    "    return uniqued.pop()"
   ]
  },
  {
   "cell_type": "code",
   "execution_count": 81,
   "metadata": {},
   "outputs": [
    {
     "name": "stdout",
     "output_type": "stream",
     "text": [
      "1000\n"
     ]
    },
    {
     "data": {
      "image/png": "[encoded data removed]",
      "text/plain": [
       "<Figure size 400x400 with 1 Axes>"
      ]
     },
     "metadata": {},
     "output_type": "display_data"
    }
   ],
   "source": [
    "N = 1_000\n",
    "key, keys = keysplit(key, 1, 1_000)\n",
    "trs = obj_prior(tr0, keys, 13)\n",
    "\n",
    "N = pytree_len(trs)\n",
    "print(N)\n",
    "# tr = trs.slice(1)\n",
    "# ps = get_poses(tr) \n",
    "\n",
    "\n",
    "# # =======================\n",
    "fig, ax = plt.subplots(1,1,figsize=(4,4))\n",
    "ax.set_aspect(1)\n",
    "\n",
    "ps = get_poses(tr0)\n",
    "x,r = unpack_pose(ps[1])\n",
    "xs  = meshes[tr[f\"id_{1}\"]].vertices@r.T + x\n",
    "xs  = xs@table_pose[:3,:3].T\n",
    "ax.scatter(*xs[:,[0,1]].T, s=0.1, c=\"r\", zorder=1)\n",
    "\n",
    "for i in range(10):\n",
    "    tr = trs.slice(i)\n",
    "    ps = get_poses(tr) \n",
    "    for i in range(1,3):\n",
    "        x,r = unpack_pose(ps[i])\n",
    "        y = table_pose[:3,:3]@x\n",
    "        ax.scatter(y[0],y[1], zorder=3)\n",
    "        # xs  = meshes[tr[f\"id_{i}\"]].vertices@r.T + x\n",
    "        # xs  = xs@table_pose[:3,:3].T\n",
    "        # if i==2: ax.scatter(*xs[:,[0,1]].T, s=0.1, c=\"b\", alpha=0.01, zorder=1)"
   ]
  },
  {
   "cell_type": "code",
   "execution_count": 43,
   "metadata": {},
   "outputs": [],
   "source": [
    "def addr(i): return [f\"id_{i}\", f\"root_pose_{i}\", f\"contact_params_{i}\", f\"parent_{i}\", f\"face_parent_{i}\", f\"face_child_{i}\"]\n",
    "\n",
    "def _reject(tr0, tr1, eps=1e-2):\n",
    "    N0 = b.get_indices(tr0).shape[0]\n",
    "    N1 = b.get_indices(tr1).shape[0]\n",
    "    thresh = tr0.score + tr0.project(genjax.select(*addr(1))) - N1*jnp.log(1/N0) + N1*jnp.log(1/N1)\n",
    "    return jnp.abs(tr1.score - thresh) < eps\n",
    "\n",
    "accept = vmap(_reject, (None, 0))\n",
    "\n",
    "@jit\n",
    "def posterior(keys, tr0, obj_id=13):\n",
    "    trs = obj_prior(tr0, keys, obj_id)\n",
    "    acc = accept(tr0, trs)\n",
    "    return trs, acc"
   ]
  },
  {
   "cell_type": "code",
   "execution_count": 44,
   "metadata": {},
   "outputs": [
    {
     "name": "stdout",
     "output_type": "stream",
     "text": [
      "0\n",
      "68.2 ms ± 0 ns per loop (mean ± std. dev. of 1 run, 1 loop each)\n"
     ]
    }
   ],
   "source": [
    "key, keys = keysplit(key, 1, 10_000)\n",
    "trs, acc = posterior(keys, tr0)\n",
    "print(acc.sum())\n",
    "\n",
    "%timeit -n 1 -r 1 posterior(keys, tr0);"
   ]
  },
  {
   "cell_type": "code",
   "execution_count": 38,
   "metadata": {},
   "outputs": [],
   "source": [
    "def take_a_pic(tr, p, channel=2):\n",
    "    key = jax.random.PRNGKey(0)\n",
    "    ch = tr.strip()\n",
    "    ch[\"camera_pose\"] = p\n",
    "\n",
    "    _, tr_ = importance_jit(key, ch, tr.args)\n",
    "    return b.get_rendered_image(tr_)[...,channel]"
   ]
  },
  {
   "cell_type": "code",
   "execution_count": 39,
   "metadata": {},
   "outputs": [
    {
     "data": {
      "image/png": "[encoded data removed]",
      "text/plain": [
       "<Figure size 200x200 with 1 Axes>"
      ]
     },
     "metadata": {},
     "output_type": "display_data"
    }
   ],
   "source": [
    "tr = tr0\n",
    "im = prep_image(b.get_rendered_image(tr)[...,2])\n",
    "plt.figure(figsize=(2,2))\n",
    "plt.title(tr.score)\n",
    "plt.imshow(im)\n",
    "plt.show()"
   ]
  },
  {
   "cell_type": "code",
   "execution_count": 41,
   "metadata": {},
   "outputs": [],
   "source": [
    "p = b.t3d.transform_from_pos_target_up(\n",
    "        table_pose[:3,3].at[1].add(-2.),\n",
    "        table_pose[:3,3],\n",
    "        jnp.array([jnp.cos(0.5*jnp.pi), 0.0, jnp.sin(0.5*jnp.pi)]),\n",
    "    )\n",
    "\n",
    "trs_ = trs.slice(acc)\n",
    "sc_  = trs_.get_score\n",
    "\n",
    "# tr = trs_.slice(0)\n",
    "# im = take_a_pic(tr, p)\n",
    "\n",
    "# for i in range(1, 3):\n",
    "#     tr = trs_.slice(i)\n",
    "#     im_ = take_a_pic(tr, p)\n",
    "#     im = jnp.where(im < im_, im, im_)\n",
    "\n",
    "# plt.imshow(prep_image(im))"
   ]
  },
  {
   "cell_type": "code",
   "execution_count": 30,
   "metadata": {},
   "outputs": [
    {
     "name": "stdout",
     "output_type": "stream",
     "text": [
      "3\n"
     ]
    },
    {
     "data": {
      "image/png": "[encoded data removed]"
     },
     "metadata": {},
     "output_type": "display_data"
    }
   ],
   "source": [
    "print(b.get_indices(tr).shape[0])\n",
    "plt.imshow( take_a_pic(tr, p, channel=3), vmin=0, vmax=3)"
   ]
  },
  {
   "cell_type": "code",
   "execution_count": null,
   "metadata": {},
   "outputs": [],
   "source": []
  }
 ],
 "metadata": {
  "kernelspec": {
   "display_name": "bayes3d",
   "language": "python",
   "name": "python3"
  },
  "language_info": {
   "codemirror_mode": {
    "name": "ipython",
    "version": 3
   },
   "file_extension": ".py",
   "mimetype": "text/x-python",
   "name": "python",
   "nbconvert_exporter": "python",
   "pygments_lexer": "ipython3",
   "version": "3.10.12"
  },
  "orig_nbformat": 4
 },
 "nbformat": 4,
 "nbformat_minor": 2
}
