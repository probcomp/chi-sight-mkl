{
 "cells": [
  {
   "cell_type": "code",
   "execution_count": 1,
   "metadata": {},
   "outputs": [],
   "source": [
    "%load_ext autoreload\n",
    "%autoreload 2"
   ]
  },
  {
   "cell_type": "code",
   "execution_count": 2,
   "metadata": {},
   "outputs": [],
   "source": [
    "import bayes3d as b\n",
    "import bayes3d.genjax\n",
    "import joblib\n",
    "from tqdm import tqdm\n",
    "import os\n",
    "import jax.numpy as jnp\n",
    "import jax\n",
    "import numpy as np\n",
    "import genjax\n",
    "\n",
    "import trimesh\n",
    "import matplotlib.pyplot as plt\n",
    "\n",
    "# console = genjax.pretty(show_locals=False)"
   ]
  },
  {
   "cell_type": "code",
   "execution_count": 3,
   "metadata": {},
   "outputs": [],
   "source": [
    "inv = jnp.linalg.inv"
   ]
  },
  {
   "cell_type": "code",
   "execution_count": 4,
   "metadata": {},
   "outputs": [],
   "source": [
    "from jax import (jit, vmap)\n",
    "from xsight.utils import *\n",
    "from xsight.importance import _importance_sampling, _update, _generate, _simulate, _propose\n",
    "from xsight.pose import pack_pose, unpack_pose, apply_pose, from_euler, CAM_ALONG_X\n",
    "from xsight.meshes import *\n",
    "from xsight.plotting import *\n",
    "from xsight.likelihood_b import clip_depth\n",
    "\n",
    "key = jax.random.PRNGKey(0)"
   ]
  },
  {
   "cell_type": "code",
   "execution_count": 5,
   "metadata": {},
   "outputs": [
    {
     "name": "stdout",
     "output_type": "stream",
     "text": [
      "You can open the visualizer by visiting the following URL:\n",
      "http://127.0.0.1:7000/static/\n"
     ]
    }
   ],
   "source": [
    "b.setup_visualizer()"
   ]
  },
  {
   "cell_type": "code",
   "execution_count": 6,
   "metadata": {},
   "outputs": [
    {
     "name": "stdout",
     "output_type": "stream",
     "text": [
      "Increasing frame buffer size to (width, height, depth) = (128, 128, 1024)\n"
     ]
    },
    {
     "name": "stderr",
     "output_type": "stream",
     "text": [
      "[E rasterize_gl.cpp:121] OpenGL version reported as 4.6\n"
     ]
    }
   ],
   "source": [
    "_scaling = 1.0/1000.0\n",
    "_far     = 5.0\n",
    "\n",
    "intrinsics = b.Intrinsics(\n",
    "    height = 100,\n",
    "    width  = 100,\n",
    "    fx = 450.0, fy = 450.0,\n",
    "    cx = 50.0,  cy = 50.0,\n",
    "    near = 0.01, far = _far\n",
    ")\n",
    "\n",
    "b.setup_renderer(intrinsics)\n",
    "model_dir = os.path.join(b.utils.get_assets_dir(),\"bop/ycbv/models\")\n",
    "meshes = []\n",
    "for idx in range(1,22):\n",
    "    mesh_path = os.path.join(model_dir,\"obj_\" + \"{}\".format(idx).rjust(6, '0') + \".ply\")\n",
    "    mesh = trimesh.load(mesh_path)\n",
    "    mesh.vertices *= _scaling \n",
    "    meshes.append(mesh)\n",
    "    b.RENDERER.add_mesh_from_file(mesh_path, scaling_factor=_scaling)\n",
    "\n",
    "b.RENDERER.add_mesh_from_file(os.path.join(b.utils.get_assets_dir(), \"sample_objs/cube.obj\"), scaling_factor=1.0/1000000000.0)\n"
   ]
  },
  {
   "cell_type": "code",
   "execution_count": 7,
   "metadata": {},
   "outputs": [],
   "source": [
    "from bayes3d.genjax.genjax_distributions import *\n",
    "from xsight.likelihood_b import make_blurred_sensor_model, make_blurred_sensor_model_2\n",
    "\n",
    "def make_constrain_adder(sensor_model_type):\n",
    "\n",
    "    def add_constraints(X, ch=None):\n",
    "        assert X.shape[-1] == 3 or X.shape[-1] == 4\n",
    "        \n",
    "        D  = jnp.linalg.norm(X[...,:3].reshape(-1,3), axis=-1)\n",
    "        D = jnp.clip(D, 0.0, _far)\n",
    "        \n",
    "        if ch is None: ch = genjax.choice_map({})\n",
    "\n",
    "        match sensor_model_type:\n",
    "            case \"blurred\" : \n",
    "                ch[\"image\"] = genjax.choice_map({\"X\": genjax.vector_choice_map({\"measurement\": D})})\n",
    "            case \"blurred2\" : \n",
    "                ch[\"image\"] = genjax.choice_map({\"X\": genjax.vector_choice_map({\"measurement\": D})})\n",
    "            case \"baseline\": \n",
    "                ch[\"image\"] = X[...,:3]\n",
    "        \n",
    "        return ch\n",
    "\n",
    "    return add_constraints\n",
    "\n",
    "\n",
    "\n",
    "def make_model(sensor_model_type):\n",
    "\n",
    "    @genjax.gen\n",
    "    def model_0(array, possible_object_indices, pose_bounds, contact_bounds, all_box_dims, outlier_volume, focal_length):\n",
    "        \n",
    "        indices        = jnp.array([], dtype=jnp.int32)\n",
    "        root_poses     = jnp.zeros((0,4,4))\n",
    "        contact_params = jnp.zeros((0,3))\n",
    "        faces_parents  = jnp.array([], dtype=jnp.int32)\n",
    "        faces_child    = jnp.array([], dtype=jnp.int32)\n",
    "        parents        = jnp.array([], dtype=jnp.int32)\n",
    "\n",
    "        for i in range(array.shape[0]):\n",
    "\n",
    "            index = uniform_discrete(possible_object_indices) @ f\"id_{i}\"\n",
    "\n",
    "            pose = uniform_pose(pose_bounds[0], pose_bounds[1]) @ f\"root_pose_{i}\"\n",
    "\n",
    "            params = contact_params_uniform(contact_bounds[0], contact_bounds[1]) @ f\"contact_params_{i}\"\n",
    "\n",
    "            parent_obj = uniform_discrete(jnp.arange(-1,array.shape[0] - 1)) @ f\"parent_{i}\"\n",
    "            parent_face = uniform_discrete(jnp.arange(0,6)) @ f\"face_parent_{i}\"\n",
    "            child_face = uniform_discrete(jnp.arange(0,6)) @ f\"face_child_{i}\"\n",
    "\n",
    "            indices = jnp.concatenate([indices, jnp.array([index])])\n",
    "            root_poses = jnp.concatenate([root_poses, pose.reshape(1,4,4)])\n",
    "            contact_params = jnp.concatenate([contact_params, params.reshape(1,-1)])\n",
    "            parents = jnp.concatenate([parents, jnp.array([parent_obj])])\n",
    "            faces_parents = jnp.concatenate([faces_parents, jnp.array([parent_face])])\n",
    "            faces_child = jnp.concatenate([faces_child, jnp.array([child_face])])\n",
    "        \n",
    "        box_dims = all_box_dims[indices]\n",
    "        poses = b.scene_graph.poses_from_scene_graph(\n",
    "            root_poses, box_dims, parents, contact_params, faces_parents, faces_child)\n",
    "\n",
    "        camera_pose = uniform_pose(\n",
    "            pose_bounds[0], \n",
    "            pose_bounds[1], \n",
    "        ) @ f\"camera_pose\"\n",
    "\n",
    "        rendered = b.RENDERER.render(\n",
    "            jnp.linalg.inv(camera_pose) @ poses , indices\n",
    "        )[...,:3]\n",
    "\n",
    "        variance = genjax.distributions.tfp_uniform(0.00000000001, 10000.0) @ \"variance\"\n",
    "        outlier_prob  = genjax.distributions.tfp_uniform(-0.01, 10000.0) @ \"outlier_prob\"\n",
    "        image = image_likelihood(rendered, variance, outlier_prob, outlier_volume, focal_length)  @ \"image\"\n",
    "\n",
    "        return rendered, indices, poses, parents, contact_params, faces_parents, faces_child, root_poses, image\n",
    "\n",
    "\n",
    "    img_likelihood = make_blurred_sensor_model(_far, 3)\n",
    "\n",
    "    @genjax.gen\n",
    "    def model_1(array, possible_object_indices, pose_bounds, contact_bounds, all_box_dims, outlier_volume, focal_length):\n",
    "        \n",
    "        indices        = jnp.array([], dtype=jnp.int32)\n",
    "        root_poses     = jnp.zeros((0,4,4))\n",
    "        contact_params = jnp.zeros((0,3))\n",
    "        faces_parents  = jnp.array([], dtype=jnp.int32)\n",
    "        faces_child    = jnp.array([], dtype=jnp.int32)\n",
    "        parents        = jnp.array([], dtype=jnp.int32)\n",
    "\n",
    "        for i in range(array.shape[0]):\n",
    "\n",
    "            index = uniform_discrete(possible_object_indices) @ f\"id_{i}\"\n",
    "\n",
    "            pose = uniform_pose(pose_bounds[0], pose_bounds[1]) @ f\"root_pose_{i}\"\n",
    "\n",
    "            params = contact_params_uniform(contact_bounds[0], contact_bounds[1]) @ f\"contact_params_{i}\"\n",
    "\n",
    "            parent_obj = uniform_discrete(jnp.arange(-1,array.shape[0] - 1)) @ f\"parent_{i}\"\n",
    "            parent_face = uniform_discrete(jnp.arange(0,6)) @ f\"face_parent_{i}\"\n",
    "            child_face = uniform_discrete(jnp.arange(0,6)) @ f\"face_child_{i}\"\n",
    "\n",
    "            indices = jnp.concatenate([indices, jnp.array([index])])\n",
    "            root_poses = jnp.concatenate([root_poses, pose.reshape(1,4,4)])\n",
    "            contact_params = jnp.concatenate([contact_params, params.reshape(1,-1)])\n",
    "            parents = jnp.concatenate([parents, jnp.array([parent_obj])])\n",
    "            faces_parents = jnp.concatenate([faces_parents, jnp.array([parent_face])])\n",
    "            faces_child = jnp.concatenate([faces_child, jnp.array([child_face])])\n",
    "        \n",
    "        box_dims = all_box_dims[indices]\n",
    "        poses = b.scene_graph.poses_from_scene_graph(\n",
    "            root_poses, box_dims, parents, contact_params, faces_parents, faces_child)\n",
    "\n",
    "        camera_pose = uniform_pose(\n",
    "            pose_bounds[0], \n",
    "            pose_bounds[1], \n",
    "        ) @ f\"camera_pose\"\n",
    "\n",
    "        rendered = b.RENDERER.render(\n",
    "            jnp.linalg.inv(camera_pose) @ poses , indices\n",
    "        )[...,:3]\n",
    "\n",
    "        variance = genjax.distributions.tfp_uniform(0.00000000001, 10000.0) @ \"variance\"\n",
    "        outlier_prob  = genjax.distributions.tfp_uniform(-0.01, 10000.0) @ \"outlier_prob\"\n",
    "        # image = image_likelihood(rendered, variance, outlier_prob, outlier_volume, focal_length) \n",
    "        image = img_likelihood(rendered, jnp.sqrt(variance), outlier_prob) @ \"image\"\n",
    "\n",
    "        return rendered, indices, poses, parents, contact_params, faces_parents, faces_child, root_poses, image\n",
    "\n",
    "    img_likelihood2 = make_blurred_sensor_model_2(_far, 3)\n",
    "\n",
    "    @genjax.gen\n",
    "    def model_2(array, possible_object_indices, pose_bounds, contact_bounds, all_box_dims, outlier_volume, focal_length):\n",
    "        \n",
    "        indices        = jnp.array([], dtype=jnp.int32)\n",
    "        root_poses     = jnp.zeros((0,4,4))\n",
    "        contact_params = jnp.zeros((0,3))\n",
    "        faces_parents  = jnp.array([], dtype=jnp.int32)\n",
    "        faces_child    = jnp.array([], dtype=jnp.int32)\n",
    "        parents        = jnp.array([], dtype=jnp.int32)\n",
    "\n",
    "        for i in range(array.shape[0]):\n",
    "\n",
    "            index = uniform_discrete(possible_object_indices) @ f\"id_{i}\"\n",
    "\n",
    "            pose = uniform_pose(pose_bounds[0], pose_bounds[1]) @ f\"root_pose_{i}\"\n",
    "\n",
    "            params = contact_params_uniform(contact_bounds[0], contact_bounds[1]) @ f\"contact_params_{i}\"\n",
    "\n",
    "            parent_obj = uniform_discrete(jnp.arange(-1,array.shape[0] - 1)) @ f\"parent_{i}\"\n",
    "            parent_face = uniform_discrete(jnp.arange(0,6)) @ f\"face_parent_{i}\"\n",
    "            child_face = uniform_discrete(jnp.arange(0,6)) @ f\"face_child_{i}\"\n",
    "\n",
    "            indices = jnp.concatenate([indices, jnp.array([index])])\n",
    "            root_poses = jnp.concatenate([root_poses, pose.reshape(1,4,4)])\n",
    "            contact_params = jnp.concatenate([contact_params, params.reshape(1,-1)])\n",
    "            parents = jnp.concatenate([parents, jnp.array([parent_obj])])\n",
    "            faces_parents = jnp.concatenate([faces_parents, jnp.array([parent_face])])\n",
    "            faces_child = jnp.concatenate([faces_child, jnp.array([child_face])])\n",
    "        \n",
    "        box_dims = all_box_dims[indices]\n",
    "        poses = b.scene_graph.poses_from_scene_graph(\n",
    "            root_poses, box_dims, parents, contact_params, faces_parents, faces_child)\n",
    "\n",
    "        camera_pose = uniform_pose(\n",
    "            pose_bounds[0], \n",
    "            pose_bounds[1], \n",
    "        ) @ f\"camera_pose\"\n",
    "\n",
    "        rendered = b.RENDERER.render(\n",
    "            jnp.linalg.inv(camera_pose) @ poses , indices\n",
    "        )[...,:3]\n",
    "\n",
    "        variance = genjax.distributions.tfp_uniform(0.00000000001, 10000.0) @ \"variance\"\n",
    "        outlier_prob  = genjax.distributions.tfp_uniform(-0.01, 10000.0) @ \"outlier_prob\"\n",
    "        image = img_likelihood2(rendered, jnp.sqrt(variance), outlier_prob) @ \"image\"\n",
    "\n",
    "        return rendered, indices, poses, parents, contact_params, faces_parents, faces_child, root_poses, image\n",
    "\n",
    "\n",
    "    match sensor_model_type:\n",
    "        case \"baseline\": return model_0\n",
    "        case \"blurred\" : return model_1 \n",
    "        case \"blurred2\" : return model_2\n",
    "\n",
    "\n",
    "get_rendered_image = lambda trace: trace.get_retval()[0]\n",
    "get_observed_image = lambda trace: trace.get_retval()[8]\n",
    "get_indices = lambda trace: trace.get_retval()[1]\n",
    "get_poses = lambda trace: trace.get_retval()[2]\n",
    "get_parents = lambda trace: trace.get_retval()[3]\n",
    "get_contact_params = lambda trace: trace.get_retval()[4]\n",
    "get_faces_parents = lambda trace: trace.get_retval()[5]\n",
    "get_faces_child = lambda trace: trace.get_retval()[6]\n",
    "get_root_poses = lambda trace: trace.get_retval()[7]\n",
    "\n",
    "get_outlier_volume = lambda trace: trace.get_args()[5]\n",
    "get_focal_length = lambda trace: trace.get_args()[6]\n",
    "get_far_plane = lambda trace: trace.get_args()[7]"
   ]
  },
  {
   "cell_type": "code",
   "execution_count": 8,
   "metadata": {},
   "outputs": [],
   "source": [
    "sensor_model_type = [\"baseline\",\"blurred\",\"blurred2\"][0]\n",
    "model = make_model(sensor_model_type)\n",
    "add_constraints = make_constrain_adder(sensor_model_type)"
   ]
  },
  {
   "cell_type": "code",
   "execution_count": 9,
   "metadata": {},
   "outputs": [],
   "source": [
    "OUTLIER_VOLUME = 1000.0\n",
    "VARIANCE_GRID  = jnp.array([0.0001, 0.001, 0.01])\n",
    "OUTLIER_GRID   = jnp.array([0.00001, 0.0001, 0.001])\n",
    "\n",
    "grid_params = [\n",
    "    # (0.3, jnp.pi, (11,11,11)), \n",
    "    (0.2, jnp.pi, (17,17,11)), \n",
    "    (0.1, jnp.pi, (11,11,11)),\n",
    "    (0.05, jnp.pi/3, (11,11,11)), \n",
    "    (0.02, jnp.pi, (5,5,51)), \n",
    "    (0.01, jnp.pi/5, (11,11,11)), \n",
    "    (0.01, 0.0, (21,21,1)),\n",
    "    (0.05, 0.0, (21,21,1))\n",
    "]\n",
    "\n",
    "contact_param_gridding_schedule = [\n",
    "    b.utils.make_translation_grid_enumeration_3d(\n",
    "        -x, -x, -ang,\n",
    "        x, x, ang,\n",
    "        *nums\n",
    "    )\n",
    "    for (x,ang,nums) in grid_params\n",
    "]\n",
    "\n"
   ]
  },
  {
   "cell_type": "code",
   "execution_count": 10,
   "metadata": {},
   "outputs": [
    {
     "name": "stdout",
     "output_type": "stream",
     "text": [
      "[1.e-04 1.e-03 1.e-02] [1.e-05 1.e-04 1.e-03]\n"
     ]
    }
   ],
   "source": [
    "V_VARIANT = 0\n",
    "O_VARIANT = 0\n",
    "HIERARCHICAL_BAYES = True\n",
    "\n",
    "if HIERARCHICAL_BAYES:\n",
    "    V_GRID = VARIANCE_GRID\n",
    "    O_GRID = OUTLIER_GRID\n",
    "else:\n",
    "    V_GRID, O_GRID = jnp.array([VARIANCE_GRID[V_VARIANT]]), jnp.array([OUTLIER_GRID[O_VARIANT]])\n",
    "\n",
    "print(V_GRID, O_GRID)"
   ]
  },
  {
   "cell_type": "code",
   "execution_count": 11,
   "metadata": {},
   "outputs": [],
   "source": [
    "importance_jit = jax.jit(model.importance)\n",
    "\n",
    "contact_enumerators = [b.make_enumerator([f\"contact_params_{i}\", \"variance\", \"outlier_prob\"]) for i in range(5)]\n",
    "\n",
    "def add_object(trace, key, obj_id, parent, face_parent, face_child):\n",
    "    N = b.get_indices(trace).shape[0] + 1\n",
    "    choices = trace.get_choices()\n",
    "    choices[f\"parent_{N-1}\"] = parent\n",
    "    choices[f\"id_{N-1}\"] = obj_id\n",
    "    choices[f\"face_parent_{N-1}\"] = face_parent\n",
    "    choices[f\"face_child_{N-1}\"] = face_child\n",
    "    choices[f\"contact_params_{N-1}\"] = jnp.zeros(3)\n",
    "    return model.importance(key, choices,\n",
    "        (jnp.arange(N), *trace.get_args()[1:])\n",
    "    )[1]\n",
    "\n",
    "add_object_jit = jax.jit(add_object)\n",
    "\n",
    "def c2f_contact_update(trace_, key,  number, contact_param_deltas, VARIANCE_GRID, OUTLIER_GRID):\n",
    "    contact_param_grid = contact_param_deltas + trace_[f\"contact_params_{number}\"]\n",
    "    scores = contact_enumerators[number][3](trace_, key, contact_param_grid, VARIANCE_GRID, OUTLIER_GRID)\n",
    "    i,j,k = jnp.unravel_index(scores.argmax(), scores.shape)\n",
    "    return contact_enumerators[number][0](\n",
    "        trace_, key,\n",
    "        contact_param_grid[i], VARIANCE_GRID[j], OUTLIER_GRID[k]\n",
    "    )\n",
    "\n",
    "    \n",
    "c2f_contact_update_jit = jax.jit(c2f_contact_update, static_argnames=(\"number\",))"
   ]
  },
  {
   "cell_type": "code",
   "execution_count": 12,
   "metadata": {},
   "outputs": [],
   "source": [
    "def _eval_grids(trace_, key,  number, contact_param_deltas, VARIANCE_GRID, OUTLIER_GRID):\n",
    "    contact_param_grid = contact_param_deltas + trace_[f\"contact_params_{number}\"]\n",
    "    scores = contact_enumerators[number][3](trace_, key, contact_param_grid, VARIANCE_GRID, OUTLIER_GRID)\n",
    "    i,j,k = jnp.unravel_index(scores.argmax(), scores.shape)\n",
    "    return contact_enumerators[number][0](\n",
    "        trace_, key,\n",
    "        contact_param_grid[i], VARIANCE_GRID[j], OUTLIER_GRID[k]\n",
    "    ), scores\n",
    "\n",
    "eval_grids = jax.jit(_eval_grids, static_argnames=(\"number\",))"
   ]
  },
  {
   "cell_type": "code",
   "execution_count": 13,
   "metadata": {},
   "outputs": [
    {
     "name": "stdout",
     "output_type": "stream",
     "text": [
      "225632.61\n",
      "2.1598034 5.0\n"
     ]
    },
    {
     "data": {
      "image/png": "[encoded data removed]",
      "text/plain": [
       "<Figure size 400x200 with 2 Axes>"
      ]
     },
     "metadata": {},
     "output_type": "display_data"
    }
   ],
   "source": [
    "key = keysplit(key)\n",
    "\n",
    "table_pose = b.t3d.inverse_pose(\n",
    "    b.t3d.transform_from_pos_target_up(\n",
    "        jnp.array([0.0, 2.0, 1.20]),\n",
    "        jnp.array([0.0, 0.0, 0.0]),\n",
    "        jnp.array([0.0, 0.0, 1.0]),\n",
    "    )\n",
    ")\n",
    "\n",
    "w0, tr0 = importance_jit(key, genjax.choice_map({\n",
    "    \"parent_0\": -1,\n",
    "    \"parent_1\": 0,\n",
    "    \"parent_2\": 0,\n",
    "    \"parent_3\": 0,\n",
    "    \"id_0\": jnp.int32(21),\n",
    "    # \"id_1\": jnp.int32(0),\n",
    "    \"camera_pose\": jnp.eye(4),\n",
    "    \"root_pose_0\": table_pose,\n",
    "    \"face_parent_1\": 2,\n",
    "    \"face_parent_2\": 2,\n",
    "    \"face_parent_3\": 2,\n",
    "    \"face_child_1\": 3,\n",
    "    \"face_child_2\": 3,\n",
    "    \"face_child_3\": 3,\n",
    "    \"variance\": 0.00001**2,\n",
    "    \"outlier_prob\": 0.0,\n",
    "}), (\n",
    "    jnp.arange(4),\n",
    "    jnp.arange(22),\n",
    "    jnp.array([-jnp.ones(3)*100.0, jnp.ones(3)*100.0]),\n",
    "    jnp.array([jnp.array([-0.2, -0.2, -2*jnp.pi]), jnp.array([0.2, 0.2, 2*jnp.pi])]),\n",
    "    b.RENDERER.model_box_dims, OUTLIER_VOLUME, 1.0)\n",
    ")\n",
    "print(tr0.get_score())\n",
    "print(jnp.min(get_observed_image(tr0)[...,2]), jnp.max(get_observed_image(tr0)[...,2]))\n",
    "\n",
    "_, tr1 = importance_jit(key, tr0.get_choices(), (jnp.arange(1), jnp.arange(22), *tr0.get_args()[2:]))\n",
    "\n",
    "\n",
    "def prep_image(im, far=_far, eps=0.0):\n",
    "    im_ = jnp.where(im <far - eps, im, jnp.inf)\n",
    "    return im_\n",
    "\n",
    "\n",
    "\n",
    "\n",
    "# =======================\n",
    "fig, axs = plt.subplots(1,2,figsize=(4,2))\n",
    "axs[0].imshow(prep_image(get_observed_image(tr0)[...,2], eps=0.1), cmap=\"viridis\")\n",
    "axs[1].imshow(prep_image(get_rendered_image(tr0)[...,2]), cmap=\"viridis\")\n",
    "fig.tight_layout()"
   ]
  },
  {
   "cell_type": "code",
   "execution_count": 14,
   "metadata": {},
   "outputs": [],
   "source": [
    "def get_ids(tr): \n",
    "    ids = np.array([np.array(tr[f\"id_{i}\"]).tolist() for i in range(1,4)])\n",
    "    order = np.argsort(ids)\n",
    "    return ids[order], order"
   ]
  },
  {
   "cell_type": "code",
   "execution_count": 15,
   "metadata": {},
   "outputs": [],
   "source": [
    "ch = tr0.strip()"
   ]
  },
  {
   "cell_type": "code",
   "execution_count": 186,
   "metadata": {},
   "outputs": [],
   "source": [
    "import pickle\n",
    "\n",
    "ex = 4\n",
    "ch = tr0.strip()\n",
    "with open(f\"_temp/ex_{ex}.pickle\", \"wb\") as f:\n",
    "    pickle.dump(ch, f)"
   ]
  },
  {
   "cell_type": "code",
   "execution_count": 187,
   "metadata": {},
   "outputs": [],
   "source": [
    "ex = 4\n",
    "ch = None\n",
    "with open(f\"_temp/ex_{ex}.pickle\", \"rb\") as f:\n",
    "    global ch;\n",
    "    ch = pickle.load(f)"
   ]
  },
  {
   "cell_type": "code",
   "execution_count": 16,
   "metadata": {},
   "outputs": [
    {
     "name": "stdout",
     "output_type": "stream",
     "text": [
      "(100, 100)\n",
      "2.1598034 5.0\n",
      "(100, 100) (100, 100) (100, 100, 3)\n"
     ]
    },
    {
     "data": {
      "image/png": "[encoded data removed]",
      "text/plain": [
       "<Figure size 400x200 with 1 Axes>"
      ]
     },
     "metadata": {},
     "output_type": "display_data"
    }
   ],
   "source": [
    "from scipy.ndimage import gaussian_filter\n",
    "\n",
    "# Y0 = get_rendered_image(tr0)\n",
    "# Z0 = jnp.linalg.norm(Y0[...,:3], axis=-1, keepdims=True)\n",
    "\n",
    "# Z  = gaussian_filter(Z0, sigma = 0.0)\n",
    "# dZ = 0.02*np.random.randn(*Z.shape)\n",
    "# Z = jnp.where(Z < _far, Z + dZ, Z)\n",
    "\n",
    "# Y = Y0[...,:3]/Z0*Z\n",
    "# Y = clip_depth(Y, _far)\n",
    "\n",
    "Y0 = get_rendered_image(tr0)\n",
    "Z0 = Y0[...,2]\n",
    "Z  = gaussian_filter(Z0, sigma = 0.0)\n",
    "dZ = 0.0*np.random.randn(*Z.shape)\n",
    "Z = jnp.where(Z < _far, Z + dZ, Z)\n",
    "\n",
    "print(Z.shape)\n",
    "Y = Y0.at[...,2].set(Z)\n",
    "\n",
    "print(jnp.min(Y[...,2]), jnp.max(Y[...,2]))\n",
    "\n",
    "\n",
    "ch = add_constraints(Y, ch)\n",
    "\n",
    "\n",
    "_, tr1 = importance_jit(key, ch, tr1.get_args())\n",
    "\n",
    "\n",
    "print(Z0.shape, Z.shape, Y.shape)\n",
    "tr = tr1\n",
    "# =======================\n",
    "fig, ax = plt.subplots(1,1,figsize=(4,2))\n",
    "ax.axis(\"off\")\n",
    "ax.imshow(jnp.concatenate([Z0,Y[...,2]], axis=1), cmap=\"binary_r\", vmax=3.5)\n",
    "fig.tight_layout()"
   ]
  },
  {
   "cell_type": "code",
   "execution_count": 17,
   "metadata": {},
   "outputs": [
    {
     "data": {
      "image/png": "[encoded data removed]",
      "text/plain": [
       "<Figure size 400x200 with 1 Axes>"
      ]
     },
     "metadata": {},
     "output_type": "display_data"
    }
   ],
   "source": [
    "plt.figure(figsize=(4,2))\n",
    "plt.hist(Z.ravel(), bins=30);"
   ]
  },
  {
   "cell_type": "code",
   "execution_count": 34,
   "metadata": {},
   "outputs": [],
   "source": []
  },
  {
   "cell_type": "code",
   "execution_count": 21,
   "metadata": {},
   "outputs": [],
   "source": [
    "# OUTLIER_VOLUME = 1000.0\n",
    "# sigs = jnp.sqrt(jnp.array([0.0001, 0.001, 0.01]))\n",
    "# outs = jnp.array([0.00001, 0.0001, 0.001])\n",
    "\n",
    "# grid_params = [\n",
    "#     (0.3, jnp.pi, (11,11,11)), \n",
    "#     (0.2, jnp.pi, (11,11,11)), \n",
    "#     (0.1, jnp.pi, (11,11,11)),\n",
    "#     (0.05, jnp.pi/3, (11,11,11)), \n",
    "#     (0.02, jnp.pi, (5,5,51)), \n",
    "#     (0.01, jnp.pi/5, (11,11,11)),\n",
    "#     (0.01, 0.0, (21,21,1)),\n",
    "#     (0.05, 0.0, (21,21,1))\n",
    "# ]\n",
    "# contact_grids = [\n",
    "#     b.utils.make_translation_grid_enumeration_3d(\n",
    "#         -x, -x, -ang,\n",
    "#         x, x, ang,\n",
    "#         *nums\n",
    "#     )\n",
    "#     for (x,ang,nums) in grid_params\n",
    "# ]\n"
   ]
  },
  {
   "cell_type": "code",
   "execution_count": 38,
   "metadata": {},
   "outputs": [],
   "source": [
    "# grid_params = [\n",
    "#     # (0.3, jnp.pi, (11,11,11)), \n",
    "#     (0.2, jnp.pi, (17,17,11)), \n",
    "#     (0.1, jnp.pi, (11,11,11)),\n",
    "#     (0.05, jnp.pi/3, (11,11,11)), \n",
    "#     (0.02, jnp.pi, (5,5,51)), \n",
    "#     (0.01, jnp.pi/5, (11,11,11)), \n",
    "#     (0.01, 0.0, (21,21,1)),\n",
    "#     (0.05, 0.0, (21,21,1))\n",
    "# ]\n",
    "\n",
    "grid_params = [\n",
    "    (0.3, jnp.pi,   (19,19,19)),\n",
    "    (0.2, jnp.pi/2,   (19,19,19)),\n",
    "    (0.1, jnp.pi/4,   (19,19,19)),\n",
    "    # (0.2, jnp.pi/2, (15,15,15)), \n",
    "    # (0.1, jnp.pi/4, (15,15,15)),\n",
    "    # (0.05, jnp.pi/8, (11,11,11)),\n",
    "    # (0.01, jnp.pi/16, (11,11,11)),\n",
    "    # (0.01, 0.0, (21,21,1))\n",
    "]\n",
    "\n",
    "contact_grids = [\n",
    "    b.utils.make_translation_grid_enumeration_3d(\n",
    "        -x, -x, -ang,\n",
    "        x, x, ang,\n",
    "        *nums\n",
    "    )\n",
    "    for (x,ang,nums) in grid_params\n",
    "]\n"
   ]
  },
  {
   "cell_type": "code",
   "execution_count": 39,
   "metadata": {},
   "outputs": [
    {
     "name": "stderr",
     "output_type": "stream",
     "text": [
      "100%|██████████| 21/21 [00:21<00:00,  1.02s/it]\n",
      "100%|██████████| 21/21 [00:19<00:00,  1.09it/s]\n",
      "100%|██████████| 21/21 [00:20<00:00,  1.02it/s]"
     ]
    },
    {
     "name": "stdout",
     "output_type": "stream",
     "text": [
      "225632.61\n",
      "71158.445\n",
      "(array([ 3,  6, 14]), array([1, 0, 2]))\n",
      "(array([ 1,  6, 14]), array([0, 2, 1]))\n"
     ]
    },
    {
     "name": "stderr",
     "output_type": "stream",
     "text": [
      "\n"
     ]
    }
   ],
   "source": [
    "key   = keysplit(key)\n",
    "trace = tr1\n",
    "\n",
    "sigs  = jnp.array([0.001, 0.01, 0.1])\n",
    "outs  = jnp.array([1e-4, 1e-2, 1e-1])\n",
    "# outs  = jnp.array([0.001, 0.01, 0.1])\n",
    "# outs  = jnp.array([0.001, 0.01, 0.1])\n",
    "\n",
    "# sigs  = jnp.array([0.001])\n",
    "# outs  = jnp.array([1e-3])\n",
    "# outs  = jnp.array([0.001])\n",
    "\n",
    "\n",
    "all_all_paths = []\n",
    "obj_scs = []\n",
    "\n",
    "#\n",
    "# Iteratively add 3 new objects\n",
    "#\n",
    "for _ in range(3):\n",
    "    \n",
    "    all_paths = []\n",
    "\n",
    "    #\n",
    "    # Try and fit each object using a \n",
    "    # coarse-to-fine schedule\n",
    "    #\n",
    "    for obj_id in tqdm(range(len(b.RENDERER.meshes)-1)):\n",
    "    \n",
    "        path = []\n",
    "    \n",
    "        trace_ = add_object_jit(trace, key, obj_id, 0, 2, 3)\n",
    "        number = b.get_contact_params(trace_).shape[0] - 1\n",
    "        path.append(trace_)\n",
    "\n",
    "        #\n",
    "        # Coarse-to-fine schedule\n",
    "        #\n",
    "        for c2f_iter in range(len(contact_grids)):\n",
    "\n",
    "            trace_, sc_ = eval_grids(trace_, key, number,\n",
    "                                contact_grids[c2f_iter], \n",
    "                                sigs**2, \n",
    "                                outs)\n",
    "            path.append(trace_)\n",
    "\n",
    "        all_paths.append(path)\n",
    "\n",
    "    all_all_paths.append(all_paths)\n",
    "\n",
    "    # \n",
    "    # Choose the objects that fits best \n",
    "    # \n",
    "    scores = jnp.array([t[-1].get_score() for t in all_paths])\n",
    "    obj_scs.append(scores - logsumexp(scores))\n",
    "    normalized_scores = b.utils.normalize_log_scores(scores)\n",
    "    trace = all_paths[jnp.argmax(scores)][-1]\n",
    "\n",
    "\n",
    "print(tr0.score)\n",
    "print(trace.score)\n",
    "\n",
    "\n",
    "\n",
    "tr = trace\n",
    "\n",
    "print(get_ids(tr0))\n",
    "print(get_ids(tr))"
   ]
  },
  {
   "cell_type": "code",
   "execution_count": 35,
   "metadata": {},
   "outputs": [
    {
     "data": {
      "image/png": "[encoded data removed]",
      "text/plain": [
       "<Figure size 600x100 with 1 Axes>"
      ]
     },
     "metadata": {},
     "output_type": "display_data"
    }
   ],
   "source": [
    "plt.figure(figsize=(6,1))\n",
    "\n",
    "plt.xticks(range(len(b.RENDERER.meshes)-1))\n",
    "\n",
    "ids0, _ = get_ids(tr0)\n",
    "for i in ids0: plt.vlines(i, jnp.min(jnp.concatenate(obj_scs)),jnp.max(jnp.concatenate(obj_scs)), color=\"k\", linestyle=\"--\")\n",
    "for s in obj_scs:\n",
    "    plt.plot(range(len(b.RENDERER.meshes)-1), s)"
   ]
  },
  {
   "cell_type": "code",
   "execution_count": 36,
   "metadata": {},
   "outputs": [
    {
     "name": "stdout",
     "output_type": "stream",
     "text": [
      "(array([ 3,  6, 14]), array([1, 0, 2]))\n",
      "(array([ 1,  6, 14]), array([0, 2, 1]))\n"
     ]
    },
    {
     "data": {
      "image/png": "[encoded data removed]",
      "text/plain": [
       "<Figure size 400x200 with 2 Axes>"
      ]
     },
     "metadata": {},
     "output_type": "display_data"
    }
   ],
   "source": [
    "tr = trace\n",
    "\n",
    "print(get_ids(tr0))\n",
    "print(get_ids(tr))\n",
    "\n",
    "# =======================\n",
    "fig, axs = plt.subplots(1,2,figsize=(4,2))\n",
    "axs[0].set_title(\"Observed\")\n",
    "axs[0].imshow(get_observed_image(tr)[...,2], cmap=\"binary_r\")\n",
    "axs[1].set_title(\"Latent\")\n",
    "axs[1].imshow(prep_image(get_rendered_image(tr)[...,2]), cmap=\"viridis\")\n",
    "fig.tight_layout()"
   ]
  },
  {
   "cell_type": "code",
   "execution_count": 37,
   "metadata": {},
   "outputs": [
    {
     "data": {
      "image/png": "[encoded data removed]",
      "text/plain": [
       "<Figure size 600x600 with 2 Axes>"
      ]
     },
     "metadata": {},
     "output_type": "display_data"
    }
   ],
   "source": [
    "\n",
    "tr = trace\n",
    "ps = get_poses(tr) \n",
    "ps0 = get_poses(tr0) \n",
    "\n",
    "# =======================\n",
    "fig, axs = plt.subplots(1,2,figsize=(6,6))\n",
    "axs[0].set_aspect(1)\n",
    "axs[1].set_aspect(1)\n",
    "axs[0].scatter(0,0)\n",
    "axs[1].scatter(0,0)\n",
    "\n",
    "for i in range(1,4):\n",
    "    x,r = unpack_pose(ps[i])\n",
    "    xs  = meshes[tr[f\"id_{i}\"]].vertices@r.T + x\n",
    "    xs  = xs@table_pose[:3,:3].T\n",
    "    axs[0].scatter(*xs[:,[0,1]].T, s=0.1)\n",
    "\n",
    "    x,r = unpack_pose(ps0[i])\n",
    "    xs  = meshes[tr0[f\"id_{i}\"]].vertices@r.T + x\n",
    "    xs  = xs@table_pose[:3,:3].T\n",
    "    axs[1].scatter(*xs[:,[0,1]].T, s=0.1)"
   ]
  },
  {
   "cell_type": "code",
   "execution_count": null,
   "metadata": {},
   "outputs": [],
   "source": []
  }
 ],
 "metadata": {
  "kernelspec": {
   "display_name": "bayes3d",
   "language": "python",
   "name": "python3"
  },
  "language_info": {
   "codemirror_mode": {
    "name": "ipython",
    "version": 3
   },
   "file_extension": ".py",
   "mimetype": "text/x-python",
   "name": "python",
   "nbconvert_exporter": "python",
   "pygments_lexer": "ipython3",
   "version": "3.10.12"
  },
  "orig_nbformat": 4
 },
 "nbformat": 4,
 "nbformat_minor": 2
}
