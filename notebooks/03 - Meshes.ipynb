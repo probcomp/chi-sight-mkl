{
 "cells": [
  {
   "cell_type": "markdown",
   "metadata": {},
   "source": [
    "# Worldbuilding - Meshes"
   ]
  },
  {
   "cell_type": "code",
   "execution_count": 1,
   "metadata": {},
   "outputs": [],
   "source": [
    "#|default_exp meshes"
   ]
  },
  {
   "cell_type": "code",
   "execution_count": 2,
   "metadata": {},
   "outputs": [],
   "source": [
    "#|export\n",
    "import warnings\n",
    "warnings.filterwarnings('ignore')\n",
    "import trimesh\n",
    "import numpy as np\n",
    "import jax.numpy as jnp\n",
    "from pathlib import Path\n",
    "import pythreejs as p3s\n",
    "\n",
    "from xsight.pose import pack_pose, lift_pose, unpack_pose, look_at, from_euler"
   ]
  },
  {
   "cell_type": "code",
   "execution_count": 3,
   "metadata": {},
   "outputs": [],
   "source": [
    "#|export\n",
    "def create_cuboid(width=1., height=1., depth=1.):\n",
    "    vertices = [\n",
    "        [0, 0, 0],               # Vertex 0 (bottom-front-left)\n",
    "        [width, 0, 0],           # Vertex 1 (bottom-front-right)\n",
    "        [width, height, 0],      # Vertex 2 (top-front-right)\n",
    "        [0, height, 0],          # Vertex 3 (top-front-left)\n",
    "        [0, 0, depth],           # Vertex 4 (bottom-back-left)\n",
    "        [width, 0, depth],       # Vertex 5 (bottom-back-right)\n",
    "        [width, height, depth],  # Vertex 6 (top-back-right)\n",
    "        [0, height, depth]       # Vertex 7 (top-back-left)\n",
    "    ]\n",
    "    faces = [\n",
    "        [0, 1, 2, 3],  # Front face\n",
    "        [1, 5, 6, 2],  # Right face\n",
    "        [5, 4, 7, 6],  # Back face\n",
    "        [4, 0, 3, 7],  # Left face\n",
    "        [3, 2, 6, 7],  # Top face\n",
    "        [4, 5, 1, 0]   # Bottom face\n",
    "    ]\n",
    "\n",
    "    cuboid_mesh = trimesh.Trimesh(vertices=vertices, faces=faces, process=False)\n",
    "    cuboid_mesh.fix_normals()\n",
    "\n",
    "    return cuboid_mesh\n",
    "\n",
    "\n",
    "def create_box(width=1., height=1., depth=1.):\n",
    "    b = trimesh.primitives.Box(extents=(width, height, depth), transform=None, bounds=None, mutable=True)\n",
    "    return b.vertices, b.faces\n",
    "\n",
    "def create_cube(size=1.):\n",
    "    return create_box(size, size, size)\n",
    "\n",
    "def create_sphere(radius=1.0, subdivisions=0):\n",
    "    s = trimesh.primitives.Sphere(radius=radius, center=np.zeros(3), subdivisions=subdivisions)\n",
    "    return s.vertices, s.faces"
   ]
  },
  {
   "cell_type": "code",
   "execution_count": 4,
   "metadata": {},
   "outputs": [],
   "source": [
    "#|export\n",
    "def create_pyramid(width=1.,height=1.,depth=1.):\n",
    "    w,h,d = width,height,depth\n",
    "    vertices = [\n",
    "        [0, 0, 0],  # Base vertex 1\n",
    "        [w, 0, 0],  # Base vertex 2\n",
    "        [w, h, 0],  # Base vertex 3\n",
    "        [0, h, 0],  # Base vertex 4\n",
    "        [w/2, h/2, d]  # Apex vertex\n",
    "    ]\n",
    "    faces = [\n",
    "        [0, 2, 1],  # Base face 1 (reversed order)\n",
    "        [0, 3, 2],  # Base face 2 (reversed order)\n",
    "        [0, 1, 4],  # Side face 1\n",
    "        [1, 2, 4],  # Side face 2\n",
    "        [2, 3, 4],  # Side face 3\n",
    "        [3, 0, 4]   # Side face 4\n",
    "    ]\n",
    "\n",
    "    mesh = trimesh.Trimesh(vertices=vertices, faces=faces)\n",
    "    mesh.fix_normals()\n",
    "    return mesh"
   ]
  },
  {
   "cell_type": "code",
   "execution_count": 5,
   "metadata": {},
   "outputs": [],
   "source": [
    "#|export\n",
    "def move_to_xy(mesh, x, y):\n",
    "    current_center = (np.min(mesh.vertices, axis=0) + np.max(mesh.vertices, axis=0))/2\n",
    "    translation    = [x - current_center[0], y - current_center[1], 0]\n",
    "    mesh_ = mesh.copy()\n",
    "    mesh_.vertices += translation\n",
    "\n",
    "    return mesh_\n",
    "\n",
    "\n",
    "def move_to_z(mesh, z):\n",
    "    translation = [0, 0, z - np.min(mesh.vertices[:,2])]\n",
    "    mesh_ = mesh.copy()\n",
    "    mesh_.vertices += translation\n",
    "\n",
    "    return mesh_\n"
   ]
  },
  {
   "cell_type": "code",
   "execution_count": 6,
   "metadata": {},
   "outputs": [],
   "source": [
    "#|hide\n",
    "import plotly.graph_objects as go\n",
    "\n",
    "def plotly_line(a, b, c='black', width=1):\n",
    "    trace = go.Scatter3d(\n",
    "        showlegend=False,\n",
    "        x=[a[0], b[0]],\n",
    "        y=[a[1], b[1]],\n",
    "        z=[a[2], b[2]],\n",
    "        mode='lines',\n",
    "        line=dict(\n",
    "            color=c,\n",
    "            width=width\n",
    "        )\n",
    "    )\n",
    "    return trace\n",
    "\n",
    "def plotly_lines(lines,  c='black', width=1):\n",
    "    traces = [plotly_line(a, b, c=c, width=width) for (a,b) in lines]\n",
    "    return traces\n",
    "\n",
    "def go_mesh(mesh, c=\"white\", line_c=\"blue\"):\n",
    "    vertices = mesh.vertices\n",
    "    faces    = mesh.faces\n",
    "    plotly_mesh = go.Mesh3d(\n",
    "        x=vertices[:, 0],\n",
    "        y=vertices[:, 1],\n",
    "        z=vertices[:, 2],\n",
    "        i=faces[:, 0],\n",
    "        j=faces[:, 1],\n",
    "        k=faces[:, 2],\n",
    "        color=c,\n",
    "    )\n",
    "    edges = np.concatenate([faces[:, [0, 1]],\n",
    "                       faces[:, [1, 2]],\n",
    "                       faces[:, [2, 0]]], axis=0)\n",
    "    edges = np.unique(np.sort(edges, axis=1), axis=0)\n",
    "    return [plotly_mesh] + plotly_lines(vertices[edges], c=line_c)"
   ]
  },
  {
   "cell_type": "code",
   "execution_count": 7,
   "metadata": {},
   "outputs": [],
   "source": [
    "#|hide\n",
    "def plotly_poly(x,y,z, color='red', width=3, mode=\"lines\"):\n",
    "    trace = go.Scatter3d(\n",
    "        showlegend=False,\n",
    "        x=x,\n",
    "        y=y,\n",
    "        z=z,\n",
    "        mode=mode,\n",
    "        marker=dict(\n",
    "            color=color,\n",
    "            size=4,\n",
    "            line=dict(\n",
    "                color=color,\n",
    "                width=3,\n",
    "            )\n",
    "        ),\n",
    "        line=dict(\n",
    "            color=color,\n",
    "            width=width\n",
    "        )\n",
    "    )\n",
    "    return trace\n",
    "\n",
    "\n",
    "def plotly_pose(r,t, scale=1.0, colors=['red', 'green', 'blue'], width=4):\n",
    "    return [\n",
    "        plotly_line(t, t+r[:,0], color=colors[0], width=width),\n",
    "        plotly_line(t, t+r[:,1], color=colors[1], width=width),\n",
    "        plotly_line(t, t+r[:,2], color=colors[2], width=width),\n",
    "    ]\n"
   ]
  },
  {
   "cell_type": "code",
   "execution_count": 8,
   "metadata": {},
   "outputs": [],
   "source": [
    "#|export\n",
    "cube    = create_cuboid()\n",
    "pyramid = create_pyramid()\n",
    "table   = create_cuboid(10, 10, -0.1)\n",
    "\n",
    "cube    = move_to_xy(cube, 1, 1)\n",
    "pyramid = move_to_xy(pyramid, 0, -1)\n",
    "table   = move_to_xy(table,0,0)\n",
    "\n",
    "mesh = trimesh.util.concatenate([\n",
    "    move_to_xy(cube, 2, 1), \n",
    "    move_to_xy(pyramid, 0, 0), \n",
    "    move_to_xy(table,0,0)\n",
    "])"
   ]
  },
  {
   "cell_type": "markdown",
   "metadata": {},
   "source": [
    "## Meshplot\n",
    "\n",
    "- I installed via cloning the repo and calling `pip install -e .`\n",
    "- https://github.com/skoch9/meshplot\n",
    "- https://github.com/jupyter-widgets/pythreejs\n",
    "\n",
    "```\n",
    "                    y\n",
    "                    | \n",
    "                    |\n",
    " viewer coords:     * - - x\n",
    "                   /\n",
    "                  z\n",
    "```"
   ]
  },
  {
   "cell_type": "code",
   "execution_count": 9,
   "metadata": {},
   "outputs": [],
   "source": [
    "#|export\n",
    "import meshplot as mp\n",
    "\n",
    "def mp_plot_pose(mp_viewer, t, r, scale=1.0, colors=['red', 'green', 'blue'], width=4):\n",
    "    for dt, c in zip(r.T, colors):\n",
    "        mp_viewer.add_lines(t[None], (t + dt)[None], \n",
    "                         shading=dict(line_width = width, line_color = c));\n",
    "    return mp_viewer"
   ]
  },
  {
   "cell_type": "code",
   "execution_count": 10,
   "metadata": {},
   "outputs": [
    {
     "data": {
      "application/vnd.jupyter.widget-view+json": {
       "model_id": "3a23492dd18849eb9c5f4c302fdbcb24",
       "version_major": 2,
       "version_minor": 0
      },
      "text/plain": [
       "Renderer(camera=PerspectiveCamera(aspect=1.5, children=(DirectionalLight(color='white', intensity=0.6, positio…"
      ]
     },
     "metadata": {},
     "output_type": "display_data"
    }
   ],
   "source": [
    "v = mp.Viewer({\n",
    "    \"width\": 600, \n",
    "    \"height\": 400, \n",
    "    \"antialias\": True, \n",
    "    \"scale\": 1., \n",
    "    \"background\": \"#ccc\", \n",
    "    \"fov\": 30})\n",
    "\n",
    "v.add_mesh(mesh.vertices, mesh.faces, c=np.array([0.9,0.9,0.9]), shading={\"wireframe\": True, \"wire_width\": 2.0})\n",
    "display(v._renderer)"
   ]
  },
  {
   "cell_type": "markdown",
   "metadata": {},
   "source": [
    "```\n",
    "                    y\n",
    "                    | \n",
    "                    |\n",
    "mp world            * - - x\n",
    "coords:            /\n",
    "                  /\n",
    "                 z\n",
    "\n",
    "\n",
    "mp cam\n",
    "   z                 z y \n",
    "  /                  |/\n",
    " * - x      ---->    * - x\n",
    " |\n",
    " y\n",
    "\n",
    "\n",
    "```"
   ]
  },
  {
   "cell_type": "code",
   "execution_count": 11,
   "metadata": {},
   "outputs": [],
   "source": [
    "#|export\n",
    "# How a CAMERA coords \"naturally\" \n",
    "# embed into mp viewer coords\n",
    "MP_CAM_VIEW = np.array([\n",
    "    [ 1.0,   0.0,  0.0],\n",
    "    [ 0.0,   1.0,  0.0],\n",
    "    [ 0.0,   0.0,  -1.0]\n",
    "])\n",
    "\n",
    "# MP canonical Camera rotation\n",
    "MP_WORLD_VIEW = np.array([\n",
    "    [ 1.0,  0.0,  0.0],\n",
    "    [ 0.0,  0.0,  1.0],\n",
    "    [ 0.0,  -1.0,  0.0]\n",
    "])"
   ]
  },
  {
   "cell_type": "code",
   "execution_count": 12,
   "metadata": {},
   "outputs": [],
   "source": [
    "cube    = create_cuboid()\n",
    "pyramid = create_pyramid()\n",
    "table   = create_cuboid(10, 10, -0.1)\n",
    "\n",
    "cube    = move_to_xy(cube, 1, 1)\n",
    "pyramid = move_to_xy(pyramid, 0, -1)\n",
    "table   = move_to_xy(table,0,0)\n",
    "\n",
    "mesh = trimesh.util.concatenate([\n",
    "    move_to_xy(cube, 2, 1), \n",
    "    move_to_xy(pyramid, 0, 0), \n",
    "    move_to_xy(table,0,0)\n",
    "])"
   ]
  },
  {
   "cell_type": "code",
   "execution_count": 13,
   "metadata": {},
   "outputs": [],
   "source": [
    "#|export\n",
    "import meshplot as mp\n",
    "import numpy as np\n",
    "#|export\n",
    "# How a CAMERA coords \"naturally\" \n",
    "# embed into mp viewer coords\n",
    "MP_CAM_VIEW = np.array([\n",
    "    [ 1.0,   0.0,  0.0],\n",
    "    [ 0.0,   1.0,  0.0],\n",
    "    [ 0.0,   0.0,  -1.0]\n",
    "])\n",
    "\n",
    "# MP canonical Camera rotation\n",
    "MP_WORLD_VIEW = np.array([\n",
    "    [ 1.0,  0.0,  0.0],\n",
    "    [ 0.0,  0.0,  1.0],\n",
    "    [ 0.0,  -1.0,  0.0]\n",
    "])\n",
    "\n",
    "class Viewer(object):\n",
    "    def __init__(self, \n",
    "                 width  = 600, \n",
    "                 height = 400, \n",
    "                 background = \"#fff\", \n",
    "                 fov = 40, \n",
    "                 cam_pos  = [0, 0, 10], \n",
    "                 cam_look = [0, 0, 0],\n",
    "                 view_as=\"world\",\n",
    "                 view=None,\n",
    "                ):\n",
    "        \n",
    "        # Coordinate transform\n",
    "        # To adjust mp's turntable view.\n",
    "        self.T = np.eye(3)\n",
    "        if view is None:\n",
    "            if view_as == \"world\": self.T = MP_WORLD_VIEW.T\n",
    "        else:\n",
    "            self.T = view.T\n",
    "\n",
    "\n",
    "        self._v = mp.Viewer({\n",
    "            \"width\": width, \n",
    "            \"height\": height, \n",
    "            \"antialias\": True, \n",
    "            \"scale\": 1.0, \n",
    "            \"background\": background, \n",
    "            \"fov\": fov})\n",
    "        \n",
    "        # hack to disable auto update\n",
    "        self._v.__update_view_func = self._v.__update_view\n",
    "        self._v.__update_view = lambda: None\n",
    "\n",
    "        self._v._orbit.target = tuple(cam_look@self.T)\n",
    "        self._v._cam.lookAt(tuple(cam_look@self.T))\n",
    "        self._v._cam.position = tuple(cam_pos@self.T)\n",
    "        self._v._orbit.exec_three_obj_method('update')\n",
    "        self._v._cam.exec_three_obj_method('updateProjectionMatrix')\n",
    "\n",
    "\n",
    "    def add_mesh(self, vs, fs, c=np.array([1,1,1]), **kwargs):\n",
    "        kwargs_ = {\"shading\": {\"wireframe\": True}}\n",
    "        kwargs_.update(kwargs)\n",
    "\n",
    "        \n",
    "        self._v.add_mesh(vs@self.T, fs, c=c, **kwargs_)\n",
    "\n",
    "    def add_points(self, vs, c=np.array([[1,1,1]]), s=1.0):\n",
    "        self._v.add_points(vs@self.T, c=c, shading={\"point_size\": s})\n",
    "\n",
    "    def add_pose(self, p, colors=['red', 'green', 'blue'], width=4, scale=1.0):\n",
    "        x, r = unpack_pose(p)\n",
    "        x = x@self.T\n",
    "        for dx, c in zip(r.T, colors):\n",
    "            self._v.add_lines(x[None], (x + dx@self.T)[None], \n",
    "                         shading=dict(line_width = width, line_color = c));\n",
    "\n",
    "\n",
    "        return self\n",
    "        \n",
    "    def _repr_mimebundle_(self, **kwargs):\n",
    "        return self._v._renderer._repr_mimebundle_(**kwargs)\n",
    "\n",
    "    def look_at(self, look):\n",
    "        self._v._cam.lookAt(tuple(look@self.T))\n",
    "        # self._v._orbit.target = look\n",
    "        self._v._orbit.exec_three_obj_method('update')\n",
    "        self._v._cam.exec_three_obj_method('updateProjectionMatrix')\n",
    "        return self\n",
    "\n",
    "    def look_from(self, pos):\n",
    "        self._v._cam.position = tuple(pos@self.T)\n",
    "        self._v._cam.exec_three_obj_method('updateProjectionMatrix')\n",
    "        return self"
   ]
  },
  {
   "cell_type": "code",
   "execution_count": 14,
   "metadata": {},
   "outputs": [],
   "source": [
    "cube    = create_cuboid()\n",
    "pyramid = create_pyramid()\n",
    "table   = create_cuboid(10, 10, -0.1)\n",
    "\n",
    "\n",
    "mesh = trimesh.util.concatenate([\n",
    "    move_to_xy(cube, 2, 1), \n",
    "    move_to_xy(pyramid, 0, 0), \n",
    "    move_to_xy(table,0,0)\n",
    "])"
   ]
  },
  {
   "cell_type": "code",
   "execution_count": 15,
   "metadata": {},
   "outputs": [],
   "source": [
    "p = pack_pose(\n",
    "    jnp.array([0,0,2]),\n",
    "    look_at(jnp.array([2,1,-1]))\n",
    ")\n"
   ]
  },
  {
   "cell_type": "code",
   "execution_count": 18,
   "metadata": {},
   "outputs": [
    {
     "data": {
      "application/vnd.jupyter.widget-view+json": {
       "model_id": "3acdddc1eea64c86922e35a5dacd63fc",
       "version_major": 2,
       "version_minor": 0
      },
      "text/plain": [
       "Renderer(camera=PerspectiveCamera(aspect=1.5, children=(DirectionalLight(color='white', intensity=0.6, positio…"
      ]
     },
     "execution_count": 18,
     "metadata": {},
     "output_type": "execute_result"
    }
   ],
   "source": [
    "MP_CAM_VIEW = np.array([\n",
    "    [ 1.0,   0.0,  0.0],\n",
    "    [ 0.0,   1.0,  0.0],\n",
    "    [ 0.0,   0.0,  1.0]\n",
    "])\n",
    "\n",
    "v = Viewer(cam_pos=(0,0,10), cam_look=np.array([0,0,0]), view_as=\"world\")\n",
    "v.add_mesh(mesh.vertices, mesh.faces)\n",
    "v.add_pose(p)\n",
    "v.add_points(2*np.random.randn(100,3), c=np.random.rand(100,3))\n",
    "v"
   ]
  },
  {
   "cell_type": "markdown",
   "metadata": {},
   "source": [
    "## Lifting from 2D worlds to 3D"
   ]
  },
  {
   "cell_type": "code",
   "execution_count": 21,
   "metadata": {},
   "outputs": [],
   "source": [
    "#|export\n",
    "\n",
    "def trimesh_from_2d_segs(segs):\n",
    "    pieces = []\n",
    "    for s in segs:\n",
    "        x = s[:2]\n",
    "        y = s[2:]\n",
    "\n",
    "        p = pack_pose(np.concatenate([(x + y)/2 , np.array([0.5])]), np.eye(3))\n",
    "\n",
    "        dimensions = np.array(np.concatenate([np.abs(x - y) , np.array([1.0])]))\n",
    "        piece = trimesh.creation.box(dimensions, p)\n",
    "        pieces.append(piece)\n",
    "\n",
    "    map_mesh = trimesh.util.concatenate(pieces)\n",
    "    return map_mesh"
   ]
  },
  {
   "cell_type": "code",
   "execution_count": 44,
   "metadata": {},
   "outputs": [],
   "source": [
    "#|export\n",
    "import json \n",
    "\n",
    "def load_env_data(fname):\n",
    "    with open(fname) as f:\n",
    "        data = json.load(f)\n",
    "\n",
    "    return data\n",
    "\n",
    "def unpack_2d_env_data(fname):\n",
    "    data = load_env_data(fname)\n",
    "\n",
    "    segs   = np.array(data[\"segs\"])\n",
    "\n",
    "    # Convert clutter verts to segs\n",
    "    clutter = np.array(data[\"clutter_verts\"])\n",
    "    clutter = data[\"clutter_verts\"]\n",
    "    clutter = np.array(clutter)\n",
    "    clutter = np.stack([clutter[:,:-1,:], clutter[:,1:,:]], axis=2)\n",
    "    clutter = np.concatenate(clutter, axis=0).reshape(-1,4)\n",
    "\n",
    "    xs  = np.array(data[\"paths\"][0])\n",
    "    dxs = xs[1:] - xs[:-1]\n",
    "    hds = np.arctan2(dxs[:, 1], dxs[:, 0])\n",
    "    dhds = hds[1:] - hds[:-1]\n",
    "    xs  = xs[:-1]\n",
    "    T   = len(xs)\n",
    "    return segs, clutter, xs, hds, dxs[:-1], dhds"
   ]
  },
  {
   "cell_type": "code",
   "execution_count": 43,
   "metadata": {},
   "outputs": [
    {
     "name": "stdout",
     "output_type": "stream",
     "text": [
      "dict_keys(['env_name', 'paths', 'verts', 'clutter_verts', 'segs', 'clutter_segs'])\n",
      "(80, 2, 2)\n"
     ]
    },
    {
     "data": {
      "image/png": "[encoded data removed]",
      "text/plain": [
       "<Figure size 640x480 with 1 Axes>"
      ]
     },
     "metadata": {},
     "output_type": "display_data"
    }
   ],
   "source": [
    "import matplotlib.pyplot as plt\n",
    "\n",
    "fname = \"./data/test_env_2d.json\"\n",
    "data = load_env_data(fname)\n",
    "print(data.keys())\n",
    "clutter = data[\"clutter_verts\"]\n",
    "clutter= np.array(clutter)\n",
    "\n",
    "clutter = np.stack([clutter[:,:-1,:], clutter[:,1:,:]], axis=2)\n",
    "clutter = np.concatenate(clutter, axis=0)\n",
    "print(clutter.shape)\n",
    "\n",
    "for s in clutter:\n",
    "    plt.plot(s[:,0],s[:,1])"
   ]
  },
  {
   "cell_type": "code",
   "execution_count": 49,
   "metadata": {},
   "outputs": [
    {
     "name": "stdout",
     "output_type": "stream",
     "text": [
      "(426, 4) (50, 2) (50,) (49, 2) (49,)\n"
     ]
    },
    {
     "data": {
      "image/png": "[encoded data removed]",
      "text/plain": [
       "<Figure size 300x300 with 1 Axes>"
      ]
     },
     "metadata": {},
     "output_type": "display_data"
    }
   ],
   "source": [
    "fname = \"./data/test_env_2d.json\"\n",
    "segs, clutter, xs, hds, dxs, dhds = unpack_2d_env_data(fname)\n",
    "T = len(xs)\n",
    "\n",
    "print(segs.shape, xs.shape,  hds.shape, dxs.shape, dhds.shape)\n",
    "\n",
    "\n",
    "# ---------------------------\n",
    "plt.figure(figsize=(3,3))\n",
    "plt.gca().set_aspect(1)\n",
    "for s in segs.reshape(-1,2,2):\n",
    "    plt.plot(s[:,0],s[:,1], c=\"k\")\n",
    "\n",
    "for s in clutter.reshape(-1,2,2):\n",
    "    plt.plot(s[:,0],s[:,1], c=\"magenta\")"
   ]
  },
  {
   "cell_type": "code",
   "execution_count": 190,
   "metadata": {},
   "outputs": [
    {
     "data": {
      "application/vnd.jupyter.widget-view+json": {
       "model_id": "3c530b634996426abd5c495c68530e11",
       "version_major": 2,
       "version_minor": 0
      },
      "text/plain": [
       "Renderer(camera=PerspectiveCamera(aspect=1.5, children=(DirectionalLight(color='white', intensity=0.6, positio…"
      ]
     },
     "execution_count": 190,
     "metadata": {},
     "output_type": "execute_result"
    }
   ],
   "source": [
    "mesh = trimesh_from_2d_segs(segs)\n",
    "mesh = move_to_xy(mesh, 0, 0)\n",
    "table   = create_cuboid(20, 20, -0.1)\n",
    "table   = move_to_xy(table, 0, 0)\n",
    "\n",
    "v = Viewer(cam_pos=(0,-25,15), cam_look=np.array([0,0,0]), background=\"#eee\", turntable_axis=\"z\")\n",
    "v.add_mesh(mesh.vertices, mesh.faces, c=np.array([.9,.0,.9]))\n",
    "v.add_mesh(table.vertices, table.faces, c=np.array([.9,.9,.9]))\n",
    "v"
   ]
  },
  {
   "cell_type": "code",
   "execution_count": null,
   "metadata": {},
   "outputs": [],
   "source": []
  }
 ],
 "metadata": {
  "kernelspec": {
   "display_name": "bayes3d",
   "language": "python",
   "name": "python3"
  },
  "language_info": {
   "codemirror_mode": {
    "name": "ipython",
    "version": 3
   },
   "file_extension": ".py",
   "mimetype": "text/x-python",
   "name": "python",
   "nbconvert_exporter": "python",
   "pygments_lexer": "ipython3",
   "version": "3.10.12"
  },
  "orig_nbformat": 4
 },
 "nbformat": 4,
 "nbformat_minor": 2
}
